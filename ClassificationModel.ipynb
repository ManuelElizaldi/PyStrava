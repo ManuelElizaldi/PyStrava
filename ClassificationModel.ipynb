{
 "cells": [
  {
   "cell_type": "code",
   "execution_count": 268,
   "metadata": {},
   "outputs": [],
   "source": [
    "import pandas as pd \n",
    "import numpy as np\n",
    "import math\n",
    "import matplotlib.pyplot as plt\n",
    "from sklearn.model_selection import train_test_split\n",
    "from sklearn.neighbors import KNeighborsClassifier\n",
    "from sklearn.preprocessing import StandardScaler\n",
    "from sklearn.tree import DecisionTreeRegressor\n",
    "from sklearn.metrics import confusion_matrix\n",
    "from sklearn.metrics import f1_score\n",
    "from sklearn.metrics import accuracy_score, classification_report\n",
    "from sklearn.metrics import precision_score\n",
    "from sklearn.metrics import recall_score\n",
    "from sklearn.metrics import mean_squared_error\n",
    "from sklearn.preprocessing import LabelEncoder, StandardScaler\n",
    "from sklearn import neighbors\n",
    "from matplotlib import pyplot\n",
    "import seaborn as sns\n",
    "from mlxtend.plotting import plot_decision_regions\n",
    "from Functions import *"
   ]
  },
  {
   "cell_type": "code",
   "execution_count": 97,
   "metadata": {},
   "outputs": [],
   "source": [
    "# Creating dataframe \n",
    "df = pd.read_excel(r'C:\\Users\\Manuel Elizaldi\\Desktop\\Learning-Testing\\PyStrava\\Outputs\\workout_data.xls',sheet_name = 'All_Workouts_Table')\n",
    "\n",
    "# cleaning data frame\n",
    "df = df[['activity_id','sport_type','distance','workout_time_min','calories','total_elevation_gain','average_speed_km/h','max_speed_km/h','average_heartrate','max_heartrate','avg_time_per_lap','lap_count']]"
   ]
  },
  {
   "cell_type": "code",
   "execution_count": 98,
   "metadata": {},
   "outputs": [
    {
     "data": {
      "text/plain": [
       "(667, 12)"
      ]
     },
     "execution_count": 98,
     "metadata": {},
     "output_type": "execute_result"
    }
   ],
   "source": [
    "df.shape"
   ]
  },
  {
   "cell_type": "code",
   "execution_count": 99,
   "metadata": {},
   "outputs": [
    {
     "data": {
      "text/plain": [
       "array(['Run', 'Functional-Cardio Workout', 'Yoga', 'WeightTraining',\n",
       "       'MountainBikeRide', 'Hike', 'Walk', 'Ride', 'TrailRun', 'Rowing',\n",
       "       'Swim', 'Kayaking', 'AlpineSki'], dtype=object)"
      ]
     },
     "execution_count": 99,
     "metadata": {},
     "output_type": "execute_result"
    }
   ],
   "source": [
    "df['sport_type'].unique()"
   ]
  },
  {
   "cell_type": "code",
   "execution_count": 100,
   "metadata": {},
   "outputs": [],
   "source": [
    "# Creating additional dataframes for specific activities:\n",
    "# running workouts \n",
    "running_activities = df.loc[df['sport_type'].isin(['Run','TrailRun'])]\n",
    "\n",
    "# Biking type workouts\n",
    "biking_activities = df.loc[df['sport_type'].isin(['Ride','MountainBikeRide'])]\n",
    "\n",
    "# Functional type workouts\n",
    "functional_activities = df.loc[df['sport_type'].isin(['Functional-Cardio Workout'])]"
   ]
  },
  {
   "cell_type": "code",
   "execution_count": 101,
   "metadata": {},
   "outputs": [],
   "source": [
    "# create a list of our conditions\n",
    "# points are marked with comments\n",
    "distance_conditions = [\n",
    "    (df['distance']==0), # 1\n",
    "    (df['sport_type'].isin(['Run', 'TrailRun'])) & (df['distance'] >= 0) & (df['distance'] < 5), # 5\n",
    "    (df['sport_type'].isin(['Run', 'TrailRun'])) & (df['distance'] >= 5) & (df['distance'] < 10), # 10 \n",
    "    (df['sport_type'].isin(['Run', 'TrailRun'])) & (df['distance'] >= 10) & (df['distance'] < 13), # 25 \n",
    "    (df['sport_type'].isin(['Run', 'TrailRun'])) & (df['distance'] >= 13), # 30\n",
    "    (df['sport_type'].isin(['Ride', 'MountainBikeRide'])) & (df['distance'] >= 1) & (df['distance'] < 5), # 5\n",
    "    (df['sport_type'].isin(['Ride', 'MountainBikeRide'])) & (df['distance'] >= 5) & (df['distance'] < 8.5), # 10\n",
    "    (df['sport_type'].isin(['Ride', 'MountainBikeRide'])) & (df['distance'] >= 8.5) & (df['distance'] < 12), # 15\n",
    "    (df['sport_type'].isin(['Ride', 'MountainBikeRide'])) & (df['distance'] >= 12) & (df['distance'] < 15), # 20\n",
    "    (df['sport_type'].isin(['Ride', 'MountainBikeRide'])) & (df['distance'] >= 15), # 25\n",
    "    (df['sport_type'].isin(['AlpineSki']) & (df['distance'] >= 10) & (df['distance'] < 15)), # 10\n",
    "    (df['sport_type'].isin(['AlpineSki']) & (df['distance'] >= 15) & (df['distance'] < 20)), # 15\n",
    "    (df['sport_type'].isin(['AlpineSki']) & (df['distance'] >= 20)), # 20\n",
    "    (df['sport_type'].isin(['Swim'])) & (df['distance'] >= 0.10) & (df['distance'] < 0.20), # 10\n",
    "    (df['sport_type'].isin(['Swim'])) & (df['distance'] >= 0.20) & (df['distance'] < 0.30), # 15\n",
    "    (df['sport_type'].isin(['Swim'])) & (df['distance'] >= 0.30) & (df['distance'] < 0.35), # 20\n",
    "    (df['sport_type'].isin(['Swim'])) & (df['distance'] >= 0.35) & (df['distance'] < 0.40), # 25\n",
    "    (df['sport_type'].isin(['Swim'])) & (df['distance'] >= 0.40), # 30\n",
    "    (df['distance']> 0.5) & (df['distance'] < 1), # 1\n",
    "    (df['distance']> 1) & (df['distance'] < 2), # 2\n",
    "    (df['distance']> 2) & (df['distance'] < 3), # 3\n",
    "    (df['distance']> 3) & (df['distance'] < 4), # 4\n",
    "    (df['distance']> 4) # 5\n",
    "]\n",
    "\n",
    "distance_conditions_values = [1, 5, 10, 25, 30, # running\n",
    "                              5, 10, 15, 20, 25, # biking\n",
    "                              10, 15, 20, # skiing\n",
    "                              10, 15, 20, 25, 30, # swimming\n",
    "                              1, 2, 3, 4, 5 # special activitie \n",
    "                              ]\n",
    "\n",
    "# applying conditions and values\n",
    "df['distance_score'] = np.select(distance_conditions, distance_conditions_values)"
   ]
  },
  {
   "cell_type": "code",
   "execution_count": 102,
   "metadata": {},
   "outputs": [],
   "source": [
    "# building workout time score conditions and values\n",
    "workout_time_condition = [\n",
    "    (df['workout_time_min'] >= 2) & (df['workout_time_min'] < 10),\n",
    "    (df['workout_time_min'] >= 10) & (df['workout_time_min'] < 15),\n",
    "    (df['workout_time_min'] >= 15) & (df['workout_time_min'] < 20),\n",
    "    (df['workout_time_min'] >= 20) & (df['workout_time_min'] < 25),\n",
    "    (df['workout_time_min'] >= 25) & (df['workout_time_min'] < 30),\n",
    "    (df['workout_time_min'] >= 20) & (df['workout_time_min'] < 35),\n",
    "    (df['workout_time_min'] >= 35) & (df['workout_time_min'] < 40),\n",
    "    (df['workout_time_min'] >= 40) & (df['workout_time_min'] < 45),\n",
    "    (df['workout_time_min'] >= 45) & (df['workout_time_min'] < 50),\n",
    "    (df['workout_time_min'] >= 55) & (df['workout_time_min'] < 60),\n",
    "    (df['workout_time_min'] >= 60)\n",
    "]\n",
    "\n",
    "workout_time_values = [1, 5, 10, 15, 20, 25, 30, 35, 40, 45, 50]\n",
    "\n",
    "# applying the conditions and values to the dataframe\n",
    "df['workout_time_score'] = np.select(workout_time_condition, workout_time_values)\n"
   ]
  },
  {
   "cell_type": "code",
   "execution_count": 103,
   "metadata": {},
   "outputs": [],
   "source": [
    "# building calories conditions and values\n",
    "calories_conditions = [(df['calories'] >= 0) & (df['calories'] < 100), # 5\n",
    "                       (df['calories'] >= 100) & (df['calories'] < 200), # 15\n",
    "                       (df['calories'] >= 200) & (df['calories'] < 300), # 25\n",
    "                       (df['calories'] >= 300) & (df['calories'] < 400), # 35\n",
    "                       (df['calories'] >= 400) & (df['calories'] < 500), # 40\n",
    "                       (df['calories'] >= 500) & (df['calories'] < 600), # 50\n",
    "                       (df['calories'] >= 600) & (df['calories'] < 700), # 60\n",
    "                       (df['calories'] >= 700) & (df['calories'] < 800), # 70\n",
    "                       (df['calories'] >= 800) & (df['calories'] < 900), # 80\n",
    "                       (df['calories'] >= 900) & (df['calories'] < 1000), # 90\n",
    "                       (df['calories'] >= 1000) # 100\n",
    "                       ] \n",
    "\n",
    "calories_values = [5, 15, 25, 35, 40, 50, 60, 70, 80, 90, 100]\n",
    "\n",
    "df['calorie_score'] = np.select(calories_conditions, calories_values)\n"
   ]
  },
  {
   "cell_type": "code",
   "execution_count": 104,
   "metadata": {},
   "outputs": [],
   "source": [
    "# Building elevation conditions and values\n",
    "elevation_conditions = [(df['total_elevation_gain'] == 0),\n",
    "                        (df['total_elevation_gain'] >= 1) & (df['total_elevation_gain'] < 100),\n",
    "                        (df['total_elevation_gain'] >=100) & (df['total_elevation_gain'] < 200),\n",
    "                        (df['total_elevation_gain'] >= 200) & (df['total_elevation_gain'] < 300),\n",
    "                        (df['total_elevation_gain'] >= 300) & (df['total_elevation_gain'] < 400),\n",
    "                        (df['total_elevation_gain'] >= 400) & (df['total_elevation_gain'] < 500),\n",
    "                        (df['total_elevation_gain']> 500)]\n",
    "\n",
    "elevation_values = [1,5,10,15,20,25,30]\n",
    "\n",
    "\n",
    "df['total_elevation_gain_score'] = np.select(elevation_conditions, elevation_values)"
   ]
  },
  {
   "cell_type": "code",
   "execution_count": 105,
   "metadata": {},
   "outputs": [],
   "source": [
    "# replacing some of the Nans with 1 \n",
    "df['average_heartrate'] = df['average_heartrate'].fillna(1)\n",
    "# building average heartrate conditions and values\n",
    "avg_heartrate_conditions = [\n",
    "                            (df['average_heartrate'] > 0) & (df['average_heartrate'] < 100),\n",
    "                            (df['average_heartrate'] >= 100) & (df['average_heartrate'] < 130),\n",
    "                            (df['average_heartrate'] >= 130) & (df['average_heartrate'] < 145),\n",
    "                            (df['average_heartrate'] >= 145) & (df['average_heartrate'] < 155),\n",
    "                            (df['average_heartrate'] >= 155) & (df['average_heartrate'] < 165),\n",
    "                            (df['average_heartrate'] >= 165) & (df['average_heartrate'] < 170),\n",
    "                            (df['average_heartrate'] >= 170)\n",
    "                            ]\n",
    "\n",
    "avg_heartrate_values = [5, 10, 15, 20, 30, 35, 40]\n",
    "\n",
    "df['average_heartrate_score'] = np.select(avg_heartrate_conditions, avg_heartrate_values)"
   ]
  },
  {
   "cell_type": "code",
   "execution_count": 106,
   "metadata": {},
   "outputs": [],
   "source": [
    "# replacing some of the Nans with 1 \n",
    "df['max_heartrate'] = df['max_heartrate'].fillna(1)\n",
    "\n",
    "# building max heartrate conditions and values\n",
    "max_heartrate_conditions = [\n",
    "    (df['max_heartrate'] >= 0) & (df['max_heartrate'] < 80),\n",
    "    (df['max_heartrate'] >= 80) & (df['max_heartrate'] < 130),\n",
    "    (df['max_heartrate'] >= 130) & (df['max_heartrate'] < 165),\n",
    "    (df['max_heartrate'] >= 165) & (df['max_heartrate'] < 175),\n",
    "    (df['max_heartrate'] >= 175) & (df['max_heartrate'] < 185),\n",
    "    (df['max_heartrate'] >= 180)\n",
    "]\n",
    "\n",
    "max_heartrate_values = [5, 10, 15, 25, 30, 35]\n",
    "\n",
    "df['max_heartrate_score'] = np.select(max_heartrate_conditions, max_heartrate_values)"
   ]
  },
  {
   "cell_type": "code",
   "execution_count": 107,
   "metadata": {},
   "outputs": [],
   "source": [
    "# avg time per lap conditions and values\n",
    "avg_time_per_lap_conditions = [\n",
    "                               (df['avg_time_per_lap'] >= 0) & (df['avg_time_per_lap'] < 5),\n",
    "                               (df['avg_time_per_lap'] >= 5) & (df['avg_time_per_lap'] < 10),\n",
    "                               (df['avg_time_per_lap'] >= 10) & (df['avg_time_per_lap'] < 20),\n",
    "                               (df['avg_time_per_lap'] >= 20) & (df['avg_time_per_lap'] < 30),\n",
    "                               (df['avg_time_per_lap'] >= 30)\n",
    "                               ]\n",
    "\n",
    "\n",
    "avg_time_per_lap_values = [1, 5, 10, 15, 20]\n",
    "\n",
    "\n",
    "df['avg_time_per_lap_score'] = np.select(avg_time_per_lap_conditions, avg_time_per_lap_values)\n"
   ]
  },
  {
   "cell_type": "code",
   "execution_count": 170,
   "metadata": {},
   "outputs": [],
   "source": [
    "# lap count conditions and values\n",
    "lap_count_conditions = [(df['lap_count'] >= 0) & (df['lap_count'] < 3),\n",
    "                        (df['lap_count'] >= 3) & (df['lap_count'] < 4),\n",
    "                        (df['lap_count'] >= 4) & (df['lap_count'] < 5),\n",
    "                        (df['lap_count'] >= 5) & (df['lap_count'] < 6),\n",
    "                        (df['lap_count'] >= 6)\n",
    "                        ]\n",
    "\n",
    "lap_count_values = [5, 10, 20, 25, 35]\n",
    "\n",
    "df['lap_count_score'] = np.select(lap_count_conditions, lap_count_values)"
   ]
  },
  {
   "cell_type": "code",
   "execution_count": 171,
   "metadata": {},
   "outputs": [],
   "source": [
    "# create a list of our conditions\n",
    "# points are marked with comments\n",
    "distance_conditions = [\n",
    "    (df['distance']==0), # 1\n",
    "    (df['sport_type'].isin(['Run', 'TrailRun'])) & (df['distance'] >= 0) & (df['distance'] < 5), # 5\n",
    "    (df['sport_type'].isin(['Run', 'TrailRun'])) & (df['distance'] >= 5) & (df['distance'] < 10), # 10 \n",
    "    (df['sport_type'].isin(['Run', 'TrailRun'])) & (df['distance'] >= 10) & (df['distance'] < 13), # 25 \n",
    "    (df['sport_type'].isin(['Run', 'TrailRun'])) & (df['distance'] >= 13), # 30\n",
    "    (df['sport_type'].isin(['Ride', 'MountainBikeRide'])) & (df['distance'] >= 1) & (df['distance'] < 5), # 5\n",
    "    (df['sport_type'].isin(['Ride', 'MountainBikeRide'])) & (df['distance'] >= 5) & (df['distance'] < 8.5), # 10\n",
    "    (df['sport_type'].isin(['Ride', 'MountainBikeRide'])) & (df['distance'] >= 8.5) & (df['distance'] < 12), # 15\n",
    "    (df['sport_type'].isin(['Ride', 'MountainBikeRide'])) & (df['distance'] >= 12) & (df['distance'] < 15), # 20\n",
    "    (df['sport_type'].isin(['Ride', 'MountainBikeRide'])) & (df['distance'] >= 15), # 25\n",
    "    (df['sport_type'].isin(['AlpineSki']) & (df['distance'] >= 10) & (df['distance'] < 15)), # 10\n",
    "    (df['sport_type'].isin(['AlpineSki']) & (df['distance'] >= 15) & (df['distance'] < 20)), # 15\n",
    "    (df['sport_type'].isin(['AlpineSki']) & (df['distance'] >= 20)), # 20\n",
    "    (df['sport_type'].isin(['Swim'])) & (df['distance'] >= 0.10) & (df['distance'] < 0.20), # 10\n",
    "    (df['sport_type'].isin(['Swim'])) & (df['distance'] >= 0.20) & (df['distance'] < 0.30), # 15\n",
    "    (df['sport_type'].isin(['Swim'])) & (df['distance'] >= 0.30) & (df['distance'] < 0.35), # 20\n",
    "    (df['sport_type'].isin(['Swim'])) & (df['distance'] >= 0.35) & (df['distance'] < 0.40), # 25\n",
    "    (df['sport_type'].isin(['Swim'])) & (df['distance'] >= 0.40), # 30\n",
    "    (df['distance']> 0.5) & (df['distance'] < 1), # 1\n",
    "    (df['distance']> 1) & (df['distance'] < 2), # 2\n",
    "    (df['distance']> 2) & (df['distance'] < 3), # 3\n",
    "    (df['distance']> 3) & (df['distance'] < 4), # 4\n",
    "    (df['distance']> 4) # 5\n",
    "]"
   ]
  },
  {
   "cell_type": "code",
   "execution_count": 172,
   "metadata": {},
   "outputs": [],
   "source": [
    "# average speed conditions and values\n",
    "avg_speed_conditions = [(df['sport_type'].isin(['Ride', 'MountainBikeRide'])) & (df['average_speed_km/h'] >= 0) & (df['average_speed_km/h'] < 6), #5 \n",
    "                        (df['sport_type'].isin(['Ride', 'MountainBikeRide'])) & (df['average_speed_km/h'] >= 6) & (df['average_speed_km/h'] < 12),#10\n",
    "                        (df['sport_type'].isin(['Ride', 'MountainBikeRide'])) & (df['average_speed_km/h'] >= 12) & (df['average_speed_km/h'] < 14),#15\n",
    "                        (df['sport_type'].isin(['Ride', 'MountainBikeRide'])) & (df['average_speed_km/h'] >= 14) & (df['average_speed_km/h'] < 18),#20\n",
    "                        (df['sport_type'].isin(['Ride', 'MountainBikeRide'])) & (df['average_speed_km/h'] >= 18),#25\n",
    "                        (df['average_speed_km/h'] == 0), #1\n",
    "                        (df['average_speed_km/h'] >= 0) & (df['average_speed_km/h'] < 5), # 5\n",
    "                        (df['average_speed_km/h'] >= 5) & (df['average_speed_km/h'] < 7), # 10\n",
    "                        (df['average_speed_km/h'] >= 7) & (df['average_speed_km/h'] < 9), # 15\n",
    "                        (df['average_speed_km/h'] >= 9) & (df['average_speed_km/h'] < 10), # 25 \n",
    "                        (df['average_speed_km/h'] >= 10) & (df['average_speed_km/h'] < 11), # 30\n",
    "                        (df['average_speed_km/h'] >= 11) , # 35\n",
    "]\n",
    "avg_speed_values = [5,10,15,20,25,1,5,10,15,25,30,35]\n",
    "\n",
    "\n",
    "df['avg_speed_score'] = np.select(avg_speed_conditions, avg_speed_values)"
   ]
  },
  {
   "cell_type": "code",
   "execution_count": 173,
   "metadata": {},
   "outputs": [],
   "source": [
    "# max speed conditions and values\n",
    "max_speed_conditions = [(df['sport_type'].isin(['Ride', 'MountainBikeRide'])) & (df['max_speed_km/h'] >= 0) & (df['max_speed_km/h'] < 15), # 5\n",
    "                        (df['sport_type'].isin(['Ride', 'MountainBikeRide'])) & (df['max_speed_km/h'] >= 15) & (df['max_speed_km/h'] < 20),# 10\n",
    "                        (df['sport_type'].isin(['Ride', 'MountainBikeRide'])) & (df['max_speed_km/h'] >= 20) & (df['max_speed_km/h'] < 25),# 15\n",
    "                        (df['sport_type'].isin(['Ride', 'MountainBikeRide'])) & (df['max_speed_km/h'] >= 25) & (df['max_speed_km/h'] < 30),# 20\n",
    "                        (df['sport_type'].isin(['Ride', 'MountainBikeRide'])) & (df['max_speed_km/h'] >= 30) & (df['max_speed_km/h'] < 35),# 25\n",
    "                        (df['sport_type'].isin(['Ride', 'MountainBikeRide'])) & (df['max_speed_km/h'] >= 35),# 30\n",
    "                        (df['max_speed_km/h'] == 0), # 1\n",
    "                        (df['max_speed_km/h'] >= 0) & (df['max_speed_km/h'] < 5),# 5\n",
    "                        (df['max_speed_km/h'] >= 5) & (df['max_speed_km/h'] < 10), # 10\n",
    "                        (df['max_speed_km/h'] >= 10) & (df['max_speed_km/h'] < 15), # 15\n",
    "                        (df['max_speed_km/h'] >= 15) & (df['max_speed_km/h'] < 20),# 20\n",
    "                        (df['max_speed_km/h'] >= 25) & (df['max_speed_km/h'] < 30),# 25\n",
    "                        (df['max_speed_km/h'] >= 30) & (df['max_speed_km/h'] < 35),# 30 \n",
    "                        (df['max_speed_km/h'] >= 35)# 35\n",
    "                        ]\n",
    "\n",
    "max_speed_values = [5, 10, 15, 20, 25, 30, 1, 5, 10, 15, 20, 25, 30, 35]\n",
    "\n",
    "\n",
    "df['max_speed_score'] = np.select(max_speed_conditions, max_speed_values)"
   ]
  },
  {
   "cell_type": "code",
   "execution_count": 179,
   "metadata": {},
   "outputs": [],
   "source": [
    "df.to_csv(r'C:\\Users\\Manuel Elizaldi\\Desktop\\Learning-Testing\\PyStrava\\Outputs\\workout_data_with_score.csv')"
   ]
  },
  {
   "cell_type": "code",
   "execution_count": 187,
   "metadata": {},
   "outputs": [],
   "source": [
    "# Getting effort score for each workout\n",
    "df['effort_score'] = df['distance_score'] + df['workout_time_score'] + df['calorie_score'] + df['total_elevation_gain_score'] + df['average_heartrate_score'] + df['max_heartrate_score'] + df['avg_time_per_lap_score'] +df['lap_count_score'] + df['avg_speed_score'] +df['max_speed_score']"
   ]
  },
  {
   "cell_type": "code",
   "execution_count": 188,
   "metadata": {},
   "outputs": [],
   "source": [
    "# creating low, medium and high effort scores column depending on the total amount of points\n",
    "score_conditions = [(df['effort_score'] >= 0) & (df['effort_score'] < 100),\n",
    "                    (df['effort_score'] >= 100) & (df['effort_score'] < 125),\n",
    "                    (df['effort_score'] >= 125) & (df['effort_score'] < 150),\n",
    "                    (df['effort_score'] >= 150)]\n",
    "\n",
    "score_values = ['No Effort','Low Effort','Medium Effort','High Effort']\n",
    "\n",
    "\n",
    "df['effort_score_label'] = np.select(score_conditions, score_values)"
   ]
  },
  {
   "cell_type": "code",
   "execution_count": 190,
   "metadata": {},
   "outputs": [],
   "source": [
    "# Creating effort score dataframe, this dataframe contains the scores from each feature and will be used in the model \n",
    "score_df = df[[\n",
    "    'activity_id',\n",
    "    'sport_type',\n",
    "    'distance_score',\n",
    "    'workout_time_score',\n",
    "    'calorie_score',\n",
    "    'total_elevation_gain_score',\n",
    "    'average_heartrate_score',\n",
    "    'max_heartrate_score',\n",
    "    'avg_time_per_lap_score',\n",
    "    'lap_count_score',\n",
    "    'avg_speed_score',\n",
    "    'max_speed_score',\n",
    "    'effort_score']]"
   ]
  },
  {
   "cell_type": "code",
   "execution_count": 191,
   "metadata": {},
   "outputs": [
    {
     "name": "stdout",
     "output_type": "stream",
     "text": [
      "Medium Effort    226\n",
      "High Effort      224\n",
      "Low Effort       130\n",
      "No Effort         87\n",
      "Name: effort_score_label, dtype: int64\n"
     ]
    },
    {
     "name": "stderr",
     "output_type": "stream",
     "text": [
      "c:\\Users\\Manuel Elizaldi\\anaconda3\\lib\\site-packages\\seaborn\\_decorators.py:36: FutureWarning: Pass the following variable as a keyword arg: x. From version 0.12, the only valid positional argument will be `data`, and passing other arguments without an explicit keyword will result in an error or misinterpretation.\n",
      "  warnings.warn(\n"
     ]
    },
    {
     "data": {
      "image/png": "[encoded data removed]",
      "text/plain": [
       "<Figure size 432x288 with 1 Axes>"
      ]
     },
     "metadata": {
      "needs_background": "light"
     },
     "output_type": "display_data"
    }
   ],
   "source": [
    "# checking workout type distribution\n",
    "sns.countplot(df['effort_score_label']) # type: ignore\n",
    "print(df['effort_score_label'].value_counts())"
   ]
  },
  {
   "cell_type": "code",
   "execution_count": 267,
   "metadata": {},
   "outputs": [],
   "source": [
    "effort_counter = df.groupby(['sport_type', 'effort_score_label'])['effort_score_label'].count().unstack().fillna('-')\n",
    "effort_counter.reset_index(inplace=True)\n",
    "effort_counter.to_csv(r'C:\\Users\\Manuel Elizaldi\\Desktop\\Learning-Testing\\PyStrava\\Outputs\\effort_counter.csv')"
   ]
  },
  {
   "cell_type": "code",
   "execution_count": 124,
   "metadata": {},
   "outputs": [],
   "source": [
    "score_df.to_csv(r'C:\\Users\\Manuel Elizaldi\\Desktop\\Learning-Testing\\PyStrava\\Outputs\\score_df.csv')\n",
    "df.to_excel(r'')"
   ]
  },
  {
   "cell_type": "code",
   "execution_count": 117,
   "metadata": {},
   "outputs": [
    {
     "data": {
      "text/html": [
       "<div>\n",
       "<style scoped>\n",
       "    .dataframe tbody tr th:only-of-type {\n",
       "        vertical-align: middle;\n",
       "    }\n",
       "\n",
       "    .dataframe tbody tr th {\n",
       "        vertical-align: top;\n",
       "    }\n",
       "\n",
       "    .dataframe thead th {\n",
       "        text-align: right;\n",
       "    }\n",
       "</style>\n",
       "<table border=\"1\" class=\"dataframe\">\n",
       "  <thead>\n",
       "    <tr style=\"text-align: right;\">\n",
       "      <th></th>\n",
       "      <th>distance_score</th>\n",
       "      <th>workout_time_score</th>\n",
       "      <th>calorie_score</th>\n",
       "      <th>total_elevation_gain_score</th>\n",
       "      <th>average_heartrate_score</th>\n",
       "      <th>max_heartrate_score</th>\n",
       "      <th>avg_time_per_lap_score</th>\n",
       "      <th>lap_count_score</th>\n",
       "      <th>avg_speed_score</th>\n",
       "      <th>max_speed_score</th>\n",
       "      <th>effort_score</th>\n",
       "      <th>effort_score_label</th>\n",
       "    </tr>\n",
       "  </thead>\n",
       "  <tbody>\n",
       "    <tr>\n",
       "      <th>0</th>\n",
       "      <td>10</td>\n",
       "      <td>35</td>\n",
       "      <td>40</td>\n",
       "      <td>5</td>\n",
       "      <td>20</td>\n",
       "      <td>15</td>\n",
       "      <td>5</td>\n",
       "      <td>30</td>\n",
       "      <td>15</td>\n",
       "      <td>15</td>\n",
       "      <td>190</td>\n",
       "      <td>High Effort</td>\n",
       "    </tr>\n",
       "    <tr>\n",
       "      <th>1</th>\n",
       "      <td>1</td>\n",
       "      <td>25</td>\n",
       "      <td>35</td>\n",
       "      <td>1</td>\n",
       "      <td>20</td>\n",
       "      <td>30</td>\n",
       "      <td>5</td>\n",
       "      <td>30</td>\n",
       "      <td>5</td>\n",
       "      <td>5</td>\n",
       "      <td>157</td>\n",
       "      <td>High Effort</td>\n",
       "    </tr>\n",
       "    <tr>\n",
       "      <th>2</th>\n",
       "      <td>1</td>\n",
       "      <td>10</td>\n",
       "      <td>15</td>\n",
       "      <td>1</td>\n",
       "      <td>20</td>\n",
       "      <td>30</td>\n",
       "      <td>5</td>\n",
       "      <td>10</td>\n",
       "      <td>5</td>\n",
       "      <td>5</td>\n",
       "      <td>102</td>\n",
       "      <td>Low Effort</td>\n",
       "    </tr>\n",
       "    <tr>\n",
       "      <th>3</th>\n",
       "      <td>1</td>\n",
       "      <td>15</td>\n",
       "      <td>25</td>\n",
       "      <td>1</td>\n",
       "      <td>20</td>\n",
       "      <td>25</td>\n",
       "      <td>1</td>\n",
       "      <td>25</td>\n",
       "      <td>5</td>\n",
       "      <td>5</td>\n",
       "      <td>123</td>\n",
       "      <td>Medium Effort</td>\n",
       "    </tr>\n",
       "    <tr>\n",
       "      <th>4</th>\n",
       "      <td>1</td>\n",
       "      <td>10</td>\n",
       "      <td>15</td>\n",
       "      <td>1</td>\n",
       "      <td>10</td>\n",
       "      <td>15</td>\n",
       "      <td>10</td>\n",
       "      <td>5</td>\n",
       "      <td>5</td>\n",
       "      <td>5</td>\n",
       "      <td>77</td>\n",
       "      <td>Low Effort</td>\n",
       "    </tr>\n",
       "    <tr>\n",
       "      <th>...</th>\n",
       "      <td>...</td>\n",
       "      <td>...</td>\n",
       "      <td>...</td>\n",
       "      <td>...</td>\n",
       "      <td>...</td>\n",
       "      <td>...</td>\n",
       "      <td>...</td>\n",
       "      <td>...</td>\n",
       "      <td>...</td>\n",
       "      <td>...</td>\n",
       "      <td>...</td>\n",
       "      <td>...</td>\n",
       "    </tr>\n",
       "    <tr>\n",
       "      <th>662</th>\n",
       "      <td>5</td>\n",
       "      <td>20</td>\n",
       "      <td>35</td>\n",
       "      <td>5</td>\n",
       "      <td>5</td>\n",
       "      <td>5</td>\n",
       "      <td>15</td>\n",
       "      <td>5</td>\n",
       "      <td>15</td>\n",
       "      <td>20</td>\n",
       "      <td>130</td>\n",
       "      <td>Medium Effort</td>\n",
       "    </tr>\n",
       "    <tr>\n",
       "      <th>663</th>\n",
       "      <td>15</td>\n",
       "      <td>30</td>\n",
       "      <td>5</td>\n",
       "      <td>5</td>\n",
       "      <td>5</td>\n",
       "      <td>5</td>\n",
       "      <td>20</td>\n",
       "      <td>5</td>\n",
       "      <td>20</td>\n",
       "      <td>30</td>\n",
       "      <td>140</td>\n",
       "      <td>Medium Effort</td>\n",
       "    </tr>\n",
       "    <tr>\n",
       "      <th>664</th>\n",
       "      <td>5</td>\n",
       "      <td>30</td>\n",
       "      <td>40</td>\n",
       "      <td>5</td>\n",
       "      <td>5</td>\n",
       "      <td>5</td>\n",
       "      <td>20</td>\n",
       "      <td>5</td>\n",
       "      <td>15</td>\n",
       "      <td>20</td>\n",
       "      <td>150</td>\n",
       "      <td>High Effort</td>\n",
       "    </tr>\n",
       "    <tr>\n",
       "      <th>665</th>\n",
       "      <td>5</td>\n",
       "      <td>25</td>\n",
       "      <td>35</td>\n",
       "      <td>5</td>\n",
       "      <td>5</td>\n",
       "      <td>5</td>\n",
       "      <td>20</td>\n",
       "      <td>5</td>\n",
       "      <td>10</td>\n",
       "      <td>20</td>\n",
       "      <td>135</td>\n",
       "      <td>Medium Effort</td>\n",
       "    </tr>\n",
       "    <tr>\n",
       "      <th>666</th>\n",
       "      <td>5</td>\n",
       "      <td>30</td>\n",
       "      <td>40</td>\n",
       "      <td>5</td>\n",
       "      <td>5</td>\n",
       "      <td>5</td>\n",
       "      <td>20</td>\n",
       "      <td>5</td>\n",
       "      <td>15</td>\n",
       "      <td>25</td>\n",
       "      <td>155</td>\n",
       "      <td>High Effort</td>\n",
       "    </tr>\n",
       "  </tbody>\n",
       "</table>\n",
       "<p>667 rows × 12 columns</p>\n",
       "</div>"
      ],
      "text/plain": [
       "     distance_score  workout_time_score  calorie_score  \\\n",
       "0                10                  35             40   \n",
       "1                 1                  25             35   \n",
       "2                 1                  10             15   \n",
       "3                 1                  15             25   \n",
       "4                 1                  10             15   \n",
       "..              ...                 ...            ...   \n",
       "662               5                  20             35   \n",
       "663              15                  30              5   \n",
       "664               5                  30             40   \n",
       "665               5                  25             35   \n",
       "666               5                  30             40   \n",
       "\n",
       "     total_elevation_gain_score  average_heartrate_score  max_heartrate_score  \\\n",
       "0                             5                       20                   15   \n",
       "1                             1                       20                   30   \n",
       "2                             1                       20                   30   \n",
       "3                             1                       20                   25   \n",
       "4                             1                       10                   15   \n",
       "..                          ...                      ...                  ...   \n",
       "662                           5                        5                    5   \n",
       "663                           5                        5                    5   \n",
       "664                           5                        5                    5   \n",
       "665                           5                        5                    5   \n",
       "666                           5                        5                    5   \n",
       "\n",
       "     avg_time_per_lap_score  lap_count_score  avg_speed_score  \\\n",
       "0                         5               30               15   \n",
       "1                         5               30                5   \n",
       "2                         5               10                5   \n",
       "3                         1               25                5   \n",
       "4                        10                5                5   \n",
       "..                      ...              ...              ...   \n",
       "662                      15                5               15   \n",
       "663                      20                5               20   \n",
       "664                      20                5               15   \n",
       "665                      20                5               10   \n",
       "666                      20                5               15   \n",
       "\n",
       "     max_speed_score  effort_score effort_score_label  \n",
       "0                 15           190        High Effort  \n",
       "1                  5           157        High Effort  \n",
       "2                  5           102         Low Effort  \n",
       "3                  5           123      Medium Effort  \n",
       "4                  5            77         Low Effort  \n",
       "..               ...           ...                ...  \n",
       "662               20           130      Medium Effort  \n",
       "663               30           140      Medium Effort  \n",
       "664               20           150        High Effort  \n",
       "665               20           135      Medium Effort  \n",
       "666               25           155        High Effort  \n",
       "\n",
       "[667 rows x 12 columns]"
      ]
     },
     "execution_count": 117,
     "metadata": {},
     "output_type": "execute_result"
    }
   ],
   "source": [
    "# Creating features df, this will only contain the scores for each column\n",
    "feature_df = score_df.iloc[:,2:15]\n",
    "feature_df"
   ]
  },
  {
   "cell_type": "code",
   "execution_count": 118,
   "metadata": {},
   "outputs": [],
   "source": [
    "feature_df.to_csv(r'C:\\Users\\Manuel Elizaldi\\Desktop\\Learning-Testing\\PyStrava\\Outputs\\test.csv')"
   ]
  },
  {
   "cell_type": "code",
   "execution_count": 119,
   "metadata": {},
   "outputs": [],
   "source": [
    "# data prep for model \n",
    "# X -> Features, y -> labels\n",
    "X = feature_df.iloc[:,0:11]\n",
    "y = feature_df.iloc[:,11]\n",
    "\n",
    "# dividing X, y into train and test data\n",
    "X_train, X_test, y_train, y_test = train_test_split(X, y,test_size=0.2, random_state=0)"
   ]
  },
  {
   "cell_type": "code",
   "execution_count": 120,
   "metadata": {},
   "outputs": [],
   "source": [
    "# Feature scaling - sets numbers to a similar range\n",
    "sc_X = StandardScaler()\n",
    "X_train = sc_X.fit_transform(X_train)\n",
    "X_test = sc_X.fit_transform(X_test)"
   ]
  },
  {
   "cell_type": "code",
   "execution_count": 121,
   "metadata": {},
   "outputs": [
    {
     "data": {
      "text/plain": [
       "23.08679276123039"
      ]
     },
     "execution_count": 121,
     "metadata": {},
     "output_type": "execute_result"
    }
   ],
   "source": [
    "# determining best k, aim for an odd number \n",
    "math.sqrt(len(y_train))"
   ]
  },
  {
   "cell_type": "code",
   "execution_count": 122,
   "metadata": {},
   "outputs": [
    {
     "data": {
      "text/plain": [
       "array(['Medium Effort', 'Medium Effort', 'Medium Effort', 'High Effort',\n",
       "       'High Effort', 'High Effort', 'Medium Effort', 'Medium Effort',\n",
       "       'Low Effort', 'High Effort', 'Medium Effort', 'High Effort',\n",
       "       'High Effort', 'Medium Effort', 'Low Effort', 'Medium Effort',\n",
       "       'High Effort', 'Low Effort', 'Medium Effort', 'High Effort',\n",
       "       'High Effort', 'High Effort', 'High Effort', 'High Effort',\n",
       "       'High Effort', 'High Effort', 'Low Effort', 'High Effort',\n",
       "       'High Effort', 'High Effort', 'High Effort', 'Low Effort',\n",
       "       'Medium Effort', 'High Effort', 'High Effort', 'Low Effort',\n",
       "       'Low Effort', 'Medium Effort', 'Low Effort', 'Low Effort',\n",
       "       'Medium Effort', 'High Effort', 'High Effort', 'High Effort',\n",
       "       'Low Effort', 'Medium Effort', 'Medium Effort', 'Low Effort',\n",
       "       'Low Effort', 'High Effort', 'Medium Effort', 'High Effort',\n",
       "       'Medium Effort', 'High Effort', 'High Effort', 'Medium Effort',\n",
       "       'High Effort', 'High Effort', 'Medium Effort', 'Medium Effort',\n",
       "       'Low Effort', 'High Effort', 'Low Effort', 'Low Effort',\n",
       "       'Medium Effort', 'High Effort', 'High Effort', 'High Effort',\n",
       "       'Medium Effort', 'Medium Effort', 'High Effort', 'High Effort',\n",
       "       'High Effort', 'High Effort', 'Medium Effort', 'High Effort',\n",
       "       'High Effort', 'Medium Effort', 'High Effort', 'High Effort',\n",
       "       'Medium Effort', 'High Effort', 'High Effort', 'High Effort',\n",
       "       'High Effort', 'High Effort', 'Low Effort', 'High Effort',\n",
       "       'High Effort', 'Low Effort', 'Low Effort', 'High Effort',\n",
       "       'Low Effort', 'High Effort', 'Low Effort', 'High Effort',\n",
       "       'High Effort', 'Medium Effort', 'Low Effort', 'High Effort',\n",
       "       'High Effort', 'Low Effort', 'Low Effort', 'Low Effort',\n",
       "       'Medium Effort', 'Medium Effort', 'High Effort', 'High Effort',\n",
       "       'High Effort', 'Low Effort', 'High Effort', 'Medium Effort',\n",
       "       'High Effort', 'Medium Effort', 'High Effort', 'Medium Effort',\n",
       "       'Low Effort', 'High Effort', 'Medium Effort', 'Medium Effort',\n",
       "       'Medium Effort', 'Low Effort', 'Medium Effort', 'Low Effort',\n",
       "       'High Effort', 'High Effort', 'High Effort', 'High Effort',\n",
       "       'High Effort', 'High Effort', 'High Effort', 'High Effort',\n",
       "       'Medium Effort', 'Medium Effort'], dtype=object)"
      ]
     },
     "execution_count": 122,
     "metadata": {},
     "output_type": "execute_result"
    }
   ],
   "source": [
    "# training a KNN classifier\n",
    "classifier = KNeighborsClassifier(n_neighbors = 23, p = 3, metric='euclidean').fit(X_train, y_train)\n",
    "\n",
    "# predict the test set results\n",
    "y_pred = classifier.predict(X_test)\n",
    "y_pred"
   ]
  },
  {
   "cell_type": "code",
   "execution_count": 123,
   "metadata": {},
   "outputs": [
    {
     "ename": "ValueError",
     "evalue": "could not convert string to float: 'Medium Effort'",
     "output_type": "error",
     "traceback": [
      "\u001b[1;31m---------------------------------------------------------------------------\u001b[0m",
      "\u001b[1;31mValueError\u001b[0m                                Traceback (most recent call last)",
      "\u001b[1;32m<ipython-input-123-4d2fd6d7b620>\u001b[0m in \u001b[0;36m<module>\u001b[1;34m\u001b[0m\n\u001b[1;32m----> 1\u001b[1;33m \u001b[0mmse\u001b[0m \u001b[1;33m=\u001b[0m \u001b[0mmean_squared_error\u001b[0m\u001b[1;33m(\u001b[0m\u001b[0my_test\u001b[0m\u001b[1;33m,\u001b[0m \u001b[0my_pred\u001b[0m\u001b[1;33m)\u001b[0m\u001b[1;33m\u001b[0m\u001b[1;33m\u001b[0m\u001b[0m\n\u001b[0m\u001b[0;32m      2\u001b[0m \u001b[0mrmse\u001b[0m \u001b[1;33m=\u001b[0m \u001b[0mmath\u001b[0m\u001b[1;33m.\u001b[0m\u001b[0msqrt\u001b[0m\u001b[1;33m(\u001b[0m\u001b[0mmse\u001b[0m\u001b[1;33m)\u001b[0m\u001b[1;33m\u001b[0m\u001b[1;33m\u001b[0m\u001b[0m\n\u001b[0;32m      3\u001b[0m \u001b[0mrmse\u001b[0m\u001b[1;33m\u001b[0m\u001b[1;33m\u001b[0m\u001b[0m\n",
      "\u001b[1;32mc:\\Users\\Manuel Elizaldi\\anaconda3\\lib\\site-packages\\sklearn\\metrics\\_regression.py\u001b[0m in \u001b[0;36mmean_squared_error\u001b[1;34m(y_true, y_pred, sample_weight, multioutput, squared)\u001b[0m\n\u001b[0;32m    440\u001b[0m     \u001b[1;36m0.825\u001b[0m\u001b[1;33m...\u001b[0m\u001b[1;33m\u001b[0m\u001b[1;33m\u001b[0m\u001b[0m\n\u001b[0;32m    441\u001b[0m     \"\"\"\n\u001b[1;32m--> 442\u001b[1;33m     y_type, y_true, y_pred, multioutput = _check_reg_targets(\n\u001b[0m\u001b[0;32m    443\u001b[0m         \u001b[0my_true\u001b[0m\u001b[1;33m,\u001b[0m \u001b[0my_pred\u001b[0m\u001b[1;33m,\u001b[0m \u001b[0mmultioutput\u001b[0m\u001b[1;33m\u001b[0m\u001b[1;33m\u001b[0m\u001b[0m\n\u001b[0;32m    444\u001b[0m     )\n",
      "\u001b[1;32mc:\\Users\\Manuel Elizaldi\\anaconda3\\lib\\site-packages\\sklearn\\metrics\\_regression.py\u001b[0m in \u001b[0;36m_check_reg_targets\u001b[1;34m(y_true, y_pred, multioutput, dtype)\u001b[0m\n\u001b[0;32m     99\u001b[0m     \"\"\"\n\u001b[0;32m    100\u001b[0m     \u001b[0mcheck_consistent_length\u001b[0m\u001b[1;33m(\u001b[0m\u001b[0my_true\u001b[0m\u001b[1;33m,\u001b[0m \u001b[0my_pred\u001b[0m\u001b[1;33m)\u001b[0m\u001b[1;33m\u001b[0m\u001b[1;33m\u001b[0m\u001b[0m\n\u001b[1;32m--> 101\u001b[1;33m     \u001b[0my_true\u001b[0m \u001b[1;33m=\u001b[0m \u001b[0mcheck_array\u001b[0m\u001b[1;33m(\u001b[0m\u001b[0my_true\u001b[0m\u001b[1;33m,\u001b[0m \u001b[0mensure_2d\u001b[0m\u001b[1;33m=\u001b[0m\u001b[1;32mFalse\u001b[0m\u001b[1;33m,\u001b[0m \u001b[0mdtype\u001b[0m\u001b[1;33m=\u001b[0m\u001b[0mdtype\u001b[0m\u001b[1;33m)\u001b[0m\u001b[1;33m\u001b[0m\u001b[1;33m\u001b[0m\u001b[0m\n\u001b[0m\u001b[0;32m    102\u001b[0m     \u001b[0my_pred\u001b[0m \u001b[1;33m=\u001b[0m \u001b[0mcheck_array\u001b[0m\u001b[1;33m(\u001b[0m\u001b[0my_pred\u001b[0m\u001b[1;33m,\u001b[0m \u001b[0mensure_2d\u001b[0m\u001b[1;33m=\u001b[0m\u001b[1;32mFalse\u001b[0m\u001b[1;33m,\u001b[0m \u001b[0mdtype\u001b[0m\u001b[1;33m=\u001b[0m\u001b[0mdtype\u001b[0m\u001b[1;33m)\u001b[0m\u001b[1;33m\u001b[0m\u001b[1;33m\u001b[0m\u001b[0m\n\u001b[0;32m    103\u001b[0m \u001b[1;33m\u001b[0m\u001b[0m\n",
      "\u001b[1;32mc:\\Users\\Manuel Elizaldi\\anaconda3\\lib\\site-packages\\sklearn\\utils\\validation.py\u001b[0m in \u001b[0;36mcheck_array\u001b[1;34m(array, accept_sparse, accept_large_sparse, dtype, order, copy, force_all_finite, ensure_2d, allow_nd, ensure_min_samples, ensure_min_features, estimator, input_name)\u001b[0m\n\u001b[0;32m    877\u001b[0m                     \u001b[0marray\u001b[0m \u001b[1;33m=\u001b[0m \u001b[0mxp\u001b[0m\u001b[1;33m.\u001b[0m\u001b[0mastype\u001b[0m\u001b[1;33m(\u001b[0m\u001b[0marray\u001b[0m\u001b[1;33m,\u001b[0m \u001b[0mdtype\u001b[0m\u001b[1;33m,\u001b[0m \u001b[0mcopy\u001b[0m\u001b[1;33m=\u001b[0m\u001b[1;32mFalse\u001b[0m\u001b[1;33m)\u001b[0m\u001b[1;33m\u001b[0m\u001b[1;33m\u001b[0m\u001b[0m\n\u001b[0;32m    878\u001b[0m                 \u001b[1;32melse\u001b[0m\u001b[1;33m:\u001b[0m\u001b[1;33m\u001b[0m\u001b[1;33m\u001b[0m\u001b[0m\n\u001b[1;32m--> 879\u001b[1;33m                     \u001b[0marray\u001b[0m \u001b[1;33m=\u001b[0m \u001b[0m_asarray_with_order\u001b[0m\u001b[1;33m(\u001b[0m\u001b[0marray\u001b[0m\u001b[1;33m,\u001b[0m \u001b[0morder\u001b[0m\u001b[1;33m=\u001b[0m\u001b[0morder\u001b[0m\u001b[1;33m,\u001b[0m \u001b[0mdtype\u001b[0m\u001b[1;33m=\u001b[0m\u001b[0mdtype\u001b[0m\u001b[1;33m,\u001b[0m \u001b[0mxp\u001b[0m\u001b[1;33m=\u001b[0m\u001b[0mxp\u001b[0m\u001b[1;33m)\u001b[0m\u001b[1;33m\u001b[0m\u001b[1;33m\u001b[0m\u001b[0m\n\u001b[0m\u001b[0;32m    880\u001b[0m             \u001b[1;32mexcept\u001b[0m \u001b[0mComplexWarning\u001b[0m \u001b[1;32mas\u001b[0m \u001b[0mcomplex_warning\u001b[0m\u001b[1;33m:\u001b[0m\u001b[1;33m\u001b[0m\u001b[1;33m\u001b[0m\u001b[0m\n\u001b[0;32m    881\u001b[0m                 raise ValueError(\n",
      "\u001b[1;32mc:\\Users\\Manuel Elizaldi\\anaconda3\\lib\\site-packages\\sklearn\\utils\\_array_api.py\u001b[0m in \u001b[0;36m_asarray_with_order\u001b[1;34m(array, dtype, order, copy, xp)\u001b[0m\n\u001b[0;32m    183\u001b[0m     \u001b[1;32mif\u001b[0m \u001b[0mxp\u001b[0m\u001b[1;33m.\u001b[0m\u001b[0m__name__\u001b[0m \u001b[1;32min\u001b[0m \u001b[1;33m{\u001b[0m\u001b[1;34m\"numpy\"\u001b[0m\u001b[1;33m,\u001b[0m \u001b[1;34m\"numpy.array_api\"\u001b[0m\u001b[1;33m}\u001b[0m\u001b[1;33m:\u001b[0m\u001b[1;33m\u001b[0m\u001b[1;33m\u001b[0m\u001b[0m\n\u001b[0;32m    184\u001b[0m         \u001b[1;31m# Use NumPy API to support order\u001b[0m\u001b[1;33m\u001b[0m\u001b[1;33m\u001b[0m\u001b[1;33m\u001b[0m\u001b[0m\n\u001b[1;32m--> 185\u001b[1;33m         \u001b[0marray\u001b[0m \u001b[1;33m=\u001b[0m \u001b[0mnumpy\u001b[0m\u001b[1;33m.\u001b[0m\u001b[0masarray\u001b[0m\u001b[1;33m(\u001b[0m\u001b[0marray\u001b[0m\u001b[1;33m,\u001b[0m \u001b[0morder\u001b[0m\u001b[1;33m=\u001b[0m\u001b[0morder\u001b[0m\u001b[1;33m,\u001b[0m \u001b[0mdtype\u001b[0m\u001b[1;33m=\u001b[0m\u001b[0mdtype\u001b[0m\u001b[1;33m)\u001b[0m\u001b[1;33m\u001b[0m\u001b[1;33m\u001b[0m\u001b[0m\n\u001b[0m\u001b[0;32m    186\u001b[0m         \u001b[1;32mreturn\u001b[0m \u001b[0mxp\u001b[0m\u001b[1;33m.\u001b[0m\u001b[0masarray\u001b[0m\u001b[1;33m(\u001b[0m\u001b[0marray\u001b[0m\u001b[1;33m,\u001b[0m \u001b[0mcopy\u001b[0m\u001b[1;33m=\u001b[0m\u001b[0mcopy\u001b[0m\u001b[1;33m)\u001b[0m\u001b[1;33m\u001b[0m\u001b[1;33m\u001b[0m\u001b[0m\n\u001b[0;32m    187\u001b[0m     \u001b[1;32melse\u001b[0m\u001b[1;33m:\u001b[0m\u001b[1;33m\u001b[0m\u001b[1;33m\u001b[0m\u001b[0m\n",
      "\u001b[1;32mc:\\Users\\Manuel Elizaldi\\anaconda3\\lib\\site-packages\\pandas\\core\\series.py\u001b[0m in \u001b[0;36m__array__\u001b[1;34m(self, dtype)\u001b[0m\n\u001b[0;32m    795\u001b[0m               dtype='datetime64[ns]')\n\u001b[0;32m    796\u001b[0m         \"\"\"\n\u001b[1;32m--> 797\u001b[1;33m         \u001b[1;32mreturn\u001b[0m \u001b[0mnp\u001b[0m\u001b[1;33m.\u001b[0m\u001b[0masarray\u001b[0m\u001b[1;33m(\u001b[0m\u001b[0mself\u001b[0m\u001b[1;33m.\u001b[0m\u001b[0marray\u001b[0m\u001b[1;33m,\u001b[0m \u001b[0mdtype\u001b[0m\u001b[1;33m)\u001b[0m\u001b[1;33m\u001b[0m\u001b[1;33m\u001b[0m\u001b[0m\n\u001b[0m\u001b[0;32m    798\u001b[0m \u001b[1;33m\u001b[0m\u001b[0m\n\u001b[0;32m    799\u001b[0m     \u001b[1;31m# ----------------------------------------------------------------------\u001b[0m\u001b[1;33m\u001b[0m\u001b[1;33m\u001b[0m\u001b[1;33m\u001b[0m\u001b[0m\n",
      "\u001b[1;32mc:\\Users\\Manuel Elizaldi\\anaconda3\\lib\\site-packages\\pandas\\core\\arrays\\numpy_.py\u001b[0m in \u001b[0;36m__array__\u001b[1;34m(self, dtype)\u001b[0m\n\u001b[0;32m    209\u001b[0m \u001b[1;33m\u001b[0m\u001b[0m\n\u001b[0;32m    210\u001b[0m     \u001b[1;32mdef\u001b[0m \u001b[0m__array__\u001b[0m\u001b[1;33m(\u001b[0m\u001b[0mself\u001b[0m\u001b[1;33m,\u001b[0m \u001b[0mdtype\u001b[0m\u001b[1;33m=\u001b[0m\u001b[1;32mNone\u001b[0m\u001b[1;33m)\u001b[0m \u001b[1;33m->\u001b[0m \u001b[0mnp\u001b[0m\u001b[1;33m.\u001b[0m\u001b[0mndarray\u001b[0m\u001b[1;33m:\u001b[0m\u001b[1;33m\u001b[0m\u001b[1;33m\u001b[0m\u001b[0m\n\u001b[1;32m--> 211\u001b[1;33m         \u001b[1;32mreturn\u001b[0m \u001b[0mnp\u001b[0m\u001b[1;33m.\u001b[0m\u001b[0masarray\u001b[0m\u001b[1;33m(\u001b[0m\u001b[0mself\u001b[0m\u001b[1;33m.\u001b[0m\u001b[0m_ndarray\u001b[0m\u001b[1;33m,\u001b[0m \u001b[0mdtype\u001b[0m\u001b[1;33m=\u001b[0m\u001b[0mdtype\u001b[0m\u001b[1;33m)\u001b[0m\u001b[1;33m\u001b[0m\u001b[1;33m\u001b[0m\u001b[0m\n\u001b[0m\u001b[0;32m    212\u001b[0m \u001b[1;33m\u001b[0m\u001b[0m\n\u001b[0;32m    213\u001b[0m     \u001b[0m_HANDLED_TYPES\u001b[0m \u001b[1;33m=\u001b[0m \u001b[1;33m(\u001b[0m\u001b[0mnp\u001b[0m\u001b[1;33m.\u001b[0m\u001b[0mndarray\u001b[0m\u001b[1;33m,\u001b[0m \u001b[0mnumbers\u001b[0m\u001b[1;33m.\u001b[0m\u001b[0mNumber\u001b[0m\u001b[1;33m)\u001b[0m\u001b[1;33m\u001b[0m\u001b[1;33m\u001b[0m\u001b[0m\n",
      "\u001b[1;31mValueError\u001b[0m: could not convert string to float: 'Medium Effort'"
     ]
    }
   ],
   "source": [
    "mse = mean_squared_error(y_test, y_pred)\n",
    "rmse = math.sqrt(mse)\n",
    "rmse"
   ]
  },
  {
   "cell_type": "code",
   "execution_count": null,
   "metadata": {},
   "outputs": [],
   "source": [
    "# Evaluating model\n",
    "cm = confusion_matrix(y_test, y_pred) \n",
    "\n",
    "ax= plt.subplot()\n",
    "sns.heatmap(cm, annot=True, fmt='g', ax=ax, cmap=\"crest\")  #annot=True to annotate cells, ftm='g' to disable scientific notation\n",
    "\n",
    "# labels, title and ticks\n",
    "ax.set_xlabel('Predicted labels');ax.set_ylabel('True labels'); \n",
    "ax.set_title('Confusion Matrix'); \n",
    "ax.xaxis.set_ticklabels(['Low Effort', 'Medium Effort', 'High Effort']); ax.yaxis.set_ticklabels(['Low Effort', 'Medium Effort', 'High Effort'])"
   ]
  },
  {
   "cell_type": "code",
   "execution_count": null,
   "metadata": {},
   "outputs": [],
   "source": [
    "print('F1 score:', round(f1_score(y_test, y_pred, average = 'micro'),3)) # type: ignore\n",
    "print('Accuracy of the model:', round(accuracy_score(y_test,y_pred),3))\n",
    "print(\"Precision Score : \", round(precision_score(y_test, y_pred, pos_label='positive', average='micro'),3)) # type: ignore\n",
    "print(\"Recall Score : \",round(recall_score(y_test, y_pred, pos_label='positive', average='micro'),3)) # type: ignore\n",
    "print(classification_report(y_test, y_pred, target_names=score_values))"
   ]
  },
  {
   "cell_type": "code",
   "execution_count": null,
   "metadata": {},
   "outputs": [],
   "source": []
  }
 ],
 "metadata": {
  "kernelspec": {
   "display_name": "base",
   "language": "python",
   "name": "python3"
  },
  "language_info": {
   "codemirror_mode": {
    "name": "ipython",
    "version": 3
   },
   "file_extension": ".py",
   "mimetype": "text/x-python",
   "name": "python",
   "nbconvert_exporter": "python",
   "pygments_lexer": "ipython3",
   "version": "3.8.5"
  },
  "orig_nbformat": 4
 },
 "nbformat": 4,
 "nbformat_minor": 2
}
