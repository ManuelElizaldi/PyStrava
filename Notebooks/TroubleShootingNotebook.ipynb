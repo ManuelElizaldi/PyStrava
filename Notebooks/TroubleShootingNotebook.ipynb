{
 "cells": [
  {
   "cell_type": "code",
   "execution_count": 1,
   "metadata": {},
   "outputs": [],
   "source": [
    "# Project idea -> add workout counter in look studio google\n",
    "# Packages required for this project:\n",
    "import requests\n",
    "import pandas as pd\n",
    "import numpy as np\n",
    "import pygsheets\n",
    "import datetime\n",
    "from datetime import date\n",
    "import json\n",
    "import webbrowser\n",
    "from time import sleep\n",
    "import time\n",
    "import gspread\n",
    "from oauth2client.service_account import ServiceAccountCredentials\n",
    "import sys\n",
    "sys.path.append(r'C:\\\\Users\\\\Manuel Elizaldi\\\\Desktop\\\\Learning-Testing\\\\PyStrava\\\\Scripts')\n",
    "from Functions import *"
   ]
  },
  {
   "cell_type": "code",
   "execution_count": 8,
   "metadata": {},
   "outputs": [],
   "source": [
    "# Since this notebook is outside of the main folder we have to use . notation\n",
    "from Credentials.StravaCredentials import data\n",
    "webbrowser.open(f\"https://www.strava.com/oauth/authorize?client_id={data['client_id']}&response_type=code&redirect_uri=http://localhost/&approval_prompt=force&scope=profile:read_all,activity:read_all\")\n",
    "data['code'] = input(\"From the web broswer enter the code:\")"
   ]
  },
  {
   "cell_type": "code",
   "execution_count": 9,
   "metadata": {},
   "outputs": [],
   "source": [
    "# Getting refresh and access token\n",
    "token = requests.post(url= 'https://www.strava.com/api/v3/oauth/token',data=data).json()"
   ]
  },
  {
   "cell_type": "code",
   "execution_count": 10,
   "metadata": {},
   "outputs": [],
   "source": [
    "# Accessing the token json to get refresh token and access token\n",
    "refresh_token = token['refresh_token']\n",
    "access_token = token['access_token']"
   ]
  },
  {
   "cell_type": "code",
   "execution_count": 11,
   "metadata": {},
   "outputs": [
    {
     "name": "stdout",
     "output_type": "stream",
     "text": [
      "Getting page number: 1\n",
      "Extraction of page 1 complete\n",
      "Getting page number: 2\n",
      "Extraction of page 2 complete\n",
      "Getting page number: 3\n",
      "Extraction of page 3 complete\n",
      "Getting page number: 4\n",
      "Extraction of page 4 complete\n",
      "Getting page number: 5\n",
      "Extraction of page 5 complete\n",
      "Getting page number: 6\n",
      "Extraction of page 6 complete\n",
      "Extraction done\n"
     ]
    }
   ],
   "source": [
    "# This API request gives us the general list of activities. \n",
    "# The table lacks certain details that we will get from another API request \n",
    "activities = retrieve_activities(access_token)"
   ]
  },
  {
   "cell_type": "code",
   "execution_count": 31,
   "metadata": {},
   "outputs": [],
   "source": [
    "general_table = activities.copy()\n",
    "general_table = general_table.rename(columns={'elapsed_time':'workout_time_sec'})\n",
    "general_table = general_table.loc[general_table['sport_type'] == 'Run'].head(20)"
   ]
  },
  {
   "cell_type": "code",
   "execution_count": 39,
   "metadata": {},
   "outputs": [],
   "source": [
    "general_table.head(1)\n",
    "wokrout_list = list(general_table['id'])"
   ]
  },
  {
   "cell_type": "code",
   "execution_count": 40,
   "metadata": {},
   "outputs": [
    {
     "name": "stdout",
     "output_type": "stream",
     "text": [
      "Extracting all workouts, due to the API rate limit, this will take 00:03 hours or 3.0 minutes.\n",
      "Extracting workout: 1\n",
      "Extracting workout: 2\n",
      "Extracting workout: 3\n",
      "Extracting workout: 4\n",
      "Extracting workout: 5\n",
      "Extracting workout: 6\n",
      "Extracting workout: 7\n",
      "Extracting workout: 8\n",
      "Extracting workout: 9\n",
      "Extracting workout: 10\n",
      "Extracting workout: 11\n",
      "Extracting workout: 12\n",
      "Extracting workout: 13\n",
      "Extracting workout: 14\n",
      "Extracting workout: 15\n",
      "Extracting workout: 16\n",
      "Extracting workout: 17\n",
      "Extracting workout: 18\n",
      "Extracting workout: 19\n",
      "Extracting workout: 20\n"
     ]
    }
   ],
   "source": [
    "all_workouts_json = GetAllWorkouts(wokrout_list, access_token)"
   ]
  },
  {
   "cell_type": "code",
   "execution_count": 50,
   "metadata": {},
   "outputs": [],
   "source": [
    "trouble_shooting_workouts = CleanWorkoutJson(all_workouts_json)\n",
    "trouble_shooting_workouts.to_csv(r'C:\\Users\\Manuel Elizaldi\\Desktop\\Learning-Testing\\PyStrava\\Outputs\\trouble_shooting_table.csv')"
   ]
  },
  {
   "cell_type": "code",
   "execution_count": null,
   "metadata": {},
   "outputs": [],
   "source": []
  }
 ],
 "metadata": {
  "kernelspec": {
   "display_name": "base",
   "language": "python",
   "name": "python3"
  },
  "language_info": {
   "codemirror_mode": {
    "name": "ipython",
    "version": 3
   },
   "file_extension": ".py",
   "mimetype": "text/x-python",
   "name": "python",
   "nbconvert_exporter": "python",
   "pygments_lexer": "ipython3",
   "version": "3.8.5"
  },
  "orig_nbformat": 4
 },
 "nbformat": 4,
 "nbformat_minor": 2
}
