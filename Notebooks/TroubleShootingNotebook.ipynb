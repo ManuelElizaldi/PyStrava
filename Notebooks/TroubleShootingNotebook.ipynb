{
 "cells": [
  {
   "cell_type": "code",
   "execution_count": 2,
   "metadata": {},
   "outputs": [],
   "source": [
    "# Project idea -> add workout counter in look studio google\n",
    "# Packages required for this project:\n",
    "import requests\n",
    "import pandas as pd\n",
    "import numpy as np\n",
    "import pygsheets\n",
    "import datetime\n",
    "from datetime import date\n",
    "import json\n",
    "import webbrowser\n",
    "from time import sleep\n",
    "import time\n",
    "import gspread\n",
    "from oauth2client.service_account import ServiceAccountCredentials\n",
    "import sys\n",
    "sys.path.append(r'C:\\\\Users\\\\Manuel Elizaldi\\\\Desktop\\\\Learning-Testing\\\\PyStrava\\\\Scripts')\n",
    "from Functions import *"
   ]
  },
  {
   "cell_type": "code",
   "execution_count": 14,
   "metadata": {},
   "outputs": [],
   "source": [
    "# Setting up parameters for gspread - updating google sheet\n",
    "service_file_path = r'C:\\Users\\Manuel Elizaldi\\Desktop\\Learning-Testing\\PyStrava\\Credentials\\pacific-castle-303123-909a5ddcda92.json'\n",
    "spreadsheet_id = '1pomkAzlndHBl_czERrwKkoZFUkJRGFjyhRTeoWA6CS4'\n",
    "\n",
    "# My scope determines what we want to do with the google api\n",
    "myscope = ['https://spreadsheets.google.com/feeds', \n",
    "            'https://www.googleapis.com/auth/drive']\n",
    "\n",
    "# Authentication\n",
    "mycred = ServiceAccountCredentials.from_json_keyfile_name(service_file_path,myscope) # type: ignore\n",
    "client = gspread.authorize(mycred)\n",
    "\n",
    "# Opening and reading the All_Workouts_Table <- this will contain our not updated list of workouts\n",
    "mysheet = client.open('workout-data').sheet1\n",
    "list_of_row = mysheet.get_all_records()\n",
    "\n",
    "# Parsing json into a dataframe\n",
    "all_workouts_df = pd.json_normalize(list_of_row)"
   ]
  },
  {
   "cell_type": "code",
   "execution_count": 20,
   "metadata": {},
   "outputs": [],
   "source": [
    "all_workouts_df[['start_lat','start_long','end_lat','end_long']] = all_workouts_df[['start_lat','start_long','end_lat','end_long']].replace('no value', np.nan)"
   ]
  },
  {
   "cell_type": "code",
   "execution_count": 21,
   "metadata": {},
   "outputs": [
    {
     "data": {
      "text/html": [
       "<div>\n",
       "<style scoped>\n",
       "    .dataframe tbody tr th:only-of-type {\n",
       "        vertical-align: middle;\n",
       "    }\n",
       "\n",
       "    .dataframe tbody tr th {\n",
       "        vertical-align: top;\n",
       "    }\n",
       "\n",
       "    .dataframe thead th {\n",
       "        text-align: right;\n",
       "    }\n",
       "</style>\n",
       "<table border=\"1\" class=\"dataframe\">\n",
       "  <thead>\n",
       "    <tr style=\"text-align: right;\">\n",
       "      <th></th>\n",
       "      <th>activity_id</th>\n",
       "      <th>name</th>\n",
       "      <th>start_date</th>\n",
       "      <th>sport_type</th>\n",
       "      <th>distance</th>\n",
       "      <th>workout_time_min</th>\n",
       "      <th>calories</th>\n",
       "      <th>total_elevation_gain</th>\n",
       "      <th>start_lat</th>\n",
       "      <th>start_long</th>\n",
       "      <th>...</th>\n",
       "      <th>average_heartrate_score</th>\n",
       "      <th>max_heartrate_score</th>\n",
       "      <th>avg_lap_time_score</th>\n",
       "      <th>lap_count_score</th>\n",
       "      <th>avg_speed_score</th>\n",
       "      <th>max_speed_score</th>\n",
       "      <th>pace_score</th>\n",
       "      <th>effort_score</th>\n",
       "      <th>effort_score_label</th>\n",
       "      <th>effort_score_rank</th>\n",
       "    </tr>\n",
       "  </thead>\n",
       "  <tbody>\n",
       "    <tr>\n",
       "      <th>0</th>\n",
       "      <td>10697198078</td>\n",
       "      <td>Lunch Pickleball</td>\n",
       "      <td>2024-02-04</td>\n",
       "      <td>Pickleball</td>\n",
       "      <td>1.11</td>\n",
       "      <td>24.12</td>\n",
       "      <td>207.0</td>\n",
       "      <td>0.0</td>\n",
       "      <td>NaN</td>\n",
       "      <td>NaN</td>\n",
       "      <td>...</td>\n",
       "      <td>5</td>\n",
       "      <td>10</td>\n",
       "      <td>20</td>\n",
       "      <td>5</td>\n",
       "      <td>5</td>\n",
       "      <td>15</td>\n",
       "      <td>0</td>\n",
       "      <td>102</td>\n",
       "      <td>Low Effort</td>\n",
       "      <td>2</td>\n",
       "    </tr>\n",
       "  </tbody>\n",
       "</table>\n",
       "<p>1 rows × 34 columns</p>\n",
       "</div>"
      ],
      "text/plain": [
       "   activity_id              name  start_date  sport_type  distance  \\\n",
       "0  10697198078  Lunch Pickleball  2024-02-04  Pickleball      1.11   \n",
       "\n",
       "   workout_time_min  calories  total_elevation_gain start_lat  start_long  \\\n",
       "0             24.12     207.0                   0.0       NaN         NaN   \n",
       "\n",
       "   ...  average_heartrate_score  max_heartrate_score  avg_lap_time_score  \\\n",
       "0  ...                        5                   10                  20   \n",
       "\n",
       "   lap_count_score  avg_speed_score  max_speed_score  pace_score  \\\n",
       "0                5                5               15           0   \n",
       "\n",
       "   effort_score  effort_score_label  effort_score_rank  \n",
       "0           102          Low Effort                  2  \n",
       "\n",
       "[1 rows x 34 columns]"
      ]
     },
     "execution_count": 21,
     "metadata": {},
     "output_type": "execute_result"
    }
   ],
   "source": [
    "all_workouts_df.head(1)"
   ]
  },
  {
   "cell_type": "code",
   "execution_count": 22,
   "metadata": {},
   "outputs": [],
   "source": [
    "# Uploading to Google Sheet\n",
    "sheet_name = 'All_Workouts_Table'\n",
    "WriteToGsheet(service_file_path,spreadsheet_id,sheet_name,all_workouts_df)"
   ]
  },
  {
   "cell_type": "code",
   "execution_count": null,
   "metadata": {},
   "outputs": [],
   "source": []
  }
 ],
 "metadata": {
  "kernelspec": {
   "display_name": "base",
   "language": "python",
   "name": "python3"
  },
  "language_info": {
   "codemirror_mode": {
    "name": "ipython",
    "version": 3
   },
   "file_extension": ".py",
   "mimetype": "text/x-python",
   "name": "python",
   "nbconvert_exporter": "python",
   "pygments_lexer": "ipython3",
   "version": "3.8.5"
  },
  "orig_nbformat": 4
 },
 "nbformat": 4,
 "nbformat_minor": 2
}
