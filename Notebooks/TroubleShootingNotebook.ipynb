{
 "cells": [
  {
   "cell_type": "code",
   "execution_count": 1,
   "metadata": {},
   "outputs": [
    {
     "name": "stdout",
     "output_type": "stream",
     "text": [
      "Getting page number: 1\n",
      "Extraction of page 1 complete\n",
      "Getting page number: 2\n",
      "Extraction of page 2 complete\n",
      "Getting page number: 3\n",
      "Extraction of page 3 complete\n",
      "Getting page number: 4\n",
      "Extraction of page 4 complete\n",
      "Getting page number: 5\n",
      "Extraction of page 5 complete\n",
      "Getting page number: 6\n",
      "Extraction of page 6 complete\n",
      "Extraction done\n",
      "Extracting data from SQL database.\n",
      "Adding 9 workouts to Database.\n"
     ]
    },
    {
     "name": "stderr",
     "output_type": "stream",
     "text": [
      "C:\\Users\\Usuario\\AppData\\Local\\Temp\\ipykernel_14428\\1298297996.py:47: UserWarning: pandas only supports SQLAlchemy connectable (engine/connection) or database string URI or sqlite3 DBAPI2 connection. Other DBAPI2 objects are not tested. Please consider using SQLAlchemy.\n",
      "  not_updated_workouts = sqlio.read_sql_query(query, conn)\n"
     ]
    }
   ],
   "source": [
    "# Importing libraries\n",
    "import pandas as pd\n",
    "from datetime import datetime\n",
    "from sqlalchemy import create_engine\n",
    "import pandas.io.sql as sqlio\n",
    "import psycopg2\n",
    "import json\n",
    "import sys\n",
    "sys.path.extend([\n",
    "    r'C:\\Users\\Usuario\\OneDrive\\Desktop\\Learning-Testing\\PyStrava',\n",
    "    r'C:\\Users\\Usuario\\OneDrive\\Desktop\\Learning-Testing\\PyStrava\\Scripts'\n",
    "])\n",
    "from Functions import *\n",
    "from StravaCredentials import *\n",
    "\n",
    "# Creating connection to database and creating engine to upload data\n",
    "db_url = f'postgresql://{username}:{pwd}@{hostname}:{port_id}/{database}'\n",
    "engine = create_engine(db_url)\n",
    "\n",
    "conn = psycopg2.connect(\n",
    "    host = hostname,\n",
    "    dbname = database,\n",
    "    user = username,\n",
    "    password = pwd,\n",
    "    port = port_id\n",
    ")\n",
    "\n",
    "# Creating date variable\n",
    "#today = datetime.today().strftime('%Y-%m-%d')\n",
    "\n",
    "# Getting Strava acccess token\n",
    "access_token = GetToken(data)\n",
    "\n",
    "# Getting an updated list of activities\n",
    "# activities df - this does not include workout details\n",
    "updated_workouts = retrieve_activities(access_token)\n",
    "\n",
    "# Creating list to compare against not updated list\n",
    "updated_workouts_list = list(updated_workouts['id'])\n",
    "\n",
    "\n",
    "# Creating a cursor and also quering the database to get the current list of workouts from activity table\n",
    "cur = conn.cursor()\n",
    "query = \"select activity_id from activity\"\n",
    "\n",
    "# Turning query into dataframe - all activities\n",
    "not_updated_workouts = sqlio.read_sql_query(query, conn)\n",
    "print('Extracting data from SQL database.')\n",
    "\n",
    "# Creating a list of ids from the list of activity ids\n",
    "not_updated_workouts_list = list(not_updated_workouts['activity_id'])\n",
    "\n",
    "# How many new workouts will be added to database\n",
    "print('Adding',len(updated_workouts_list) - len(not_updated_workouts_list),'workouts to Database.')\n",
    "\n",
    "# Creating a list containing the missing workouts\n",
    "# missing workouts = workouts to be added \n",
    "missing_workouts = list(set(updated_workouts_list).difference(not_updated_workouts_list))"
   ]
  },
  {
   "cell_type": "code",
   "execution_count": 4,
   "metadata": {},
   "outputs": [
    {
     "name": "stdout",
     "output_type": "stream",
     "text": [
      "Extracting all workouts, due to the API rate limit, this will take 1.35 minutes.\n",
      "Extracting workout: 1\n",
      "Extracting workout: 2\n",
      "Extracting workout: 3\n",
      "Extracting workout: 4\n",
      "Extracting workout: 5\n",
      "Extracting workout: 6\n",
      "Extracting workout: 7\n",
      "Extracting workout: 8\n",
      "Extracting workout: 9\n"
     ]
    }
   ],
   "source": [
    "# Calling function to extract missing workouts\n",
    "missing_workouts_json = GetAllWorkouts(missing_workouts, access_token)"
   ]
  },
  {
   "cell_type": "code",
   "execution_count": 5,
   "metadata": {},
   "outputs": [],
   "source": [
    "# Parsing workout json\n",
    "missing_workouts_df = CleanWorkoutJson(missing_workouts_json)"
   ]
  },
  {
   "cell_type": "code",
   "execution_count": 7,
   "metadata": {},
   "outputs": [],
   "source": [
    "# Parsing workout json to create laps table\n",
    "laps_df = CleanLapsJson(missing_workouts_json)\n",
    "\n",
    "# Creating the score columns from the workout json \n",
    "missing_workouts_df = CreateScoreColumns(missing_workouts_df)"
   ]
  },
  {
   "cell_type": "code",
   "execution_count": 10,
   "metadata": {},
   "outputs": [],
   "source": [
    "# Dividing all_workouts_df to multiple tables to then upload to database\n",
    "activity, activity_name, activity_coordinates, activity_details, activity_scores = DivideTables(missing_workouts_df)"
   ]
  },
  {
   "cell_type": "code",
   "execution_count": 14,
   "metadata": {},
   "outputs": [
    {
     "name": "stdout",
     "output_type": "stream",
     "text": [
      "Uploading data to database.\n",
      "Database updated.\n"
     ]
    }
   ],
   "source": [
    "\n",
    "# Sending data to Postgresql\n",
    "print('Uploading data to database.')\n",
    "\n",
    "activity.to_sql('activity', engine, if_exists='append', index=False)\n",
    "activity_name.to_sql('activity_name', engine, if_exists='append', index=False)\n",
    "activity_coordinates.to_sql('activity_coordinates', engine, if_exists='append', index=False)\n",
    "activity_details.to_sql('activity_details', engine, if_exists='append', index=False)\n",
    "activity_scores.to_sql('activity_scores', engine, if_exists='append', index=False)\n",
    "laps_df.to_sql('laps', engine, if_exists='append', index=False)\n",
    "\n",
    "print('Database updated.')"
   ]
  },
  {
   "cell_type": "code",
   "execution_count": null,
   "metadata": {},
   "outputs": [],
   "source": []
  }
 ],
 "metadata": {
  "kernelspec": {
   "display_name": "base",
   "language": "python",
   "name": "python3"
  },
  "language_info": {
   "codemirror_mode": {
    "name": "ipython",
    "version": 3
   },
   "file_extension": ".py",
   "mimetype": "text/x-python",
   "name": "python",
   "nbconvert_exporter": "python",
   "pygments_lexer": "ipython3",
   "version": "3.12.1"
  },
  "orig_nbformat": 4
 },
 "nbformat": 4,
 "nbformat_minor": 2
}
