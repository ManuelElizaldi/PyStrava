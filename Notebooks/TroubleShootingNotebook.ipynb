{
 "cells": [
  {
   "cell_type": "code",
   "execution_count": 4,
   "metadata": {},
   "outputs": [
    {
     "ename": "KeyError",
     "evalue": "'access_token'",
     "output_type": "error",
     "traceback": [
      "\u001b[1;31m---------------------------------------------------------------------------\u001b[0m",
      "\u001b[1;31mKeyError\u001b[0m                                  Traceback (most recent call last)",
      "Cell \u001b[1;32mIn[4], line 30\u001b[0m\n\u001b[0;32m     21\u001b[0m conn \u001b[38;5;241m=\u001b[39m psycopg2\u001b[38;5;241m.\u001b[39mconnect(\n\u001b[0;32m     22\u001b[0m     host \u001b[38;5;241m=\u001b[39m hostname,\n\u001b[0;32m     23\u001b[0m     dbname \u001b[38;5;241m=\u001b[39m database,\n\u001b[1;32m   (...)\u001b[0m\n\u001b[0;32m     26\u001b[0m     port \u001b[38;5;241m=\u001b[39m port_id\n\u001b[0;32m     27\u001b[0m )\n\u001b[0;32m     29\u001b[0m \u001b[38;5;66;03m# Getting Strava acccess token\u001b[39;00m\n\u001b[1;32m---> 30\u001b[0m access_token \u001b[38;5;241m=\u001b[39m \u001b[43mGetToken\u001b[49m\u001b[43m(\u001b[49m\u001b[43mdata\u001b[49m\u001b[43m)\u001b[49m\n\u001b[0;32m     32\u001b[0m \u001b[38;5;66;03m# Getting an updated list of activities\u001b[39;00m\n\u001b[0;32m     33\u001b[0m \u001b[38;5;66;03m# activities df - this does not include workout details\u001b[39;00m\n\u001b[0;32m     34\u001b[0m updated_workouts \u001b[38;5;241m=\u001b[39m retrieve_activities(access_token)\n",
      "File \u001b[1;32m~\\OneDrive\\Desktop\\Learning-Testing\\PyStrava\\Scripts\\Functions.py:18\u001b[0m, in \u001b[0;36mGetToken\u001b[1;34m(data)\u001b[0m\n\u001b[0;32m     16\u001b[0m \u001b[38;5;28;01mdef\u001b[39;00m \u001b[38;5;21mGetToken\u001b[39m(data):\n\u001b[0;32m     17\u001b[0m     token \u001b[38;5;241m=\u001b[39m requests\u001b[38;5;241m.\u001b[39mpost(url \u001b[38;5;241m=\u001b[39m \u001b[38;5;124m'\u001b[39m\u001b[38;5;124mhttps://www.strava.com/api/v3/oauth/token\u001b[39m\u001b[38;5;124m'\u001b[39m,data\u001b[38;5;241m=\u001b[39mdata)\u001b[38;5;241m.\u001b[39mjson()\n\u001b[1;32m---> 18\u001b[0m     access_token \u001b[38;5;241m=\u001b[39m \u001b[43mtoken\u001b[49m\u001b[43m[\u001b[49m\u001b[38;5;124;43m'\u001b[39;49m\u001b[38;5;124;43maccess_token\u001b[39;49m\u001b[38;5;124;43m'\u001b[39;49m\u001b[43m]\u001b[49m\n\u001b[0;32m     20\u001b[0m     \u001b[38;5;28;01mreturn\u001b[39;00m access_token\n",
      "\u001b[1;31mKeyError\u001b[0m: 'access_token'"
     ]
    }
   ],
   "source": [
    "# Importing libraries\n",
    "import pandas as pd\n",
    "import numpy as np\n",
    "from datetime import date\n",
    "from time import sleep\n",
    "from sqlalchemy import create_engine\n",
    "import pandas.io.sql as sqlio\n",
    "import psycopg2\n",
    "import sys\n",
    "sys.path.extend([\n",
    "    r'C:\\Users\\Usuario\\OneDrive\\Desktop\\Learning-Testing\\PyStrava',\n",
    "    r'C:\\Users\\Usuario\\OneDrive\\Desktop\\Learning-Testing\\PyStrava\\Scripts'\n",
    "])\n",
    "from Functions import *\n",
    "from StravaCredentials import *\n",
    "\n",
    "# Creating connection to database and creating engine to upload data\n",
    "db_url = f'postgresql://{username}:{pwd}@{hostname}:{port_id}/{database}'\n",
    "engine = create_engine(db_url)\n",
    "\n",
    "conn = psycopg2.connect(\n",
    "    host = hostname,\n",
    "    dbname = database,\n",
    "    user = username,\n",
    "    password = pwd,\n",
    "    port = port_id\n",
    ")\n",
    "\n",
    "# Getting Strava acccess token\n",
    "access_token = GetToken(data)\n",
    "\n",
    "# Getting an updated list of activities\n",
    "# activities df - this does not include workout details\n",
    "updated_workouts = retrieve_activities(access_token)\n",
    "\n",
    "# Creating list to compare against not updated list\n",
    "updated_workouts_list = list(updated_workouts['id'])\n",
    "\n",
    "# Creating a cursor and also quering the database to get the current list of workouts from activity table\n",
    "cur = conn.cursor()\n",
    "query = \"select * from activity\"\n",
    "\n",
    "# Turning query into dataframe - all activities\n",
    "not_updated_workouts = sqlio.read_sql_query(query, conn)\n",
    "print('Extracting data from SQL database.')\n",
    "\n",
    "# Creating a list of ids from the list of activity ids\n",
    "not_updated_workouts_list = list(not_updated_workouts['activity_id'])\n",
    "\n",
    "# How many new workouts will be added to database\n",
    "print('Adding',len(updated_workouts_list) - len(not_updated_workouts_list),'workouts to Database.')\n",
    "\n",
    "# Creating a list containing the missing workouts\n",
    "# missing workouts = workouts to be added \n",
    "missing_workouts = list(set(updated_workouts_list).difference(not_updated_workouts_list))\n",
    "\n",
    "# Calling function to extract missing workouts\n",
    "missing_workouts_json = GetAllWorkouts(missing_workouts, access_token)\n",
    "\n",
    "# Parsing workout json\n",
    "missing_workouts_df = CleanWorkoutJson(missing_workouts_json)\n",
    "\n",
    "# Parsing workout json to create laps table\n",
    "laps_df = CleanLapsJson(missing_workouts_json)\n",
    "\n",
    "# Creating the score columns from the workout json \n",
    "missing_workouts_df = CreateScoreColumns(missing_workouts_df)"
   ]
  },
  {
   "cell_type": "code",
   "execution_count": null,
   "metadata": {},
   "outputs": [],
   "source": []
  }
 ],
 "metadata": {
  "kernelspec": {
   "display_name": "base",
   "language": "python",
   "name": "python3"
  },
  "language_info": {
   "codemirror_mode": {
    "name": "ipython",
    "version": 3
   },
   "file_extension": ".py",
   "mimetype": "text/x-python",
   "name": "python",
   "nbconvert_exporter": "python",
   "pygments_lexer": "ipython3",
   "version": "3.12.1"
  },
  "orig_nbformat": 4
 },
 "nbformat": 4,
 "nbformat_minor": 2
}
