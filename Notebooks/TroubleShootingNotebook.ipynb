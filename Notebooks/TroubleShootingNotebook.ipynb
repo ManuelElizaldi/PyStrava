{
 "cells": [
  {
   "cell_type": "code",
   "execution_count": 20,
   "metadata": {},
   "outputs": [],
   "source": [
    "# Project idea -> add workout counter in look studio google\n",
    "# Packages required for this project:\n",
    "import requests\n",
    "import pandas as pd\n",
    "import numpy as np\n",
    "import pygsheets\n",
    "import datetime\n",
    "from datetime import date\n",
    "import json\n",
    "import webbrowser\n",
    "from time import sleep\n",
    "import time\n",
    "import gspread\n",
    "from oauth2client.service_account import ServiceAccountCredentials\n",
    "import sys\n",
    "import sys\n",
    "sys.path.extend([\n",
    "    r'C:\\Users\\Usuario\\Desktop\\Learning-Testing\\PyStrava',\n",
    "    r'C:\\Users\\Usuario\\Desktop\\Learning-Testing\\PyStrava\\Scripts'\n",
    "])\n",
    "from Functions import *\n",
    "from StravaCredentials import *\n",
    "from sqlalchemy import create_engine\n",
    "import psycopg2\n",
    "import pandas.io.sql as sqlio"
   ]
  },
  {
   "cell_type": "code",
   "execution_count": 5,
   "metadata": {},
   "outputs": [],
   "source": [
    "access_token = GetToken(data)"
   ]
  },
  {
   "cell_type": "code",
   "execution_count": 6,
   "metadata": {},
   "outputs": [
    {
     "name": "stdout",
     "output_type": "stream",
     "text": [
      "Getting page number: 1\n",
      "Extraction of page 1 complete\n",
      "Getting page number: 2\n",
      "Extraction of page 2 complete\n",
      "Getting page number: 3\n",
      "Extraction of page 3 complete\n",
      "Getting page number: 4\n",
      "Extraction of page 4 complete\n",
      "Getting page number: 5\n",
      "Extraction of page 5 complete\n",
      "Getting page number: 6\n",
      "Extraction of page 6 complete\n",
      "Extraction done\n"
     ]
    }
   ],
   "source": [
    "df = retrieve_activities(access_token)"
   ]
  },
  {
   "cell_type": "code",
   "execution_count": 24,
   "metadata": {},
   "outputs": [
    {
     "data": {
      "text/plain": [
       "887"
      ]
     },
     "execution_count": 24,
     "metadata": {},
     "output_type": "execute_result"
    }
   ],
   "source": [
    "df.head(1)\n",
    "updated_workouts = df.copy()\n",
    "len(updated_workouts)"
   ]
  },
  {
   "cell_type": "code",
   "execution_count": 12,
   "metadata": {},
   "outputs": [],
   "source": [
    "# Creating connection to database and creating engine to upload data\n",
    "db_url = f'postgresql://{username}:{pwd}@{hostname}:{port_id}/{database}'\n",
    "engine = create_engine(db_url)\n",
    "\n",
    "conn = psycopg2.connect(\n",
    "    host = hostname,\n",
    "    dbname = database,\n",
    "    user = username,\n",
    "    password = pwd,\n",
    "    port = port_id\n",
    ")"
   ]
  },
  {
   "cell_type": "code",
   "execution_count": 17,
   "metadata": {},
   "outputs": [],
   "source": [
    "# Creating list to compare against not updated list\n",
    "updated_workouts = list(updated_workouts['id'])"
   ]
  },
  {
   "cell_type": "code",
   "execution_count": 21,
   "metadata": {},
   "outputs": [
    {
     "name": "stderr",
     "output_type": "stream",
     "text": [
      "C:\\Users\\Usuario\\AppData\\Local\\Temp\\ipykernel_10312\\1759915765.py:6: UserWarning: pandas only supports SQLAlchemy connectable (engine/connection) or database string URI or sqlite3 DBAPI2 connection. Other DBAPI2 objects are not tested. Please consider using SQLAlchemy.\n",
      "  not_updated_workouts = sqlio.read_sql_query(query, conn)\n"
     ]
    }
   ],
   "source": [
    "# Creating a cursor and also quering the database to get the current list of workouts from activity table\n",
    "cur = conn.cursor()\n",
    "query = \"select * from activity\"\n",
    "\n",
    "# Turning query into dataframe - all activities\n",
    "not_updated_workouts = sqlio.read_sql_query(query, conn)"
   ]
  },
  {
   "cell_type": "code",
   "execution_count": 23,
   "metadata": {},
   "outputs": [
    {
     "data": {
      "text/html": [
       "<div>\n",
       "<style scoped>\n",
       "    .dataframe tbody tr th:only-of-type {\n",
       "        vertical-align: middle;\n",
       "    }\n",
       "\n",
       "    .dataframe tbody tr th {\n",
       "        vertical-align: top;\n",
       "    }\n",
       "\n",
       "    .dataframe thead th {\n",
       "        text-align: right;\n",
       "    }\n",
       "</style>\n",
       "<table border=\"1\" class=\"dataframe\">\n",
       "  <thead>\n",
       "    <tr style=\"text-align: right;\">\n",
       "      <th></th>\n",
       "      <th>activity_id</th>\n",
       "      <th>start_date</th>\n",
       "      <th>sport_type</th>\n",
       "      <th>effort_score_label</th>\n",
       "    </tr>\n",
       "  </thead>\n",
       "  <tbody>\n",
       "    <tr>\n",
       "      <th>0</th>\n",
       "      <td>10810033987</td>\n",
       "      <td>2024-02-21</td>\n",
       "      <td>Functional-Cardio Workout</td>\n",
       "      <td>Medium Effort</td>\n",
       "    </tr>\n",
       "    <tr>\n",
       "      <th>1</th>\n",
       "      <td>10804513136</td>\n",
       "      <td>2024-02-21</td>\n",
       "      <td>Functional-Cardio Workout</td>\n",
       "      <td>Medium Effort</td>\n",
       "    </tr>\n",
       "    <tr>\n",
       "      <th>2</th>\n",
       "      <td>10793103601</td>\n",
       "      <td>2024-02-19</td>\n",
       "      <td>Functional-Cardio Workout</td>\n",
       "      <td>Low Effort</td>\n",
       "    </tr>\n",
       "    <tr>\n",
       "      <th>3</th>\n",
       "      <td>10783927933</td>\n",
       "      <td>2024-02-18</td>\n",
       "      <td>Functional-Cardio Workout</td>\n",
       "      <td>High Effort</td>\n",
       "    </tr>\n",
       "    <tr>\n",
       "      <th>4</th>\n",
       "      <td>10770299093</td>\n",
       "      <td>2024-02-15</td>\n",
       "      <td>Functional-Cardio Workout</td>\n",
       "      <td>Medium Effort</td>\n",
       "    </tr>\n",
       "    <tr>\n",
       "      <th>...</th>\n",
       "      <td>...</td>\n",
       "      <td>...</td>\n",
       "      <td>...</td>\n",
       "      <td>...</td>\n",
       "    </tr>\n",
       "    <tr>\n",
       "      <th>878</th>\n",
       "      <td>3517497833</td>\n",
       "      <td>2020-05-26</td>\n",
       "      <td>Run</td>\n",
       "      <td>Medium Effort</td>\n",
       "    </tr>\n",
       "    <tr>\n",
       "      <th>879</th>\n",
       "      <td>3516568449</td>\n",
       "      <td>2020-05-26</td>\n",
       "      <td>Ride</td>\n",
       "      <td>High Effort</td>\n",
       "    </tr>\n",
       "    <tr>\n",
       "      <th>880</th>\n",
       "      <td>3509004014</td>\n",
       "      <td>2020-05-25</td>\n",
       "      <td>Run</td>\n",
       "      <td>High Effort</td>\n",
       "    </tr>\n",
       "    <tr>\n",
       "      <th>881</th>\n",
       "      <td>3496090180</td>\n",
       "      <td>2020-05-23</td>\n",
       "      <td>Run</td>\n",
       "      <td>Medium Effort</td>\n",
       "    </tr>\n",
       "    <tr>\n",
       "      <th>882</th>\n",
       "      <td>3483200309</td>\n",
       "      <td>2020-05-20</td>\n",
       "      <td>Run</td>\n",
       "      <td>High Effort</td>\n",
       "    </tr>\n",
       "  </tbody>\n",
       "</table>\n",
       "<p>883 rows × 4 columns</p>\n",
       "</div>"
      ],
      "text/plain": [
       "     activity_id  start_date                 sport_type effort_score_label\n",
       "0    10810033987  2024-02-21  Functional-Cardio Workout      Medium Effort\n",
       "1    10804513136  2024-02-21  Functional-Cardio Workout      Medium Effort\n",
       "2    10793103601  2024-02-19  Functional-Cardio Workout         Low Effort\n",
       "3    10783927933  2024-02-18  Functional-Cardio Workout        High Effort\n",
       "4    10770299093  2024-02-15  Functional-Cardio Workout      Medium Effort\n",
       "..           ...         ...                        ...                ...\n",
       "878   3517497833  2020-05-26                        Run      Medium Effort\n",
       "879   3516568449  2020-05-26                       Ride        High Effort\n",
       "880   3509004014  2020-05-25                        Run        High Effort\n",
       "881   3496090180  2020-05-23                        Run      Medium Effort\n",
       "882   3483200309  2020-05-20                        Run        High Effort\n",
       "\n",
       "[883 rows x 4 columns]"
      ]
     },
     "execution_count": 23,
     "metadata": {},
     "output_type": "execute_result"
    }
   ],
   "source": [
    "not_updated_workouts"
   ]
  },
  {
   "cell_type": "code",
   "execution_count": 22,
   "metadata": {},
   "outputs": [],
   "source": [
    "# Creating a list of ids from the list of activity ids\n",
    "not_updated_workouts_list = list(not_updated_workouts['activity_id'])"
   ]
  },
  {
   "cell_type": "code",
   "execution_count": null,
   "metadata": {},
   "outputs": [],
   "source": []
  }
 ],
 "metadata": {
  "kernelspec": {
   "display_name": "base",
   "language": "python",
   "name": "python3"
  },
  "language_info": {
   "codemirror_mode": {
    "name": "ipython",
    "version": 3
   },
   "file_extension": ".py",
   "mimetype": "text/x-python",
   "name": "python",
   "nbconvert_exporter": "python",
   "pygments_lexer": "ipython3",
   "version": "3.12.1"
  },
  "orig_nbformat": 4
 },
 "nbformat": 4,
 "nbformat_minor": 2
}
