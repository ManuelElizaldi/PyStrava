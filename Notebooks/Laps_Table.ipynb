{
 "cells": [
  {
   "cell_type": "code",
   "execution_count": 3,
   "metadata": {},
   "outputs": [],
   "source": [
    "import requests\n",
    "import pandas as pd\n",
    "import numpy as np\n",
    "import pygsheets\n",
    "import datetime\n",
    "from datetime import date\n",
    "import json\n",
    "import webbrowser\n",
    "from time import sleep\n",
    "import gspread\n",
    "from oauth2client.service_account import ServiceAccountCredentials\n",
    "\n",
    "# Importing functions\n",
    "import sys\n",
    "sys.path.append(r'C:\\Users\\Usuario\\Desktop\\Learning-Testing\\PyStrava\\Scripts')\n",
    "from Functions import *"
   ]
  },
  {
   "cell_type": "code",
   "execution_count": 26,
   "metadata": {},
   "outputs": [],
   "source": [
    "# Specify the path to your JSON file\n",
    "file_path = r'C:\\Users\\Usuario\\Desktop\\Learning-Testing\\PyStrava\\Outputs\\all_workouts_json.json'\n",
    "\n",
    "# Open the JSON file and load its contents into a Python object\n",
    "with open(file_path, 'r') as json_file:\n",
    "    all_workouts_json = json.load(json_file)"
   ]
  },
  {
   "cell_type": "code",
   "execution_count": 35,
   "metadata": {},
   "outputs": [],
   "source": [
    "# This function will parse the workout json, grab the laps portion and clean the units\n",
    "def CleanLapsJson(workout_json):\n",
    "    # parsing json\n",
    "    df = pd.json_normalize(workout_json, 'laps')\n",
    "    df = df[['activity.id',\n",
    "            'id',\n",
    "            'lap_index',\n",
    "            'moving_time',\n",
    "            'distance',\n",
    "            'average_speed',\n",
    "            'max_speed',\n",
    "            'split',\n",
    "            'start_index',\n",
    "            'end_index',\n",
    "            'total_elevation_gain',\n",
    "            'average_cadence',\n",
    "            'average_heartrate',\n",
    "            'max_heartrate',\n",
    "            'pace_zone']]\n",
    "\n",
    "    # renaming laps id\n",
    "    df = df.rename(columns={'activity.id' : 'activity_id',\n",
    "                            'id' : 'lap_id',\n",
    "                            'moving_time' : 'lap_time_min',\n",
    "                            'distance' : 'lap_distance',\n",
    "                            'average_heartrate' : 'lap_avg_heartrate',\n",
    "                            'max_heartrate' : 'lap_max_heartrate_km/h',\n",
    "                            'average_speed' : 'lap_avg_speed_km/h',\n",
    "                            'max_speed' : 'lap_max_speed_km/h',\n",
    "                            'total_elevation_gain' : 'lap_total_elevation_gain',\n",
    "                            'average_cadence' : 'avg_cadence'})\n",
    "\n",
    "    # Formatting lap distance to km\n",
    "    df['lap_distance'] = round(df['lap_distance']/1000,2)\n",
    "\n",
    "    # Formatting lap time to minutes\n",
    "    df['lap_time_min'] = round(df['lap_time_min']/60,2)\n",
    "    df['lap_time_min'] = round(df['lap_time_min'] - (df['lap_time_min']%1) + (((df['lap_time_min'] % 1) * 60) / 100),2)\n",
    "\n",
    "    # Formatting lap start index to minutes\n",
    "    df['start_index'] = round(df['start_index']/60,2)\n",
    "    df['start_index'] = round(df['start_index'] - (df['start_index']%1) + (((df['start_index'] % 1) * 60) / 100),2)\n",
    "    \n",
    "    # Formatting lap end index to minutes\n",
    "    df['end_index'] = round(df['end_index']/60,2)\n",
    "    df['end_index'] = round(df['end_index'] - (df['end_index']%1) + (((df['end_index'] % 1) * 60) / 100),2)   \n",
    "    \n",
    "    # Formatting speed to km/h\n",
    "    df['lap_avg_speed_km/h'] = df['lap_avg_speed_km/h'] * 3.6\n",
    "    df['lap_max_speed_km/h'] = df['lap_max_speed_km/h'] * 3.6\n",
    "    \n",
    "    return df"
   ]
  },
  {
   "cell_type": "code",
   "execution_count": 39,
   "metadata": {},
   "outputs": [],
   "source": [
    "laps_df = CleanLapsJson(all_workouts_json)\n",
    "laps_df.to_csv(r'C:\\Users\\Usuario\\Desktop\\Learning-Testing\\PyStrava\\Outputs\\laps_table.csv')"
   ]
  },
  {
   "cell_type": "code",
   "execution_count": null,
   "metadata": {},
   "outputs": [],
   "source": []
  }
 ],
 "metadata": {
  "kernelspec": {
   "display_name": "base",
   "language": "python",
   "name": "python3"
  },
  "language_info": {
   "codemirror_mode": {
    "name": "ipython",
    "version": 3
   },
   "file_extension": ".py",
   "mimetype": "text/x-python",
   "name": "python",
   "nbconvert_exporter": "python",
   "pygments_lexer": "ipython3",
   "version": "3.12.1"
  }
 },
 "nbformat": 4,
 "nbformat_minor": 2
}
