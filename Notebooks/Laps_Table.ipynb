{
 "cells": [
  {
   "cell_type": "code",
   "execution_count": 3,
   "metadata": {},
   "outputs": [],
   "source": [
    "import requests\n",
    "import pandas as pd\n",
    "import numpy as np\n",
    "import pygsheets\n",
    "import datetime\n",
    "from datetime import date\n",
    "import json\n",
    "import webbrowser\n",
    "from time import sleep\n",
    "import gspread\n",
    "from oauth2client.service_account import ServiceAccountCredentials\n",
    "\n",
    "# Importing functions\n",
    "import sys\n",
    "sys.path.append(r'C:\\\\Users\\\\Manuel Elizaldi\\\\Desktop\\\\Learning-Testing\\\\PyStrava\\\\Scripts')\n",
    "from Functions import *"
   ]
  },
  {
   "cell_type": "code",
   "execution_count": 4,
   "metadata": {},
   "outputs": [],
   "source": [
    "# Specify the path to your JSON file\n",
    "file_path = r'C:\\Users\\Manuel Elizaldi\\Desktop\\Learning-Testing\\PyStrava\\Outputs\\all_workouts_json.json'\n",
    "\n",
    "# Open the JSON file and load its contents into a Python object\n",
    "with open(file_path, 'r') as json_file:\n",
    "    all_workouts_json = json.load(json_file)"
   ]
  },
  {
   "cell_type": "code",
   "execution_count": 5,
   "metadata": {},
   "outputs": [],
   "source": [
    "laps_df = pd.json_normalize(all_workouts_json, 'laps')"
   ]
  },
  {
   "cell_type": "code",
   "execution_count": 7,
   "metadata": {},
   "outputs": [],
   "source": [
    "laps_df = laps_df[['activity.id',\n",
    "                   'id',\n",
    "                   'moving_time',\n",
    "                   'start_date',\n",
    "                   'distance',\n",
    "                   'average_speed',\n",
    "                   'max_speed',\n",
    "                   'lap_index',\n",
    "                   'split',\n",
    "                   'start_index',\n",
    "                   'end_index',\n",
    "                   'total_elevation_gain',\n",
    "                   'average_cadence',\n",
    "                   'average_heartrate',\n",
    "                   'max_heartrate',\n",
    "                   'pace_zone']]"
   ]
  },
  {
   "cell_type": "code",
   "execution_count": 18,
   "metadata": {},
   "outputs": [],
   "source": [
    "laps_df.to_csv(r'C:\\Users\\Manuel Elizaldi\\Desktop\\Learning-Testing\\PyStrava\\Outputs\\laps_table.csv')"
   ]
  },
  {
   "cell_type": "code",
   "execution_count": null,
   "metadata": {},
   "outputs": [],
   "source": [
    "# This function will parse the workout json, grab the relevant columns, clean the units and create a lap counter for the final dataframe\n",
    "def CleanLapsJson(workout_json):\n",
    "    # parsing json\n",
    "    df = pd.json_normalize(workout_json)\n",
    "\n",
    "    # Formatting distance to km \n",
    "    df['distance'] = round(df['distance']/1000,2)\n",
    "\n",
    "    # Formatting workout time to actual minutes\n",
    "    df['workout_time_min'] = round(df['moving_time']/60,2)\n",
    "    df['workout_time_min'] = round(df['workout_time_min'] - (df['workout_time_min']%1) + (((df['workout_time_min']%1) * 60)/100),2)\n",
    "    \n",
    "    # Date in the right format\n",
    "    df[\"start_date\"] = pd.to_datetime(df['start_date']).dt.date\n",
    "    # Formatting speed to km/h\n",
    "    df['average_speed'] = df['average_speed'] * 3.6\n",
    "    df['max_speed'] = df['max_speed'] * 3.6\n",
    "    df = df.rename(columns={'id':'activity_id','average_speed':'average_speed_km/h','max_speed':'max_speed_km/h'})\n",
    "    df['sport_type'] = df['sport_type'].replace({'Workout':'Functional-Cardio Workout'})\n",
    "    # Creating the start and end latitude and longitude\n",
    "    df[['start_lat', 'start_long']] = df['start_latlng'].apply(lambda x: pd.Series(str(x).strip('[]').split(',')))\n",
    "    df[['end_lat', 'end_long']] = df['end_latlng'].apply(lambda x: pd.Series(str(x).strip('[]').split(',')))\n",
    "\n",
    "    #Getting the columns we want\n",
    "    df = df[['activity_id',\n",
    "                'name',\n",
    "                'start_date',\n",
    "                'sport_type',\n",
    "                'distance',\n",
    "                'workout_time_min',\n",
    "                'calories',\n",
    "                'total_elevation_gain',\n",
    "                'start_lat',\n",
    "                'start_long',\n",
    "                'end_lat',\n",
    "                'end_long',\n",
    "                'average_speed_km/h',\n",
    "                'max_speed_km/h',\n",
    "                'average_temp',\n",
    "                'average_heartrate',\n",
    "                'max_heartrate']]\n",
    "\n",
    "\n",
    "    # Now working on laps data frame, we create 2, 1 for lap avg time and lap counter\n",
    "    workout_laps = pd.json_normalize(workout_json,'laps')\n",
    "    workout_laps = workout_laps[['activity.id','name','moving_time','distance','average_heartrate','max_heartrate','average_speed','max_speed']]\n",
    "    workout_laps = workout_laps.rename(columns={'activity.id':'activity_id',\n",
    "                                                    'name':'lap',\n",
    "                                                    'moving_time':'lap_time_min',\n",
    "                                                    'distance':'lap_distance',\n",
    "                                                    'average_heartrate':'lap_average_heartrate',\n",
    "                                                    'max_heartrate':'lap_max_heartrate_km/h',\n",
    "                                                    'average_speed':'lap_average_speed_km/h',\n",
    "                                                    'max_speed':'lap_max_speed'})"
   ]
  }
 ],
 "metadata": {
  "kernelspec": {
   "display_name": "base",
   "language": "python",
   "name": "python3"
  },
  "language_info": {
   "codemirror_mode": {
    "name": "ipython",
    "version": 3
   },
   "file_extension": ".py",
   "mimetype": "text/x-python",
   "name": "python",
   "nbconvert_exporter": "python",
   "pygments_lexer": "ipython3",
   "version": "3.8.5"
  }
 },
 "nbformat": 4,
 "nbformat_minor": 2
}
