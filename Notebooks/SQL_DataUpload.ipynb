{
 "cells": [
  {
   "cell_type": "code",
   "execution_count": 40,
   "metadata": {},
   "outputs": [],
   "source": [
    "import pandas as pd\n",
    "import psycopg2\n",
    "import sys\n",
    "sys.path.append(r'C:\\Users\\Usuario\\Desktop\\Learning-Testing\\PyStrava')\n",
    "sys.path.append(r'C:\\Users\\Usuario\\Desktop\\Learning-Testing\\PyStrava\\Scripts')\n",
    "from Functions import *\n",
    "from StravaCredentials import hostname, database, username, pwd, port_id\n",
    "import json"
   ]
  },
  {
   "cell_type": "code",
   "execution_count": 41,
   "metadata": {},
   "outputs": [
    {
     "data": {
      "text/plain": [
       "<function Functions.CleanWorkoutJson(workout_json)>"
      ]
     },
     "execution_count": 41,
     "metadata": {},
     "output_type": "execute_result"
    }
   ],
   "source": [
    "CleanWorkoutJson"
   ]
  },
  {
   "cell_type": "code",
   "execution_count": 29,
   "metadata": {},
   "outputs": [],
   "source": [
    "conn = psycopg2.connect(\n",
    "    host = hostname,\n",
    "    dbname = database,\n",
    "    user = username,\n",
    "    password = pwd,\n",
    "    port = port_id\n",
    ")\n",
    "\n",
    "cur = conn.cursor()"
   ]
  },
  {
   "cell_type": "code",
   "execution_count": 37,
   "metadata": {},
   "outputs": [],
   "source": [
    "json_file = r'C:\\Users\\Usuario\\Desktop\\Learning-Testing\\PyStrava\\Outputs\\all_workouts_json.json'\n",
    "with open(json_file) as data:\n",
    "    workout_json = json.load(data)"
   ]
  },
  {
   "cell_type": "code",
   "execution_count": 45,
   "metadata": {},
   "outputs": [],
   "source": [
    "# Cleaning json and creating score columns\n",
    "workout_df = CleanWorkoutJson(workout_json)\n",
    "workout_df = CreateScoreColumns(workout_df)"
   ]
  },
  {
   "cell_type": "code",
   "execution_count": 47,
   "metadata": {},
   "outputs": [
    {
     "data": {
      "text/plain": [
       "['activity_id',\n",
       " 'name',\n",
       " 'start_date',\n",
       " 'sport_type',\n",
       " 'distance',\n",
       " 'workout_time_min',\n",
       " 'calories',\n",
       " 'total_elevation_gain',\n",
       " 'start_lat',\n",
       " 'start_long',\n",
       " 'end_lat',\n",
       " 'end_long',\n",
       " 'average_speed_km/h',\n",
       " 'max_speed_km/h',\n",
       " 'average_temp',\n",
       " 'average_heartrate',\n",
       " 'max_heartrate',\n",
       " 'avg_lap_time',\n",
       " 'lap_count',\n",
       " 'pace',\n",
       " 'pace_score',\n",
       " 'distance_score',\n",
       " 'workout_time_score',\n",
       " 'calorie_score',\n",
       " 'total_elevation_gain_score',\n",
       " 'average_heartrate_score',\n",
       " 'max_heartrate_score',\n",
       " 'avg_lap_time_score',\n",
       " 'lap_count_score',\n",
       " 'avg_speed_score',\n",
       " 'max_speed_score',\n",
       " 'effort_score',\n",
       " 'effort_score_label',\n",
       " 'effort_score_rank']"
      ]
     },
     "execution_count": 47,
     "metadata": {},
     "output_type": "execute_result"
    }
   ],
   "source": [
    "list(workout_df.columns)"
   ]
  },
  {
   "cell_type": "code",
   "execution_count": 51,
   "metadata": {},
   "outputs": [],
   "source": [
    "# Breaking down workout_df to all different tables\n",
    "activity = workout_df[['activity_id',\n",
    "                       'start_date',\n",
    "                       'sport_type',\n",
    "                       'effort_score']]\n",
    "\n",
    "activity_name = workout_df[['activity_id',\n",
    "                            'name']]\n",
    "\n",
    "activity_coordinates = workout_df[['activity_id',\n",
    "                                   'start_lat',\n",
    "                                   'start_long',\n",
    "                                   'end_lat',\n",
    "                                   'end_long']]\n",
    "\n",
    "activity_details = workout_df[['activity_id',\n",
    "                               'workout_time_min',\n",
    "                               'calories',\n",
    "                               'average_heartrate',\n",
    "                               'avg_lap_time',\n",
    "                               'total_elevation_gain',\n",
    "                               'max_heartrate',\n",
    "                               'distance',\n",
    "                               'average_speed_km/h',\n",
    "                               'max_speed_km/h',\n",
    "                               'average_temp',\n",
    "                               'pace',\n",
    "                               'lap_count']]\n",
    "\n",
    "activity_scores = workout_df[['activity_id',\n",
    "                              'distance_score',\n",
    "                              'workout_time_score',\n",
    "                              'calorie_score',\n",
    "                              'total_elevation_gain_score',\n",
    "                              'average_heartrate_score',\n",
    "                              'max_heartrate_score',\n",
    "                              'avg_lap_time_score',\n",
    "                              'lap_count_score',\n",
    "                              'avg_speed_score',\n",
    "                              'max_speed_score',\n",
    "                              'pace_score',\n",
    "                              'effort_score',\n",
    "                              'effort_score_rank']]"
   ]
  },
  {
   "cell_type": "code",
   "execution_count": null,
   "metadata": {},
   "outputs": [],
   "source": []
  }
 ],
 "metadata": {
  "kernelspec": {
   "display_name": "Python 3",
   "language": "python",
   "name": "python3"
  },
  "language_info": {
   "codemirror_mode": {
    "name": "ipython",
    "version": 3
   },
   "file_extension": ".py",
   "mimetype": "text/x-python",
   "name": "python",
   "nbconvert_exporter": "python",
   "pygments_lexer": "ipython3",
   "version": "3.12.1"
  }
 },
 "nbformat": 4,
 "nbformat_minor": 2
}
