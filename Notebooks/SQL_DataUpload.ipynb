{
 "cells": [
  {
   "cell_type": "code",
   "execution_count": 18,
   "metadata": {},
   "outputs": [],
   "source": [
    "import pandas as pd\n",
    "import sys\n",
    "sys.path.append(r'C:\\Users\\Usuario\\Desktop\\Learning-Testing\\PyStrava')\n",
    "sys.path.append(r'C:\\Users\\Usuario\\Desktop\\Learning-Testing\\PyStrava\\Scripts')\n",
    "from Functions import *\n",
    "from StravaCredentials import hostname, database, username, pwd, port_id\n",
    "import json\n",
    "from sqlalchemy import create_engine"
   ]
  },
  {
   "cell_type": "code",
   "execution_count": 19,
   "metadata": {},
   "outputs": [],
   "source": [
    "db_url = f'postgresql://{username}:{pwd}@{hostname}:{port_id}/{database}'\n",
    "engine = create_engine(db_url)"
   ]
  },
  {
   "cell_type": "code",
   "execution_count": 2,
   "metadata": {},
   "outputs": [],
   "source": [
    "conn = psycopg2.connect(\n",
    "    host = hostname,\n",
    "    dbname = database,\n",
    "    user = username,\n",
    "    password = pwd,\n",
    "    port = port_id\n",
    ")\n",
    "\n",
    "cur = conn.cursor()"
   ]
  },
  {
   "cell_type": "code",
   "execution_count": 3,
   "metadata": {},
   "outputs": [],
   "source": [
    "json_file = r'C:\\Users\\Usuario\\Desktop\\Learning-Testing\\PyStrava\\Outputs\\all_workouts_json.json'\n",
    "with open(json_file) as data:\n",
    "    workout_json = json.load(data)"
   ]
  },
  {
   "cell_type": "code",
   "execution_count": 6,
   "metadata": {},
   "outputs": [],
   "source": [
    "# Cleaning json and creating score columns\n",
    "workout_df = CleanWorkoutJson(workout_json)\n",
    "laps_df = CleanLapsJson(workout_json)\n",
    "workout_df = CreateScoreColumns(workout_df)"
   ]
  },
  {
   "cell_type": "code",
   "execution_count": 20,
   "metadata": {},
   "outputs": [],
   "source": [
    "# Breaking down workout_df to all different tables - laps table is = to laps_df\n",
    "activity = workout_df[['activity_id',\n",
    "                       'start_date',\n",
    "                       'sport_type',\n",
    "                       'effort_score_label']]\n",
    "\n",
    "activity_name = workout_df[['activity_id',\n",
    "                            'name']]\n",
    "\n",
    "activity_coordinates = workout_df[['activity_id',\n",
    "                                   'start_lat',\n",
    "                                   'start_long',\n",
    "                                   'end_lat',\n",
    "                                   'end_long']]\n",
    "\n",
    "activity_details = workout_df[['activity_id',\n",
    "                               'workout_time_min',\n",
    "                               'calories',\n",
    "                               'average_heartrate',\n",
    "                               'avg_lap_time',\n",
    "                               'total_elevation_gain',\n",
    "                               'max_heartrate',\n",
    "                               'distance',\n",
    "                               'average_speed_km/h',\n",
    "                               'max_speed_km/h',\n",
    "                               'average_temp',\n",
    "                               'pace',\n",
    "                               'lap_count']]\n",
    "\n",
    "activity_scores = workout_df[['activity_id',\n",
    "                              'distance_score',\n",
    "                              'workout_time_score',\n",
    "                              'calorie_score',\n",
    "                              'total_elevation_gain_score',\n",
    "                              'average_heartrate_score',\n",
    "                              'max_heartrate_score',\n",
    "                              'avg_lap_time_score',\n",
    "                              'lap_count_score',\n",
    "                              'avg_speed_score',\n",
    "                              'max_speed_score',\n",
    "                              'pace_score',\n",
    "                              'effort_score',\n",
    "                              'effort_score_rank']]"
   ]
  },
  {
   "cell_type": "code",
   "execution_count": 29,
   "metadata": {},
   "outputs": [
    {
     "data": {
      "text/plain": [
       "129"
      ]
     },
     "execution_count": 29,
     "metadata": {},
     "output_type": "execute_result"
    }
   ],
   "source": [
    "# Sending data to Postgresql\n",
    "activity.to_sql('activity', engine, if_exists='replace', index=False)\n",
    "activity_name.to_sql('activity_name', engine, if_exists='replace', index=False)\n",
    "activity_coordinates.to_sql('activity_coordinates', engine, if_exists='replace', index=False)\n",
    "activity_details.to_sql('activity_details', engine, if_exists='replace', index=False)\n",
    "activity_scores.to_sql('activity_scores', engine, if_exists='replace', index=False)\n",
    "laps_df.to_sql('laps', engine, if_exists='replace', index=False)"
   ]
  },
  {
   "cell_type": "code",
   "execution_count": 25,
   "metadata": {},
   "outputs": [
    {
     "data": {
      "text/html": [
       "<div>\n",
       "<style scoped>\n",
       "    .dataframe tbody tr th:only-of-type {\n",
       "        vertical-align: middle;\n",
       "    }\n",
       "\n",
       "    .dataframe tbody tr th {\n",
       "        vertical-align: top;\n",
       "    }\n",
       "\n",
       "    .dataframe thead th {\n",
       "        text-align: right;\n",
       "    }\n",
       "</style>\n",
       "<table border=\"1\" class=\"dataframe\">\n",
       "  <thead>\n",
       "    <tr style=\"text-align: right;\">\n",
       "      <th></th>\n",
       "      <th>activity_id</th>\n",
       "      <th>name</th>\n",
       "    </tr>\n",
       "  </thead>\n",
       "  <tbody>\n",
       "    <tr>\n",
       "      <th>0</th>\n",
       "      <td>10343078755</td>\n",
       "      <td>Morning Run</td>\n",
       "    </tr>\n",
       "    <tr>\n",
       "      <th>1</th>\n",
       "      <td>10322687345</td>\n",
       "      <td>Morning Run</td>\n",
       "    </tr>\n",
       "    <tr>\n",
       "      <th>2</th>\n",
       "      <td>10309277702</td>\n",
       "      <td>Evening Run</td>\n",
       "    </tr>\n",
       "    <tr>\n",
       "      <th>3</th>\n",
       "      <td>10298502876</td>\n",
       "      <td>Evening Run</td>\n",
       "    </tr>\n",
       "    <tr>\n",
       "      <th>4</th>\n",
       "      <td>10292826019</td>\n",
       "      <td>Evening Run</td>\n",
       "    </tr>\n",
       "    <tr>\n",
       "      <th>5</th>\n",
       "      <td>10257445914</td>\n",
       "      <td>Morning Run</td>\n",
       "    </tr>\n",
       "    <tr>\n",
       "      <th>6</th>\n",
       "      <td>10251037068</td>\n",
       "      <td>Morning Run</td>\n",
       "    </tr>\n",
       "    <tr>\n",
       "      <th>7</th>\n",
       "      <td>10233971826</td>\n",
       "      <td>Morning Run</td>\n",
       "    </tr>\n",
       "    <tr>\n",
       "      <th>8</th>\n",
       "      <td>10230744464</td>\n",
       "      <td>Afternoon Run</td>\n",
       "    </tr>\n",
       "    <tr>\n",
       "      <th>9</th>\n",
       "      <td>10220071235</td>\n",
       "      <td>Evening Run</td>\n",
       "    </tr>\n",
       "    <tr>\n",
       "      <th>10</th>\n",
       "      <td>10212537905</td>\n",
       "      <td>Lunch Run</td>\n",
       "    </tr>\n",
       "    <tr>\n",
       "      <th>11</th>\n",
       "      <td>10194730740</td>\n",
       "      <td>Morning Run</td>\n",
       "    </tr>\n",
       "    <tr>\n",
       "      <th>12</th>\n",
       "      <td>10180090228</td>\n",
       "      <td>Evening Run</td>\n",
       "    </tr>\n",
       "    <tr>\n",
       "      <th>13</th>\n",
       "      <td>10058636758</td>\n",
       "      <td>Evening Run</td>\n",
       "    </tr>\n",
       "    <tr>\n",
       "      <th>14</th>\n",
       "      <td>10052377395</td>\n",
       "      <td>Evening Run</td>\n",
       "    </tr>\n",
       "    <tr>\n",
       "      <th>15</th>\n",
       "      <td>10016212281</td>\n",
       "      <td>Evening Run</td>\n",
       "    </tr>\n",
       "    <tr>\n",
       "      <th>16</th>\n",
       "      <td>9995563010</td>\n",
       "      <td>Good Long Run</td>\n",
       "    </tr>\n",
       "    <tr>\n",
       "      <th>17</th>\n",
       "      <td>9957998721</td>\n",
       "      <td>Afternoon Run</td>\n",
       "    </tr>\n",
       "    <tr>\n",
       "      <th>18</th>\n",
       "      <td>9939802653</td>\n",
       "      <td>Afternoon Run</td>\n",
       "    </tr>\n",
       "    <tr>\n",
       "      <th>19</th>\n",
       "      <td>9850629317</td>\n",
       "      <td>Speed workout</td>\n",
       "    </tr>\n",
       "  </tbody>\n",
       "</table>\n",
       "</div>"
      ],
      "text/plain": [
       "    activity_id           name\n",
       "0   10343078755    Morning Run\n",
       "1   10322687345    Morning Run\n",
       "2   10309277702    Evening Run\n",
       "3   10298502876    Evening Run\n",
       "4   10292826019    Evening Run\n",
       "5   10257445914    Morning Run\n",
       "6   10251037068    Morning Run\n",
       "7   10233971826    Morning Run\n",
       "8   10230744464  Afternoon Run\n",
       "9   10220071235    Evening Run\n",
       "10  10212537905      Lunch Run\n",
       "11  10194730740    Morning Run\n",
       "12  10180090228    Evening Run\n",
       "13  10058636758    Evening Run\n",
       "14  10052377395    Evening Run\n",
       "15  10016212281    Evening Run\n",
       "16   9995563010  Good Long Run\n",
       "17   9957998721  Afternoon Run\n",
       "18   9939802653  Afternoon Run\n",
       "19   9850629317  Speed workout"
      ]
     },
     "execution_count": 25,
     "metadata": {},
     "output_type": "execute_result"
    }
   ],
   "source": [
    "activity_name"
   ]
  },
  {
   "cell_type": "code",
   "execution_count": 27,
   "metadata": {},
   "outputs": [
    {
     "data": {
      "text/plain": [
       "20"
      ]
     },
     "execution_count": 27,
     "metadata": {},
     "output_type": "execute_result"
    }
   ],
   "source": []
  },
  {
   "cell_type": "code",
   "execution_count": null,
   "metadata": {},
   "outputs": [],
   "source": []
  }
 ],
 "metadata": {
  "kernelspec": {
   "display_name": "Python 3",
   "language": "python",
   "name": "python3"
  },
  "language_info": {
   "codemirror_mode": {
    "name": "ipython",
    "version": 3
   },
   "file_extension": ".py",
   "mimetype": "text/x-python",
   "name": "python",
   "nbconvert_exporter": "python",
   "pygments_lexer": "ipython3",
   "version": "3.12.1"
  }
 },
 "nbformat": 4,
 "nbformat_minor": 2
}
