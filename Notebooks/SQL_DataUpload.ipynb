{
 "cells": [
  {
   "cell_type": "code",
   "execution_count": 40,
   "metadata": {},
   "outputs": [],
   "source": [
    "import pandas as pd\n",
    "import psycopg2\n",
    "import sys\n",
    "sys.path.append(r'C:\\Users\\Usuario\\Desktop\\Learning-Testing\\PyStrava')\n",
    "sys.path.append(r'C:\\Users\\Usuario\\Desktop\\Learning-Testing\\PyStrava\\Scripts')\n",
    "from Functions import *\n",
    "from StravaCredentials import hostname, database, username, pwd, port_id\n",
    "import json"
   ]
  },
  {
   "cell_type": "code",
   "execution_count": 41,
   "metadata": {},
   "outputs": [
    {
     "data": {
      "text/plain": [
       "<function Functions.CleanWorkoutJson(workout_json)>"
      ]
     },
     "execution_count": 41,
     "metadata": {},
     "output_type": "execute_result"
    }
   ],
   "source": [
    "CleanWorkoutJson"
   ]
  },
  {
   "cell_type": "code",
   "execution_count": 29,
   "metadata": {},
   "outputs": [],
   "source": [
    "conn = psycopg2.connect(\n",
    "    host = hostname,\n",
    "    dbname = database,\n",
    "    user = username,\n",
    "    password = pwd,\n",
    "    port = port_id\n",
    ")\n",
    "\n",
    "cur = conn.cursor()"
   ]
  },
  {
   "cell_type": "code",
   "execution_count": 37,
   "metadata": {},
   "outputs": [],
   "source": [
    "json_file = r'C:\\Users\\Usuario\\Desktop\\Learning-Testing\\PyStrava\\Outputs\\all_workouts_json.json'\n",
    "with open(json_file) as data:\n",
    "    workout_json = json.load(data)"
   ]
  },
  {
   "cell_type": "code",
   "execution_count": 42,
   "metadata": {},
   "outputs": [],
   "source": [
    "workout_df = CleanWorkoutJson(workout_json)"
   ]
  },
  {
   "cell_type": "code",
   "execution_count": null,
   "metadata": {},
   "outputs": [],
   "source": []
  }
 ],
 "metadata": {
  "kernelspec": {
   "display_name": "Python 3",
   "language": "python",
   "name": "python3"
  },
  "language_info": {
   "codemirror_mode": {
    "name": "ipython",
    "version": 3
   },
   "file_extension": ".py",
   "mimetype": "text/x-python",
   "name": "python",
   "nbconvert_exporter": "python",
   "pygments_lexer": "ipython3",
   "version": "3.12.1"
  }
 },
 "nbformat": 4,
 "nbformat_minor": 2
}
