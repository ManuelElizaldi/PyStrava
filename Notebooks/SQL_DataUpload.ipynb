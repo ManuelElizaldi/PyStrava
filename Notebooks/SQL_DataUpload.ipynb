{
 "cells": [
  {
   "cell_type": "code",
   "execution_count": null,
   "metadata": {},
   "outputs": [],
   "source": [
    "import pandas as pd\n",
    "import sys\n",
    "sys.path.extend([\n",
    "    r'C:\\Users\\Usuario\\OneDrive\\Desktop\\Learning-Testing\\PyStrava',\n",
    "    r'C:\\Users\\Usuario\\OneDrive\\Desktop\\Learning-Testing\\PyStrava\\Scripts'\n",
    "])\n",
    "from Functions import *\n",
    "from StravaCredentials import *\n",
    "import json\n",
    "from sqlalchemy import create_engine\n",
    "import psycopg2\n",
    "import pandas.io.sql as sqlio"
   ]
  },
  {
   "cell_type": "code",
   "execution_count": null,
   "metadata": {},
   "outputs": [],
   "source": [
    "db_url = f'postgresql://{username}:{pwd}@{hostname}:{port_id}/{database}'\n",
    "engine = create_engine(db_url)"
   ]
  },
  {
   "cell_type": "code",
   "execution_count": 4,
   "metadata": {},
   "outputs": [],
   "source": [
    "conn = psycopg2.connect(\n",
    "    host = hostname,\n",
    "    dbname = database,\n",
    "    user = username,\n",
    "    password = pwd,\n",
    "    port = port_id\n",
    ")\n",
    "\n",
    "cur = conn.cursor()\n",
    "query = \"select activity_id from activity\"\n",
    "\n",
    "df = sqlio.read_sql_query(query, conn)\n",
    "list(df['activity_id'])"
   ]
  },
  {
   "cell_type": "code",
   "execution_count": null,
   "metadata": {},
   "outputs": [],
   "source": [
    "# Cleaning json and creating score columns\n",
    "workout_df = CleanWorkoutJson(workout_json)\n",
    "laps_df = CleanLapsJson(workout_json)\n",
    "workout_df = CreateScoreColumns(workout_df)"
   ]
  },
  {
   "cell_type": "code",
   "execution_count": null,
   "metadata": {},
   "outputs": [],
   "source": [
    "# Breaking down workout_df to all different tables - laps table is = to laps_df\n",
    "def DivideTables(workout_df):    \n",
    "    activity = workout_df[['activity_id',\n",
    "                        'start_date',\n",
    "                        'sport_type',\n",
    "                        'effort_score_label']]\n",
    "\n",
    "    activity_name = workout_df[['activity_id',\n",
    "                                'name']]\n",
    "\n",
    "    activity_coordinates = workout_df[['activity_id',\n",
    "                                    'start_lat',\n",
    "                                    'start_long',\n",
    "                                    'end_lat',\n",
    "                                    'end_long']]\n",
    "\n",
    "    activity_details = workout_df[['activity_id',\n",
    "                                'workout_time_min',\n",
    "                                'calories',\n",
    "                                'average_heartrate',\n",
    "                                'avg_lap_time',\n",
    "                                'total_elevation_gain',\n",
    "                                'max_heartrate',\n",
    "                                'distance',\n",
    "                                'average_speed_km/h',\n",
    "                                'max_speed_km/h',\n",
    "                                'average_temp',\n",
    "                                'pace',\n",
    "                                'lap_count']]\n",
    "\n",
    "    activity_scores = workout_df[['activity_id',\n",
    "                                'distance_score',\n",
    "                                'workout_time_score',\n",
    "                                'calorie_score',\n",
    "                                'total_elevation_gain_score',\n",
    "                                'average_heartrate_score',\n",
    "                                'max_heartrate_score',\n",
    "                                'avg_lap_time_score',\n",
    "                                'lap_count_score',\n",
    "                                'avg_speed_score',\n",
    "                                'max_speed_score',\n",
    "                                'pace_score',\n",
    "                                'effort_score',\n",
    "                                'effort_score_rank']]\n",
    "    \n",
    "    return activity, activity_name, activity_coordinates, activity_details, activity_scores"
   ]
  },
  {
   "cell_type": "code",
   "execution_count": null,
   "metadata": {},
   "outputs": [],
   "source": [
    "all_workouts_df = pd.read_csv(r'C:\\Users\\Usuario\\Desktop\\Learning-Testing\\PyStrava\\Outputs\\all_workouts_df.csv')"
   ]
  },
  {
   "cell_type": "code",
   "execution_count": null,
   "metadata": {},
   "outputs": [],
   "source": [
    "activity, activity_name, activity_coordinates, activity_details, activity_scores = DivideTables(all_workouts_df)"
   ]
  },
  {
   "cell_type": "code",
   "execution_count": null,
   "metadata": {},
   "outputs": [],
   "source": [
    "# Sending data to Postgresql\n",
    "activity.to_sql('activity', engine, if_exists='replace', index=False)\n",
    "activity_name.to_sql('activity_name', engine, if_exists='replace', index=False)\n",
    "activity_coordinates.to_sql('activity_coordinates', engine, if_exists='replace', index=False)\n",
    "activity_details.to_sql('activity_details', engine, if_exists='replace', index=False)\n",
    "activity_scores.to_sql('activity_scores', engine, if_exists='replace', index=False)\n",
    "laps_df.to_sql('laps', engine, if_exists='replace', index=False)"
   ]
  },
  {
   "cell_type": "code",
   "execution_count": null,
   "metadata": {},
   "outputs": [],
   "source": []
  }
 ],
 "metadata": {
  "kernelspec": {
   "display_name": "Python 3",
   "language": "python",
   "name": "python3"
  },
  "language_info": {
   "codemirror_mode": {
    "name": "ipython",
    "version": 3
   },
   "file_extension": ".py",
   "mimetype": "text/x-python",
   "name": "python",
   "nbconvert_exporter": "python",
   "pygments_lexer": "ipython3",
   "version": "3.12.1"
  }
 },
 "nbformat": 4,
 "nbformat_minor": 2
}
