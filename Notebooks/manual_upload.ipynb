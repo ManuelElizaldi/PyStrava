{
 "cells": [
  {
   "cell_type": "code",
   "execution_count": 6,
   "metadata": {},
   "outputs": [],
   "source": [
    "import pandas as pd\n",
    "import json\n",
    "from sqlalchemy import create_engine\n",
    "import pandas.io.sql as sqlio\n",
    "import sys\n",
    "sys.path.extend([\n",
    "    r'C:\\Users\\Usuario\\OneDrive\\Desktop\\Learning-Testing\\PyStrava',\n",
    "    r'C:\\Users\\Usuario\\OneDrive\\Desktop\\Learning-Testing\\PyStrava\\Scripts'\n",
    "])\n",
    "from Functions import *\n",
    "from StravaCredentials import *"
   ]
  },
  {
   "cell_type": "code",
   "execution_count": 2,
   "metadata": {},
   "outputs": [],
   "source": [
    "# Creating connection to database and creating engine to upload data\n",
    "db_url = f'postgresql://{username}:{pwd}@{hostname}:{port_id}/{database}'\n",
    "engine = create_engine(db_url)"
   ]
  },
  {
   "cell_type": "code",
   "execution_count": 3,
   "metadata": {},
   "outputs": [],
   "source": [
    "df = pd.read_csv(r'C:\\Users\\Usuario\\OneDrive\\Desktop\\Learning-Testing\\PyStrava\\Outputs\\all_workouts_df.csv')"
   ]
  },
  {
   "cell_type": "code",
   "execution_count": 4,
   "metadata": {},
   "outputs": [],
   "source": [
    "# Dividing all_workouts_df to multiple tables to then upload to database\n",
    "activity, activity_name, activity_coordinates, activity_details, activity_scores = DivideTables(df)"
   ]
  },
  {
   "cell_type": "code",
   "execution_count": 7,
   "metadata": {},
   "outputs": [],
   "source": [
    "file_path = r'C:\\Users\\Usuario\\OneDrive\\Desktop\\Learning-Testing\\PyStrava\\Outputs\\test_updated_all_workouts_json2024-02-28.json'\n",
    "with open(file_path, 'r') as file:\n",
    "    data = json.load(file)\n",
    "laps_df = CleanLapsJson(data)"
   ]
  },
  {
   "cell_type": "code",
   "execution_count": 9,
   "metadata": {},
   "outputs": [
    {
     "name": "stdout",
     "output_type": "stream",
     "text": [
      "Uploading data to database.\n",
      "Database updated.\n"
     ]
    }
   ],
   "source": [
    "\n",
    "\n",
    "# Sending data to Postgresql\n",
    "print('Uploading data to database.')\n",
    "\n",
    "activity.to_sql('activity', engine, if_exists='replace', index=False, method = 'multi')\n",
    "activity_name.to_sql('activity_name', engine, if_exists='replace', index=False, method = 'multi')\n",
    "activity_coordinates.to_sql('activity_coordinates', engine, if_exists='replace', index=False, method = 'multi')\n",
    "activity_details.to_sql('activity_details', engine, if_exists='replace', index=False, method = 'multi')\n",
    "activity_scores.to_sql('activity_scores', engine, if_exists='replace', index=False, method = 'multi')\n",
    "laps_df.to_sql('laps', engine, if_exists='replace', index=False, method = 'multi')\n",
    "\n",
    "print('Database updated.')"
   ]
  },
  {
   "cell_type": "code",
   "execution_count": null,
   "metadata": {},
   "outputs": [],
   "source": []
  }
 ],
 "metadata": {
  "kernelspec": {
   "display_name": "Python 3",
   "language": "python",
   "name": "python3"
  },
  "language_info": {
   "codemirror_mode": {
    "name": "ipython",
    "version": 3
   },
   "file_extension": ".py",
   "mimetype": "text/x-python",
   "name": "python",
   "nbconvert_exporter": "python",
   "pygments_lexer": "ipython3",
   "version": "3.12.1"
  }
 },
 "nbformat": 4,
 "nbformat_minor": 2
}
