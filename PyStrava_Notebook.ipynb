{
 "cells": [
  {
   "cell_type": "code",
   "execution_count": null,
   "metadata": {},
   "outputs": [],
   "source": [
    "# Project idea -> add workout counter in look studio google\n",
    "# Packages required for this project:\n",
    "import requests\n",
    "import pandas as pd\n",
    "import numpy as np\n",
    "import pygsheets\n",
    "import datetime\n",
    "from datetime import date\n",
    "import json\n",
    "import webbrowser\n",
    "from time import sleep\n",
    "import gspread\n",
    "from oauth2client.service_account import ServiceAccountCredentials\n",
    "\n",
    "\n",
    "# enableing max columns for dataframes\n",
    "pd.set_option('display.max_columns', None)\n",
    "\n",
    "# Importing credentials for Strava's API\n",
    "from Credentials import StravaCredentials\n",
    "\n",
    "# Creating date variable\n",
    "today = date.today().strftime('%B/%d/%Y')"
   ]
  },
  {
   "cell_type": "code",
   "execution_count": null,
   "metadata": {},
   "outputs": [],
   "source": [
    "# Pending, this is not working, not extracting StravaCredentials variable:\n",
    "# Copy and paste this link in your browser and extract code -> #https://www.strava.com/oauth/authorize?client_id=99205&response_type=code&redirect_uri=http://localhost/&approval_prompt=force&scope=profile:read_all,activity:read_all\n",
    "data = StravaCredentials.data\n",
    "\n",
    "# In case you need to get the code again uncomment these:\n",
    "webbrowser.open(f\"https://www.strava.com/oauth/authorize?client_id={data['client_id']}&response_type=code&redirect_uri=http://localhost/&approval_prompt=force&scope=profile:read_all,activity:read_all\")\n",
    "data['code'] = input(\"From the web broswer enter the code:\")"
   ]
  },
  {
   "cell_type": "code",
   "execution_count": null,
   "metadata": {},
   "outputs": [],
   "source": [
    "# Creating function that returns the access token that is used in the other api calls\n",
    "def GetToken(data):\n",
    "    token = requests.post(url= 'https://www.strava.com/api/v3/oauth/token',data=data).json()\n",
    "    access_token = token['access_token']\n",
    "    \n",
    "    return access_token"
   ]
  },
  {
   "cell_type": "code",
   "execution_count": null,
   "metadata": {},
   "outputs": [],
   "source": [
    "# # Getting refresh and access token\n",
    "# token = requests.post(url= 'https://www.strava.com/api/v3/oauth/token',data=data).json()\n",
    "\n",
    "# # Accessing the token json to get refresh token and access token\n",
    "# refresh_token = token['refresh_token']\n",
    "# access_token = token['access_token']"
   ]
  },
  {
   "cell_type": "code",
   "execution_count": null,
   "metadata": {},
   "outputs": [],
   "source": [
    "access_token = GetToken(data)\n",
    "access_token"
   ]
  },
  {
   "cell_type": "code",
   "execution_count": null,
   "metadata": {},
   "outputs": [],
   "source": [
    "# Pending: \n",
    "test_url = f'https://www.strava.com/api/v3/activities/9102729006/zones?access_token='+access_token\n",
    "r = requests.get(test_url, data=data)\n",
    "r"
   ]
  },
  {
   "cell_type": "code",
   "execution_count": null,
   "metadata": {},
   "outputs": [],
   "source": [
    "# Getting athlete info\n",
    "athlete_url = 'https://www.strava.com/api/v3/athlete'\n",
    "athlete = requests.get(athlete_url+'?access_token='+access_token).json()\n",
    "\n",
    "# Covnerting json into dataframe and doing some data cleaning\n",
    "df_athlete = pd.json_normalize(athlete)\n",
    "df_athlete = df_athlete.T\n",
    "df_athlete = df_athlete.reset_index()\n",
    "df_athlete = df_athlete.rename(columns={0:'info'})\n",
    "df_athlete"
   ]
  },
  {
   "cell_type": "code",
   "execution_count": null,
   "metadata": {},
   "outputs": [],
   "source": [
    "# This API request gives us the general list of activities. \n",
    "# The table lacks certain details that we will get from another API request \n",
    "page = 1\n",
    "url = \"https://www.strava.com/api/v3/activities\"\n",
    "#access_token = token['access_token']\n",
    "#access_token = token\n",
    "# Create the dataframe ready for the API call to store your activity data\n",
    "\n",
    "activities = pd.DataFrame()\n",
    "while True:\n",
    "    # get page of activities from Strava\n",
    "    print('Getting page number:',page)\n",
    "    r = requests.get(url + '?access_token=' + access_token + '&per_page=200' + '&page=' + str(page))\n",
    "    r = r.json()\n",
    "    print(f'Extraction of page {page} Complete')\n",
    "    # if no results then exit loop\n",
    "    if (not r):\n",
    "        print('Extration Done')\n",
    "        break\n",
    "    r = pd.json_normalize(r)\n",
    "    activities = activities.append(r) # type: ignore\n",
    "    \n",
    "    page += 1\n",
    "\n",
    "    clean_activities = activities[['id',\n",
    "    'name',\n",
    "    'distance',\n",
    "    'elapsed_time',\n",
    "    'total_elevation_gain',\n",
    "    'sport_type',\n",
    "    'start_date','achievement_count',\n",
    "    'athlete_count',\n",
    "    'start_latlng',\n",
    "    'end_latlng',\n",
    "    'average_speed',\n",
    "    'max_speed',\n",
    "    'average_temp',\n",
    "    'average_heartrate',\n",
    "    'max_heartrate',\n",
    "    'average_cadence',\n",
    "    'elev_high',\n",
    "    'elev_low']]"
   ]
  },
  {
   "cell_type": "code",
   "execution_count": null,
   "metadata": {},
   "outputs": [],
   "source": [
    "# define a function to retrieve activities from Strava API\n",
    "def retrieve_activities():\n",
    "    url = \"https://www.strava.com/api/v3/activities\"\n",
    "    activities = pd.DataFrame()\n",
    "    page = 1\n",
    "    while True:\n",
    "        # get page of activities from Strava\n",
    "        print('Getting page number:', page)\n",
    "        r = requests.get(url + '?access_token=' + access_token + '&per_page=200' + '&page=' + str(page))\n",
    "        \n",
    "        # check for rate limit exceeded error\n",
    "        if r.status_code != 200:\n",
    "            print('Error:',r.status_code, 'stopping extraction')\n",
    "            break\n",
    "    \n",
    "        else:\n",
    "            r = r.json()\n",
    "            print(f'Extraction of page {page} complete')\n",
    "            # if no results then exit loop\n",
    "            if (not r):\n",
    "                print('Extraction done')\n",
    "                break\n",
    "            r = pd.json_normalize(r)\n",
    "            activities = activities.append(r) # type: ignore\n",
    "            page += 1\n",
    "\n",
    "    try:\n",
    "        # clean up the dataframe\n",
    "        clean_activities = activities[['id',\n",
    "            'name',\n",
    "            'distance',\n",
    "            'elapsed_time',\n",
    "            'total_elevation_gain',\n",
    "            'sport_type',\n",
    "            'start_date',\n",
    "            'achievement_count',\n",
    "            'athlete_count',\n",
    "            'start_latlng',\n",
    "            'end_latlng',\n",
    "            'average_speed',\n",
    "            'max_speed',\n",
    "            'average_temp',\n",
    "            'average_heartrate',\n",
    "            'max_heartrate',\n",
    "            'average_cadence',\n",
    "            'elev_high',\n",
    "            'elev_low']]\n",
    "        return clean_activities\n",
    "    except:\n",
    "        ('Error occurred during extraction')\n",
    "\n",
    "# call the function to retrieve activities\n",
    "activities = retrieve_activities()"
   ]
  },
  {
   "cell_type": "code",
   "execution_count": null,
   "metadata": {},
   "outputs": [],
   "source": [
    "# Checkpoint so I don't have to run API get request\n",
    "#table = pd.read_csv(r'C:\\Users\\Manuel Elizaldi\\Desktop\\Learning-Testing\\StravaAPI\\Outputs\\clean_activities.csv')\n",
    "\n",
    "# Creating copy of activitieas dataframe and renaming some columns\n",
    "#clean_activities = GetWorkouts(access_token)\n",
    "general_table = clean_activities.copy()\n",
    "general_table = general_table.rename(columns={'elapsed_time':'workout_time_sec'})\n",
    "general_table.head()"
   ]
  },
  {
   "cell_type": "code",
   "execution_count": null,
   "metadata": {},
   "outputs": [],
   "source": [
    "# Cleaning dataframe and converting units \n",
    "# Aprox calories burned during workout calculation\n",
    "# Formual -> CB = T * (0.6309*H + 0.1988*W + 0.2017*A - 55.0969) / 4.184\n",
    "# CB ->  is the number of calories burned\n",
    "# T ->  is the duration of exercise in minutes\n",
    "# H ->  is your average heart rate in beats per minute\n",
    "# W -> is your weight in kilograms = 80\n",
    "# A -> is your age in years\n",
    "general_table['aprox_calories_burned'] = round((general_table['workout_time_sec']/60) * ((0.6309*general_table['average_heartrate']) + (0.1988*80) + (0.2017*26 - 55.0969)) / 4.184,0)\n",
    "\n",
    "# from meters to kilometers\n",
    "general_table[['distance']] = round(general_table['distance']/1000,2)\n",
    "\n",
    "# from seconds to minutes\n",
    "general_table['workout_time_min'] = round(general_table['workout_time_sec']/60,2)\n",
    "\n",
    "# Fix start_date column into the correct format\n",
    "general_table[[\"start_date\"]] = pd.to_datetime(general_table['start_date']).dt.date\n",
    "\n",
    "# Changing name of workout type => Workout\n",
    "general_table['sport_type'] = general_table['sport_type'].replace({'Workout':'Functional-Cardio Workout'})\n",
    "\n",
    "# Preview\n",
    "print('Number of recorded workouts:',len(general_table))\n",
    "general_table.head()"
   ]
  },
  {
   "cell_type": "code",
   "execution_count": null,
   "metadata": {},
   "outputs": [],
   "source": [
    "# Function that cleans the output from the function GetWorkouts():\n",
    "def CleanGeneral_Table(general_table):\n",
    "    general_table['aprox_calories_burned'] = round((general_table['workout_time_sec']/60) * ((0.6309*general_table['average_heartrate']) + (0.1988*80) + (0.2017*26 - 55.0969)) / 4.184,0)\n",
    "\n",
    "    # from meters to kilometers\n",
    "    general_table[['distance']] = round(general_table['distance']/1000,2)\n",
    "\n",
    "    # from seconds to minutes\n",
    "    general_table['workout_time_min'] = round(general_table['workout_time_sec']/60,2)\n",
    "\n",
    "    # Fix start_date column into the correct format\n",
    "    general_table[[\"start_date\"]] = pd.to_datetime(general_table['start_date']).dt.date\n",
    "\n",
    "    # Changing name of workout type => Workout\n",
    "    general_table['sport_type'] = general_table['workout_type'].replace({'Workout':'Functional-Cardio Workout'})\n",
    "    \n",
    "    return general_table"
   ]
  },
  {
   "cell_type": "code",
   "execution_count": null,
   "metadata": {},
   "outputs": [],
   "source": [
    "# Creating additional dataframes for specific activities:\n",
    "# Running type workouts\n",
    "running_activities = general_table.loc[general_table['sport_type'].isin(['Run','TrailRun'])]\n",
    "\n",
    "# Biking type workouts\n",
    "biking_activities = general_table.loc[general_table['sport_type'].isin(['Ride','MountainBikeRide'])]\n",
    "\n",
    "# Functional type workouts\n",
    "functional_activities = general_table.loc[general_table['sport_type'].isin(['Functional-Cardio Workout'])]"
   ]
  },
  {
   "cell_type": "code",
   "execution_count": null,
   "metadata": {},
   "outputs": [],
   "source": [
    "def CreateActivitiesBreakdown(general_table):\n",
    "    # Variables for activities breakdown dataframe \n",
    "    today_msg = f'Total workouts as of {today}'\n",
    "    total_workouts = len(general_table)\n",
    "\n",
    "    # Breakdown of workout types:\n",
    "    new = [today_msg,total_workouts]\n",
    "    activities_breakdown = general_table['sport_type'].value_counts().rename_axis('Sport').reset_index(name='Count')\n",
    "    activities_breakdown = activities_breakdown.append(pd.Series(new, index=['Sport','Count']), ignore_index=True)\n",
    "    return activities_breakdown"
   ]
  },
  {
   "cell_type": "code",
   "execution_count": null,
   "metadata": {},
   "outputs": [],
   "source": [
    "# Variables for activities breakdown dataframe \n",
    "today_msg = f'Total workouts as of {today}'\n",
    "total_workouts = len(general_table)\n",
    "\n",
    "# Breakdown of workout types:\n",
    "new = [today_msg,total_workouts]\n",
    "activities_breakdown = general_table['sport_type'].value_counts().rename_axis('Sport').reset_index(name='Count')\n",
    "activities_breakdown = activities_breakdown.append(pd.Series(new, index=['Sport','Count']), ignore_index=True)\n",
    "activities_breakdown"
   ]
  },
  {
   "cell_type": "code",
   "execution_count": null,
   "metadata": {},
   "outputs": [],
   "source": [
    "# General statistics\n",
    "first_recorded_workout = min(general_table['start_date'])\n",
    "most_recent_workout=max(general_table['start_date'])\n",
    "average_workout_duration=round(general_table['workout_time_min'].mean(),2)\n",
    "aprox_average_calories_burned_per_workout=round(general_table['aprox_calories_burned'].mean(),0)\n",
    "average_distance_ran=round(running_activities['distance'].mean(),0)\n",
    "average_biking_distance=round(biking_activities['distance'].mean(),0)\n",
    "\n",
    "# Storing average calories for later analysis comparing calories from garmin, strava and my calculated value\n",
    "# %store average_calories_burned_per_workout\n",
    "\n",
    "# Creating dataframe from general statistics variables\n",
    "# Create the DataFrame\n",
    "general_stats_df = pd.DataFrame({\n",
    "    'First Workout':first_recorded_workout,\n",
    "    'Most Recent Workout': most_recent_workout,\n",
    "    'Average Workout Duration in Minutes':average_workout_duration,\n",
    "    'Approximate Average Calories Burned Per Workout':aprox_average_calories_burned_per_workout,\n",
    "    'Average Distance Ran in Kilometers':average_distance_ran,\n",
    "    'Average Biking Distance in Kilometers':average_biking_distance\n",
    "},index=['Info'])\n",
    "\n",
    "# Transposing dataframe, setting new index and column\n",
    "general_stats_df = general_stats_df.T\n",
    "general_stats_df = general_stats_df.reset_index()\n",
    "general_stats_df = general_stats_df.rename(columns={'index':'Info','Info':'Data'})\n",
    "general_stats_df"
   ]
  },
  {
   "cell_type": "code",
   "execution_count": null,
   "metadata": {},
   "outputs": [],
   "source": [
    "# Creating list of ids of these activities to use in the detailed workout api request \n",
    "running_id_list = list(running_activities['id'])\n",
    "biking_id_list = list(biking_activities['id'])\n",
    "functional_id_list = list(functional_activities['id'])\n",
    "most_recent_id_lsit = list(general_table['id'][0:100])\n",
    "all_workouts_list = list(general_table['id'])"
   ]
  },
  {
   "cell_type": "code",
   "execution_count": null,
   "metadata": {},
   "outputs": [],
   "source": [
    "len(all_workouts_list)"
   ]
  },
  {
   "cell_type": "code",
   "execution_count": null,
   "metadata": {},
   "outputs": [],
   "source": [
    "# Get detailed view of workouts function:\n",
    "# This function will get the data for each workout, if it reaches the API request limit it will stop the process\n",
    "# The API rate limit allows us to do 100 requests for each 15 mintues. To prvent passing this limit we only grab -\n",
    "# - the most recent 100 workouts from each list.\n",
    "def GetWorkoutData(workout_list):\n",
    "    workout_info = []\n",
    "    workout_num = 1\n",
    "    if len(workout_list)>100:\n",
    "        print('This workout list is too large, reducing to the 100 most recent workouts.')\n",
    "        workout_list = workout_list[:100]\n",
    "        for i in workout_list:\n",
    "            print('Extracting workout:', workout_num)\n",
    "            req = requests.get(url = f'https://www.strava.com/api/v3/activities/{i}?access_token='+access_token)\n",
    "            if req.status_code == 200:\n",
    "                req = req.json()\n",
    "                workout_info.append(req)\n",
    "                workout_num += 1\n",
    "            else:\n",
    "                print('Error in authorization or API limit exceeded, stopping extraction')\n",
    "                break\n",
    "    else:\n",
    "        for i in workout_list:\n",
    "            print('Extracting workout:',workout_num)\n",
    "            req = requests.get(url = f'https://www.strava.com/api/v3/activities/{i}?access_token='+access_token)\n",
    "            if req.status_code == 200:\n",
    "                req = req.json()\n",
    "                workout_info.append(req)\n",
    "                workout_num += 1\n",
    "            else:\n",
    "                print('Error in authorization or API limit exceeded, stopping extraction')\n",
    "                break\n",
    "    return workout_info"
   ]
  },
  {
   "cell_type": "code",
   "execution_count": null,
   "metadata": {},
   "outputs": [],
   "source": [
    "def GetAllWorkouts(workout_list, access_token):\n",
    "    workout_info = []\n",
    "    workout_num = 1\n",
    "    rate_limit = 100\n",
    "    time_interval = 900  # 15 minutes = 900 seconds\n",
    "    wait_time = ((len(workout_list)/100) * 900)/60\n",
    "\n",
    "    # Perform iterations while respecting the rate limit\n",
    "    print(f'Extracting all workouts, due to the API rate limit, this will take {wait_time} minutes to run.')\n",
    "    for i in workout_list:\n",
    "        print('Extracting workout:', workout_num)\n",
    "        req = requests.get(url=f'https://www.strava.com/api/v3/activities/{i}?access_token='+access_token)\n",
    "        if req.status_code == 200:\n",
    "            req = req.json()\n",
    "            workout_info.append(req)\n",
    "            workout_num += 1\n",
    "        elif req.status_code == 429 and 'message' in req.json() and req.json()['message'] == 'Rate Limit Exceeded':\n",
    "            # If rate limit exceeded error is received, wait for 15 minutes before continuing\n",
    "            print('Rate limit exceeded. Waiting for 15 minutes...')\n",
    "            time.sleep(time_interval)\n",
    "        else:\n",
    "            print('Error occurred during API request:', req.status_code, req.json())\n",
    "            break\n",
    "\n",
    "        # Pause after every 100 iterations and wait for 15 minutes\n",
    "        if workout_num % rate_limit == 0:\n",
    "            print(f'Reached rate limit of {rate_limit} requests. Sleeping for {int(time_interval/60)} minutes.')\n",
    "            time.sleep(time_interval)\n",
    "\n",
    "    return workout_info"
   ]
  },
  {
   "cell_type": "code",
   "execution_count": null,
   "metadata": {},
   "outputs": [],
   "source": [
    "all_workouts_json = GetAllWorkouts(all_workouts_list,access_token)"
   ]
  },
  {
   "cell_type": "code",
   "execution_count": null,
   "metadata": {},
   "outputs": [],
   "source": [
    "# This function will parse the workout json, grab the relevant columns, clean the units and create a lap counter for the final dataframe\n",
    "def CleanWorkoutJson(workout_json):\n",
    "    df = pd.json_normalize(workout_json)\n",
    "    df[['distance']] = round(df['distance']/1000,2)\n",
    "    df['workout_time_min'] = round(df['elapsed_time']/60,2)\n",
    "    df[[\"start_date\"]] = pd.to_datetime(df['start_date']).dt.date\n",
    "    df[['average_speed']] = df['average_speed'] * 3.6\n",
    "    df[['max_speed']] = df['max_speed'] * 3.6\n",
    "    df = df.rename(columns={'id':'activity_id','average_speed':'average_speed_km/h','max_speed':'max_speed_km/h'})\n",
    "    df['sport_type'] = df['sport_type'].replace({'Workout':'Functional-Cardio Workout'})\n",
    "    # Creating the start and end latitude and longitude\n",
    "    df[['start_lat', 'start_long']] = df['start_latlng'].apply(lambda x: pd.Series(str(x).strip('[]').split(',')))\n",
    "    df[['end_lat', 'end_long']] = df['end_latlng'].apply(lambda x: pd.Series(str(x).strip('[]').split(',')))\n",
    "\n",
    "    df = df[['activity_id',\n",
    "               'name',\n",
    "               'start_date',\n",
    "               'sport_type',\n",
    "               'distance',\n",
    "               'workout_time_min',\n",
    "               'calories',\n",
    "               'total_elevation_gain',\n",
    "               'start_lat',\n",
    "               'start_long',\n",
    "               'end_lat',\n",
    "               'end_long',\n",
    "               'average_speed_km/h',\n",
    "               'max_speed_km/h',\n",
    "               'average_temp',\n",
    "               'average_heartrate',\n",
    "               'max_heartrate']]\n",
    "    \n",
    "\n",
    "    \n",
    "    workout_laps = pd.json_normalize(workout_json,'laps')\n",
    "    workout_laps = workout_laps[['activity.id','name','elapsed_time','distance','average_heartrate','max_heartrate','average_speed','max_speed']]\n",
    "    workout_laps = workout_laps.rename(columns={'activity.id':'activity_id',\n",
    "                                                'name':'lap',\n",
    "                                                'elapsed_time':'lap_elapsed_time_min',\n",
    "                                                'distance':'lap_distance',\n",
    "                                                'average_heartrate':'lap_average_heartrate',\n",
    "                                                'max_heartrate':'lap_max_heartrate_km/h',\n",
    "                                                'average_speed':'lap_average_speed_km/h',\n",
    "                                                'max_speed':'lap_max_speed'})\n",
    "    workout_laps['lap_elapsed_time_min'] = round(workout_laps['lap_elapsed_time_min']/60,2)\n",
    "    workout_laps['lap_distance'] = round(workout_laps['lap_distance']/1000,2)\n",
    "\n",
    "    avg_time_per_lap = workout_laps.groupby('activity_id').mean()\n",
    "    avg_time_per_lap = avg_time_per_lap.reset_index()\n",
    "    avg_time_per_lap = avg_time_per_lap[['activity_id','lap_elapsed_time_min']]\n",
    "    avg_time_per_lap = avg_time_per_lap.rename(columns={'lap_elapsed_time_min':'avg_time_per_lap'})    \n",
    "    \n",
    "    lap_counter = workout_laps['activity_id'].value_counts().rename_axis('activity_id').reset_index(name='lap_count')\n",
    "    \n",
    "    lap_stats = avg_time_per_lap.merge(lap_counter,on='activity_id')\n",
    "    \n",
    "    merged = df.merge(lap_stats, on = 'activity_id')\n",
    "    merged['lap_count'] = pd.to_numeric(merged['lap_count'])\n",
    "    return merged"
   ]
  },
  {
   "cell_type": "code",
   "execution_count": null,
   "metadata": {},
   "outputs": [],
   "source": [
    "# Function that calculates stats from workout dataframe\n",
    "def DescribeWorkoutdf(workout_df):\n",
    "    # Convert 'start_date' column to datetime.date data type\n",
    "    workout_df['start_date'] = pd.to_datetime(workout_df['start_date']).dt.date\n",
    "    \n",
    "    # Create variables to hold values\n",
    "    first_workout = min(workout_df['start_date'], default=datetime.date.min)\n",
    "    last_workout=max(workout_df['start_date'], default=datetime.date.min)\n",
    "    avg_workout_duration=round(workout_df['workout_time_min'].mean(),2)\n",
    "    avg_calories_burned_per_workout=workout_df['calories'].mean()\n",
    "    avg_distance=round(workout_df['distance'].mean(),0)\n",
    "    avg_heart_rate=round(workout_df['average_heartrate'].mean(),0)\n",
    "    avg_max_heart_rate=round(workout_df['max_heartrate'].mean(),0)\n",
    "    avg_speed=round(workout_df['average_speed_km/h'].mean(),0) * 3.6\n",
    "    avg_max_speed=round(workout_df['max_speed_km/h'].mean(),0) * 3.6\n",
    "    workout_counter = len(workout_df)\n",
    "    avg_laps = round(workout_df['lap_count'].mean(),0)\n",
    "\n",
    "    # Creating dataframe from general statistics variables\n",
    "    # Create the DataFrame\n",
    "    grl_stats_df = pd.DataFrame({\n",
    "        'First Recorded Workout:':first_workout,\n",
    "        'Most Recent Workout': last_workout,\n",
    "        'Average Workout Duration in Minutes':avg_workout_duration,\n",
    "        'Average Calories Burned Per Workout':avg_calories_burned_per_workout,\n",
    "        'Average Distance in Kilometers':avg_distance,\n",
    "        'Average Heart Rate':avg_heart_rate,\n",
    "        'Average Max Hear Rate':avg_max_heart_rate,\n",
    "        'Average Speed km/h':avg_speed,\n",
    "        'Average Max Speed km/h':avg_max_speed,\n",
    "        'Number of Workouts:': workout_counter,\n",
    "        'Average Number of Laps':avg_laps\n",
    "    },index=['Info'])\n",
    "\n",
    "\n",
    "    # Transposing dataframe, setting new index and column\n",
    "    grl_stats_df = grl_stats_df.T\n",
    "    grl_stats_df = grl_stats_df.reset_index()\n",
    "    grl_stats_df = grl_stats_df.rename(columns={'index':'Info','Info':'Data'})\n",
    "    return grl_stats_df"
   ]
  },
  {
   "attachments": {},
   "cell_type": "markdown",
   "metadata": {},
   "source": [
    "### Checkpoint"
   ]
  },
  {
   "cell_type": "code",
   "execution_count": null,
   "metadata": {},
   "outputs": [],
   "source": [
    "all_workouts_df = pd.read_excel(r'C:\\Users\\Manuel Elizaldi\\Desktop\\Learning-Testing\\PyStrava\\Outputs\\workout_data.xls',sheet_name='All_Workouts_Table')\n",
    "all_workouts_df.head(5)"
   ]
  },
  {
   "cell_type": "code",
   "execution_count": null,
   "metadata": {},
   "outputs": [],
   "source": [
    "# Creating the start and end latitude and longitude\n",
    "all_workouts_df[['start_lat', 'start_long']] = all_workouts_df['start_latlng'].apply(lambda x: pd.Series(str(x).strip('[]').split(',')))\n",
    "all_workouts_df[['end_lat', 'end_long']] = all_workouts_df['end_latlng'].apply(lambda x: pd.Series(str(x).strip('[]').split(',')))"
   ]
  },
  {
   "cell_type": "code",
   "execution_count": null,
   "metadata": {},
   "outputs": [],
   "source": [
    "# dropping the old coordinate columns\n",
    "all_workouts_df = all_workouts_df.drop(['start_latlng', 'end_latlng'], axis=1)"
   ]
  },
  {
   "cell_type": "code",
   "execution_count": null,
   "metadata": {},
   "outputs": [],
   "source": [
    "all_workouts_df"
   ]
  },
  {
   "cell_type": "code",
   "execution_count": null,
   "metadata": {},
   "outputs": [],
   "source": [
    "# This function creates the score columns used to build the k nearest neighbors model \n",
    "# points are marked with comments\n",
    "def CreateScoreColumns(df):    \n",
    "    distance_conditions = [\n",
    "        (df['distance']==0), # 1\n",
    "        (df['sport_type'].isin(['Run', 'TrailRun'])) & (df['distance'] >= 0) & (df['distance'] < 5), # 5\n",
    "        (df['sport_type'].isin(['Run', 'TrailRun'])) & (df['distance'] >= 5) & (df['distance'] < 10), # 10 \n",
    "        (df['sport_type'].isin(['Run', 'TrailRun'])) & (df['distance'] >= 10) & (df['distance'] < 13), # 25 \n",
    "        (df['sport_type'].isin(['Run', 'TrailRun'])) & (df['distance'] >= 13), # 30\n",
    "        (df['sport_type'].isin(['Ride', 'MountainBikeRide'])) & (df['distance'] >= 1) & (df['distance'] < 5), # 5\n",
    "        (df['sport_type'].isin(['Ride', 'MountainBikeRide'])) & (df['distance'] >= 5) & (df['distance'] < 8.5), # 10\n",
    "        (df['sport_type'].isin(['Ride', 'MountainBikeRide'])) & (df['distance'] >= 8.5) & (df['distance'] < 12), # 15\n",
    "        (df['sport_type'].isin(['Ride', 'MountainBikeRide'])) & (df['distance'] >= 12) & (df['distance'] < 15), # 20\n",
    "        (df['sport_type'].isin(['Ride', 'MountainBikeRide'])) & (df['distance'] >= 15), # 25\n",
    "        (df['sport_type'].isin(['AlpineSki']) & (df['distance'] >= 10) & (df['distance'] < 15)), # 10\n",
    "        (df['sport_type'].isin(['AlpineSki']) & (df['distance'] >= 15) & (df['distance'] < 20)), # 15\n",
    "        (df['sport_type'].isin(['AlpineSki']) & (df['distance'] >= 20)), # 20\n",
    "        (df['sport_type'].isin(['Swim'])) & (df['distance'] >= 0.10) & (df['distance'] < 0.20), # 10\n",
    "        (df['sport_type'].isin(['Swim'])) & (df['distance'] >= 0.20) & (df['distance'] < 0.30), # 15\n",
    "        (df['sport_type'].isin(['Swim'])) & (df['distance'] >= 0.30) & (df['distance'] < 0.35), # 20\n",
    "        (df['sport_type'].isin(['Swim'])) & (df['distance'] >= 0.35) & (df['distance'] < 0.40), # 25\n",
    "        (df['sport_type'].isin(['Swim'])) & (df['distance'] >= 0.40), # 30\n",
    "        (df['distance']> 0.5) & (df['distance'] < 1), # 1\n",
    "        (df['distance']> 1) & (df['distance'] < 2), # 2\n",
    "        (df['distance']> 2) & (df['distance'] < 3), # 3\n",
    "        (df['distance']> 3) & (df['distance'] < 4), # 4\n",
    "        (df['distance']> 4) # 5\n",
    "        ]\n",
    "\n",
    "    distance_conditions_values = [1, 5, 10, 25, 30, # running\n",
    "                                5, 10, 15, 20, 25, # biking\n",
    "                                10, 15, 20, # skiing\n",
    "                                10, 15, 20, 25, 30, # swimming\n",
    "                                1, 2, 3, 4, 5 # special activitie \n",
    "                                ]\n",
    "\n",
    "    # applying conditions and values\n",
    "    df['distance_score'] = np.select(distance_conditions, distance_conditions_values)\n",
    "\n",
    "    workout_time_condition = [\n",
    "        (df['workout_time_min'] >= 2) & (df['workout_time_min'] < 10),\n",
    "        (df['workout_time_min'] >= 10) & (df['workout_time_min'] < 15),\n",
    "        (df['workout_time_min'] >= 15) & (df['workout_time_min'] < 20),\n",
    "        (df['workout_time_min'] >= 20) & (df['workout_time_min'] < 25),\n",
    "        (df['workout_time_min'] >= 25) & (df['workout_time_min'] < 30),\n",
    "        (df['workout_time_min'] >= 20) & (df['workout_time_min'] < 35),\n",
    "        (df['workout_time_min'] >= 35) & (df['workout_time_min'] < 40),\n",
    "        (df['workout_time_min'] >= 40) & (df['workout_time_min'] < 45),\n",
    "        (df['workout_time_min'] >= 45) & (df['workout_time_min'] < 50),\n",
    "        (df['workout_time_min'] >= 55) & (df['workout_time_min'] < 60),\n",
    "        (df['workout_time_min'] >= 60)\n",
    "    ]\n",
    "\n",
    "    workout_time_values = [1, 5, 10, 15, 20, 25, 30, 35, 40, 45, 50]\n",
    "\n",
    "    # applying the conditions and values to the dataframe\n",
    "    df['workout_time_score'] = np.select(workout_time_condition, workout_time_values)\n",
    "\n",
    "    # building calories conditions and values\n",
    "    calories_conditions = [(df['calories'] >= 0) & (df['calories'] < 100), # 5\n",
    "                        (df['calories'] >= 100) & (df['calories'] < 200), # 15\n",
    "                        (df['calories'] >= 200) & (df['calories'] < 300), # 25\n",
    "                        (df['calories'] >= 300) & (df['calories'] < 400), # 35\n",
    "                        (df['calories'] >= 400) & (df['calories'] < 500), # 40\n",
    "                        (df['calories'] >= 500) & (df['calories'] < 600), # 50\n",
    "                        (df['calories'] >= 600) & (df['calories'] < 700), # 60\n",
    "                        (df['calories'] >= 700) & (df['calories'] < 800), # 70\n",
    "                        (df['calories'] >= 800) & (df['calories'] < 900), # 80\n",
    "                        (df['calories'] >= 900) & (df['calories'] < 1000), # 90\n",
    "                        (df['calories'] >= 1000) # 100\n",
    "                        ] \n",
    "\n",
    "    calories_values = [5, 15, 25, 35, 40, 50, 60, 70, 80, 90, 100]\n",
    "\n",
    "    df['calorie_score'] = np.select(calories_conditions, calories_values)\n",
    "\n",
    "\n",
    "    # Building elevation conditions and values\n",
    "    elevation_conditions = [(df['total_elevation_gain'] == 0),\n",
    "                            (df['total_elevation_gain'] >= 1) & (df['total_elevation_gain'] < 100),\n",
    "                            (df['total_elevation_gain'] >=100) & (df['total_elevation_gain'] < 200),\n",
    "                            (df['total_elevation_gain'] >= 200) & (df['total_elevation_gain'] < 300),\n",
    "                            (df['total_elevation_gain'] >= 300) & (df['total_elevation_gain'] < 400),\n",
    "                            (df['total_elevation_gain'] >= 400) & (df['total_elevation_gain'] < 500),\n",
    "                            (df['total_elevation_gain']> 500)]\n",
    "\n",
    "    elevation_values = [1,5,10,15,20,25,30]\n",
    "\n",
    "\n",
    "    df['total_elevation_gain_score'] = np.select(elevation_conditions, elevation_values)\n",
    "\n",
    "\n",
    "    # replacing some of the Nans with 1 \n",
    "    df['average_heartrate'] = df['average_heartrate'].fillna(1)\n",
    "    # building average heartrate conditions and values\n",
    "    avg_heartrate_conditions = [\n",
    "                                (df['average_heartrate'] > 0) & (df['average_heartrate'] < 100),\n",
    "                                (df['average_heartrate'] >= 100) & (df['average_heartrate'] < 130),\n",
    "                                (df['average_heartrate'] >= 130) & (df['average_heartrate'] < 145),\n",
    "                                (df['average_heartrate'] >= 145) & (df['average_heartrate'] < 155),\n",
    "                                (df['average_heartrate'] >= 155) & (df['average_heartrate'] < 165),\n",
    "                                (df['average_heartrate'] >= 165) & (df['average_heartrate'] < 170),\n",
    "                                (df['average_heartrate'] >= 170)\n",
    "                                ]\n",
    "\n",
    "    avg_heartrate_values = [5, 10, 15, 20, 30, 35, 40]\n",
    "\n",
    "    df['average_heartrate_score'] = np.select(avg_heartrate_conditions, avg_heartrate_values)\n",
    "\n",
    "    # replacing some of the Nans with 1 \n",
    "    df['max_heartrate'] = df['max_heartrate'].fillna(1)\n",
    "\n",
    "    # building max heartrate conditions and values\n",
    "    max_heartrate_conditions = [\n",
    "        (df['max_heartrate'] >= 0) & (df['max_heartrate'] < 80),\n",
    "        (df['max_heartrate'] >= 80) & (df['max_heartrate'] < 130),\n",
    "        (df['max_heartrate'] >= 130) & (df['max_heartrate'] < 165),\n",
    "        (df['max_heartrate'] >= 165) & (df['max_heartrate'] < 175),\n",
    "        (df['max_heartrate'] >= 175) & (df['max_heartrate'] < 185),\n",
    "        (df['max_heartrate'] >= 180)\n",
    "    ]\n",
    "\n",
    "    max_heartrate_values = [5, 10, 15, 25, 30, 35]\n",
    "\n",
    "    df['max_heartrate_score'] = np.select(max_heartrate_conditions, max_heartrate_values)\n",
    "\n",
    "\n",
    "    # avg time per lap conditions and values\n",
    "    avg_time_per_lap_conditions = [\n",
    "                                (df['avg_time_per_lap'] >= 0) & (df['avg_time_per_lap'] < 5),\n",
    "                                (df['avg_time_per_lap'] >= 5) & (df['avg_time_per_lap'] < 10),\n",
    "                                (df['avg_time_per_lap'] >= 10) & (df['avg_time_per_lap'] < 20),\n",
    "                                (df['avg_time_per_lap'] >= 20) & (df['avg_time_per_lap'] < 30),\n",
    "                                (df['avg_time_per_lap'] >= 30)\n",
    "                                ]\n",
    "\n",
    "\n",
    "    avg_time_per_lap_values = [1, 5, 10, 15, 20]\n",
    "\n",
    "\n",
    "    df['avg_time_per_lap_score'] = np.select(avg_time_per_lap_conditions, avg_time_per_lap_values)\n",
    "\n",
    "\n",
    "    # lap count conditions and values\n",
    "    lap_count_conditions = [(df['lap_count'] >= 0) & (df['lap_count'] < 3),\n",
    "                            (df['lap_count'] >= 3) & (df['lap_count'] < 4),\n",
    "                            (df['lap_count'] >= 4) & (df['lap_count'] < 5),\n",
    "                            (df['lap_count'] >= 5) & (df['lap_count'] < 6),\n",
    "                            (df['lap_count'] >= 6)\n",
    "                            ]\n",
    "\n",
    "    lap_count_values = [5, 10, 20, 25, 35]\n",
    "\n",
    "    df['lap_count_score'] = np.select(lap_count_conditions, lap_count_values)\n",
    "\n",
    "    # average speed conditions and values\n",
    "    avg_speed_conditions = [(df['sport_type'].isin(['Ride', 'MountainBikeRide'])) & (df['average_speed_km/h'] >= 0) & (df['average_speed_km/h'] < 6), #5 \n",
    "                            (df['sport_type'].isin(['Ride', 'MountainBikeRide'])) & (df['average_speed_km/h'] >= 6) & (df['average_speed_km/h'] < 12),#10\n",
    "                            (df['sport_type'].isin(['Ride', 'MountainBikeRide'])) & (df['average_speed_km/h'] >= 12) & (df['average_speed_km/h'] < 14),#15\n",
    "                            (df['sport_type'].isin(['Ride', 'MountainBikeRide'])) & (df['average_speed_km/h'] >= 14) & (df['average_speed_km/h'] < 18),#20\n",
    "                            (df['sport_type'].isin(['Ride', 'MountainBikeRide'])) & (df['average_speed_km/h'] >= 18),#25\n",
    "                            (df['average_speed_km/h'] == 0), #1\n",
    "                            (df['average_speed_km/h'] >= 0) & (df['average_speed_km/h'] < 5), # 5\n",
    "                            (df['average_speed_km/h'] >= 5) & (df['average_speed_km/h'] < 7), # 10\n",
    "                            (df['average_speed_km/h'] >= 7) & (df['average_speed_km/h'] < 9), # 15\n",
    "                            (df['average_speed_km/h'] >= 9) & (df['average_speed_km/h'] < 10), # 25 \n",
    "                            (df['average_speed_km/h'] >= 10) & (df['average_speed_km/h'] < 11), # 30\n",
    "                            (df['average_speed_km/h'] >= 11) , # 35\n",
    "    ]\n",
    "    avg_speed_values = [5,10,15,20,25,1,5,10,15,25,30,35]\n",
    "\n",
    "\n",
    "    df['avg_speed_score'] = np.select(avg_speed_conditions, avg_speed_values)\n",
    "\n",
    "\n",
    "    # max speed conditions and values\n",
    "    max_speed_conditions = [(df['sport_type'].isin(['Ride', 'MountainBikeRide'])) & (df['max_speed_km/h'] >= 0) & (df['max_speed_km/h'] < 15), # 5\n",
    "                            (df['sport_type'].isin(['Ride', 'MountainBikeRide'])) & (df['max_speed_km/h'] >= 15) & (df['max_speed_km/h'] < 20),# 10\n",
    "                            (df['sport_type'].isin(['Ride', 'MountainBikeRide'])) & (df['max_speed_km/h'] >= 20) & (df['max_speed_km/h'] < 25),# 15\n",
    "                            (df['sport_type'].isin(['Ride', 'MountainBikeRide'])) & (df['max_speed_km/h'] >= 25) & (df['max_speed_km/h'] < 30),# 20\n",
    "                            (df['sport_type'].isin(['Ride', 'MountainBikeRide'])) & (df['max_speed_km/h'] >= 30) & (df['max_speed_km/h'] < 35),# 25\n",
    "                            (df['sport_type'].isin(['Ride', 'MountainBikeRide'])) & (df['max_speed_km/h'] >= 35),# 30\n",
    "                            (df['max_speed_km/h'] == 0), # 1\n",
    "                            (df['max_speed_km/h'] >= 0) & (df['max_speed_km/h'] < 5),# 5\n",
    "                            (df['max_speed_km/h'] >= 5) & (df['max_speed_km/h'] < 10), # 10\n",
    "                            (df['max_speed_km/h'] >= 10) & (df['max_speed_km/h'] < 15), # 15\n",
    "                            (df['max_speed_km/h'] >= 15) & (df['max_speed_km/h'] < 20),# 20\n",
    "                            (df['max_speed_km/h'] >= 25) & (df['max_speed_km/h'] < 30),# 25\n",
    "                            (df['max_speed_km/h'] >= 30) & (df['max_speed_km/h'] < 35),# 30 \n",
    "                            (df['max_speed_km/h'] >= 35)# 35\n",
    "                            ]\n",
    "\n",
    "    max_speed_values = [5, 10, 15, 20, 25, 30, 1, 5, 10, 15, 20, 25, 30, 35]\n",
    "\n",
    "\n",
    "    df['max_speed_score'] = np.select(max_speed_conditions, max_speed_values)\n",
    "\n",
    "\n",
    "    # Getting effort score for each workout\n",
    "    df['effort_score'] = df['distance_score'] + df['workout_time_score'] + df['calorie_score'] + df['total_elevation_gain_score'] + df['average_heartrate_score'] + df['max_heartrate_score'] + df['avg_time_per_lap_score'] +df['lap_count_score'] + df['avg_speed_score'] +df['max_speed_score']\n",
    "\n",
    "\n",
    "    # creating low, medium and high effort scores column depending on the total amount of points\n",
    "    score_conditions = [(df['effort_score'] >= 0) & (df['effort_score'] < 100),\n",
    "                        (df['effort_score'] >= 100) & (df['effort_score'] < 125),\n",
    "                        (df['effort_score'] >= 125) & (df['effort_score'] < 150),\n",
    "                        (df['effort_score'] >= 150)]\n",
    "\n",
    "    score_values = ['No Effort','Low Effort','Medium Effort','High Effort']\n",
    "\n",
    "\n",
    "    df['effort_score_label'] = np.select(score_conditions, score_values)\n",
    "\n",
    "\n",
    "    score_rank_conditions = [(df['effort_score_label'] == 'No Effort'),\n",
    "                            (df['effort_score_label'] == 'Low Effort'),\n",
    "                            (df['effort_score_label'] == 'Medium Effort'),\n",
    "                            (df['effort_score_label'] == 'High Effort')]\n",
    "\n",
    "    score_rank_values = ['1','2','3','4']\n",
    "    df['effort_score_rank'] = np.select(score_rank_conditions, score_rank_values)\n",
    "    \n",
    "    return df"
   ]
  },
  {
   "cell_type": "code",
   "execution_count": null,
   "metadata": {},
   "outputs": [],
   "source": [
    "# Creating effort score columns\n",
    "all_workouts_df = CreateScoreColumns(all_workouts_df)"
   ]
  },
  {
   "cell_type": "code",
   "execution_count": null,
   "metadata": {},
   "outputs": [],
   "source": [
    "all_workouts_df.to_csv(r'C:\\Users\\Manuel Elizaldi\\Desktop\\Learning-Testing\\PyStrava\\Outputs\\full_table.csv',index=False)"
   ]
  },
  {
   "cell_type": "code",
   "execution_count": null,
   "metadata": {},
   "outputs": [],
   "source": [
    "# filtering main table into specific sports types\n",
    "running_activities = all_workouts_df.loc[all_workouts_df['sport_type'].isin(['Run','TrailRun'])]\n",
    "biking_activities = all_workouts_df.loc[all_workouts_df['sport_type'].isin(['MountainBikeRide','Ride'])]\n",
    "functional_activities = all_workouts_df.loc[all_workouts_df['sport_type'].isin(['Functional-Cardio Workout'])]"
   ]
  },
  {
   "cell_type": "code",
   "execution_count": null,
   "metadata": {},
   "outputs": [],
   "source": [
    "# Creating function that generates the effort counter table by workout\n",
    "def EffortLevelBreakdown(df):\n",
    "    effort_counter_table = df.groupby(['sport_type', 'effort_score_label'])['effort_score_label'].count().unstack().fillna('-')\n",
    "    return effort_counter_table"
   ]
  },
  {
   "cell_type": "code",
   "execution_count": null,
   "metadata": {},
   "outputs": [],
   "source": [
    "all_workouts_df = CleanWorkoutJson(all_workouts_json)\n",
    "all_workouts_df.head(5)"
   ]
  },
  {
   "cell_type": "code",
   "execution_count": null,
   "metadata": {},
   "outputs": [],
   "source": [
    "all_workouts_desc = DescribeWorkoutdf(all_workouts_df)\n",
    "all_workouts_desc"
   ]
  },
  {
   "attachments": {},
   "cell_type": "markdown",
   "metadata": {},
   "source": [
    "### Uploading to google drive"
   ]
  },
  {
   "cell_type": "code",
   "execution_count": null,
   "metadata": {},
   "outputs": [],
   "source": [
    "# This function uses gspread and pygsheets modules to upload data to google sheets\n",
    "def WriteToGsheet(service_file_path, spreadsheet_id, sheet_name, data_df):\n",
    "    \"\"\"\n",
    "    this function takes data_df and writes it under spreadsheet_id\n",
    "    and sheet_name using your credentials under service_file_path\n",
    "    \"\"\"\n",
    "    gc = pygsheets.authorize(service_file=service_file_path)\n",
    "    sh = gc.open_by_key(spreadsheet_id)\n",
    "    try:\n",
    "        sh.add_worksheet(sheet_name)\n",
    "    except:\n",
    "        pass\n",
    "    wks_write = sh.worksheet_by_title(sheet_name)\n",
    "    wks_write.clear('A1',None,'*')\n",
    "    wks_write.set_dataframe(data_df, (1,1), encoding='utf-8', fit=True)\n",
    "    wks_write.frozen_rows = 1\n",
    "    \n",
    "# Setting up parameters for write_to_gsheet function\n",
    "service_file_path = r'C:\\Users\\Manuel Elizaldi\\Desktop\\Learning-Testing\\PyStrava\\Credentials\\pacific-castle-303123-909a5ddcda92.json'\n",
    "spreadsheet_id = '1pomkAzlndHBl_czERrwKkoZFUkJRGFjyhRTeoWA6CS4'"
   ]
  },
  {
   "cell_type": "code",
   "execution_count": null,
   "metadata": {},
   "outputs": [],
   "source": [
    "sheet_name = 'General_Table'\n",
    "WriteToGsheet(service_file_path, spreadsheet_id,sheet_name,general_table)\n",
    "general_table.head(1)"
   ]
  },
  {
   "cell_type": "code",
   "execution_count": null,
   "metadata": {},
   "outputs": [],
   "source": [
    "# Building tables to describe each workout\n",
    "running_activities_desc = DescribeWorkoutdf(running_activities)\n",
    "biking_activities_desc = DescribeWorkoutdf(biking_activities)\n",
    "functional_activities_desc = DescribeWorkoutdf(functional_activities)"
   ]
  },
  {
   "cell_type": "code",
   "execution_count": null,
   "metadata": {},
   "outputs": [],
   "source": [
    "# Generating the table that shows how many workouts for each effort level \n",
    "running_effort_table = EffortLevelBreakdown(running_activities)\n",
    "biking_effort_table = EffortLevelBreakdown(biking_activities)\n",
    "functional_effort_table = EffortLevelBreakdown(functional_activities)\n",
    "all_workouts_effort_table = EffortLevelBreakdown(all_workouts_df)"
   ]
  },
  {
   "cell_type": "code",
   "execution_count": null,
   "metadata": {},
   "outputs": [],
   "source": [
    "sheet_name = 'effort_level_running'\n",
    "WriteToGsheet(service_file_path, spreadsheet_id,sheet_name,running_effort_table)"
   ]
  },
  {
   "cell_type": "code",
   "execution_count": null,
   "metadata": {},
   "outputs": [],
   "source": [
    "sheet_name = 'effort_level_biking'\n",
    "WriteToGsheet(service_file_path, spreadsheet_id,sheet_name,biking_effort_table)"
   ]
  },
  {
   "cell_type": "code",
   "execution_count": null,
   "metadata": {},
   "outputs": [],
   "source": [
    "sheet_name = 'effort_level_functional'\n",
    "WriteToGsheet(service_file_path, spreadsheet_id,sheet_name,functional_effort_table)"
   ]
  },
  {
   "cell_type": "code",
   "execution_count": null,
   "metadata": {},
   "outputs": [],
   "source": [
    "sheet_name = 'All_Effort_Levels'\n",
    "WriteToGsheet(service_file_path, spreadsheet_id,sheet_name,all_workouts_effort_table)"
   ]
  },
  {
   "cell_type": "code",
   "execution_count": null,
   "metadata": {},
   "outputs": [],
   "source": [
    "sheet_name = 'Activities_Breakdown'\n",
    "WriteToGsheet(service_file_path, spreadsheet_id,sheet_name,activities_breakdown)"
   ]
  },
  {
   "cell_type": "code",
   "execution_count": null,
   "metadata": {},
   "outputs": [],
   "source": [
    "sheet_name = 'General_Statistics'\n",
    "WriteToGsheet(service_file_path, spreadsheet_id,sheet_name,general_stats_df)\n",
    "general_stats_df"
   ]
  },
  {
   "cell_type": "code",
   "execution_count": null,
   "metadata": {},
   "outputs": [],
   "source": [
    "sheet_name = 'All_Workouts_Table'\n",
    "WriteToGsheet(service_file_path,spreadsheet_id,sheet_name,all_workouts_df)\n",
    "all_workouts_df.head(1)"
   ]
  },
  {
   "cell_type": "code",
   "execution_count": null,
   "metadata": {},
   "outputs": [],
   "source": [
    "sheet_name = 'All_Workouts_Desc'\n",
    "WriteToGsheet(service_file_path,spreadsheet_id,sheet_name,all_workouts_desc)\n",
    "all_workouts_desc"
   ]
  },
  {
   "cell_type": "code",
   "execution_count": null,
   "metadata": {},
   "outputs": [],
   "source": [
    "sheet_name = 'running_activities_desc'\n",
    "WriteToGsheet(service_file_path, spreadsheet_id,sheet_name,running_activities_desc)\n",
    "\n",
    "running_activities_desc"
   ]
  },
  {
   "cell_type": "code",
   "execution_count": null,
   "metadata": {},
   "outputs": [],
   "source": [
    "sheet_name = 'biking_activities_desc'\n",
    "WriteToGsheet(service_file_path, spreadsheet_id,sheet_name,biking_activities_desc)\n",
    "biking_activities_desc"
   ]
  },
  {
   "cell_type": "code",
   "execution_count": null,
   "metadata": {},
   "outputs": [],
   "source": [
    "sheet_name = 'functional_activities_desc'\n",
    "WriteToGsheet(service_file_path, spreadsheet_id,sheet_name,functional_activities_desc)\n",
    "functional_activities_desc"
   ]
  },
  {
   "attachments": {},
   "cell_type": "markdown",
   "metadata": {},
   "source": [
    "### Downloading google sheet to update it "
   ]
  },
  {
   "cell_type": "code",
   "execution_count": null,
   "metadata": {},
   "outputs": [],
   "source": [
    "activities\n",
    "updated_ids = list(activities['id'])"
   ]
  },
  {
   "cell_type": "code",
   "execution_count": null,
   "metadata": {},
   "outputs": [],
   "source": [
    "# Setting up parameters for gspread - updating google sheet\n",
    "\n",
    "service_file_path = r'C:\\Users\\Manuel Elizaldi\\Desktop\\Learning-Testing\\PyStrava\\Credentials\\pacific-castle-303123-909a5ddcda92.json'\n",
    "spreadsheet_id = '1pomkAzlndHBl_czERrwKkoZFUkJRGFjyhRTeoWA6CS4'\n",
    "myscope = ['https://spreadsheets.google.com/feeds', \n",
    "            'https://www.googleapis.com/auth/drive']\n",
    "\n",
    "mycred = ServiceAccountCredentials.from_json_keyfile_name(service_file_path,myscope) # type: ignore\n",
    "\n",
    "client = gspread.authorize(mycred)\n",
    "\n",
    "mysheet = client.open('workout-data').sheet1\n",
    "\n",
    "list_of_row = mysheet.get_all_records()\n",
    "all_workouts_df = pd.json_normalize(list_of_row)"
   ]
  },
  {
   "cell_type": "code",
   "execution_count": null,
   "metadata": {},
   "outputs": [],
   "source": [
    "not_updated_workouts = list(all_workouts_df['activity_id'])"
   ]
  },
  {
   "cell_type": "code",
   "execution_count": null,
   "metadata": {},
   "outputs": [],
   "source": [
    "len(not_updated_workouts)"
   ]
  },
  {
   "cell_type": "code",
   "execution_count": null,
   "metadata": {},
   "outputs": [],
   "source": [
    "len(updated_ids)"
   ]
  },
  {
   "cell_type": "code",
   "execution_count": null,
   "metadata": {},
   "outputs": [],
   "source": [
    "print('Adding',len(updated_ids) - len(not_updated_workouts),'new workouts.')"
   ]
  },
  {
   "cell_type": "code",
   "execution_count": null,
   "metadata": {},
   "outputs": [],
   "source": [
    "missing_workouts = list(set(updated_ids).difference(not_updated_workouts))\n",
    "missing_workouts"
   ]
  },
  {
   "cell_type": "code",
   "execution_count": null,
   "metadata": {},
   "outputs": [],
   "source": [
    "missing_workouts_json = GetAllWorkouts(missing_workouts,access_token)\n",
    "missing_workouts_df = CleanWorkoutJson(missing_workouts_json)\n",
    "missing_workouts_df = CreateScoreColumns(missing_workouts_df)"
   ]
  },
  {
   "cell_type": "code",
   "execution_count": null,
   "metadata": {},
   "outputs": [],
   "source": [
    "all_workouts_df = pd.concat([all_workouts_df, missing_workouts_df])"
   ]
  },
  {
   "cell_type": "code",
   "execution_count": null,
   "metadata": {},
   "outputs": [],
   "source": [
    "all_workouts_effort_table = EffortLevelBreakdown(all_workouts_df)\n",
    "activities_breakdown = CreateActivitiesBreakdown(all_workouts_df)\n",
    "all_workouts_desc = DescribeWorkoutdf(all_workouts_df)"
   ]
  },
  {
   "cell_type": "code",
   "execution_count": null,
   "metadata": {},
   "outputs": [],
   "source": [
    "sheet_name = 'All_Workouts_Table'\n",
    "WriteToGsheet(service_file_path,spreadsheet_id,sheet_name,all_workouts_df)\n",
    "\n",
    "sheet_name = 'All_Effort_Levels'\n",
    "WriteToGsheet(service_file_path, spreadsheet_id,sheet_name,all_workouts_effort_table)\n",
    "\n",
    "sheet_name = 'Activities_Breakdown'\n",
    "WriteToGsheet(service_file_path, spreadsheet_id,sheet_name,activities_breakdown)\n",
    "\n",
    "sheet_name = 'All_Workouts_Desc'\n",
    "WriteToGsheet(service_file_path,spreadsheet_id,sheet_name,all_workouts_desc)"
   ]
  },
  {
   "cell_type": "code",
   "execution_count": null,
   "metadata": {},
   "outputs": [],
   "source": []
  }
 ],
 "metadata": {
  "kernelspec": {
   "display_name": "base",
   "language": "python",
   "name": "python3"
  },
  "language_info": {
   "codemirror_mode": {
    "name": "ipython",
    "version": 3
   },
   "file_extension": ".py",
   "mimetype": "text/x-python",
   "name": "python",
   "nbconvert_exporter": "python",
   "pygments_lexer": "ipython3",
   "version": "3.8.5"
  },
  "orig_nbformat": 4,
  "vscode": {
   "interpreter": {
    "hash": "faa809c91e09e9be3088a32839afda431377966e67830b53d68c7eeedc66b396"
   }
  }
 },
 "nbformat": 4,
 "nbformat_minor": 2
}
