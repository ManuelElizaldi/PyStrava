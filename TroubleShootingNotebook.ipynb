{
 "cells": [
  {
   "cell_type": "code",
   "execution_count": 47,
   "metadata": {},
   "outputs": [],
   "source": [
    "# Project idea -> add workout counter in look studio google\n",
    "# Packages required for this project:\n",
    "import requests\n",
    "import pandas as pd\n",
    "import numpy as np\n",
    "import pygsheets\n",
    "import datetime\n",
    "from datetime import date\n",
    "import json\n",
    "import webbrowser\n",
    "from time import sleep\n",
    "import time\n",
    "import gspread\n",
    "from oauth2client.service_account import ServiceAccountCredentials\n",
    "from Functions import *"
   ]
  },
  {
   "cell_type": "markdown",
   "metadata": {},
   "source": [
    "### Working on UpdateGoogle Sheet function\n",
    "This will basically pull activities that are missing from the Google Sheet, saving time from doing a full pull."
   ]
  },
  {
   "cell_type": "code",
   "execution_count": 48,
   "metadata": {},
   "outputs": [],
   "source": [
    "# Importing credentials for Strava's API\n",
    "from Credentials import StravaCredentials\n",
    "\n",
    "# Copy and paste this link in your browser and extract code -> #https://www.strava.com/oauth/authorize?client_id=99205&response_type=code&redirect_uri=http://localhost/&approval_prompt=force&scope=profile:read_all,activity:read_all\n",
    "data = StravaCredentials.data\n",
    "\n",
    "# In case you need to get the code again uncomment these:\n",
    "# webbrowser.open(f\"https://www.strava.com/oauth/authorize?client_id={data['client_id']}&response_type=code&redirect_uri=http://localhost/&approval_prompt=force&scope=profile:read_all,activity:read_all\")\n",
    "data['code'] = input(\"From the web broswer enter the code:\")"
   ]
  },
  {
   "cell_type": "code",
   "execution_count": 49,
   "metadata": {},
   "outputs": [],
   "source": [
    "# Creating function that returns the access token that is used in the other api calls\n",
    "def GetToken(data):\n",
    "    token = requests.post(url= 'https://www.strava.com/api/v3/oauth/token',data=data).json()\n",
    "    access_token = token['access_token']\n",
    "    \n",
    "    return access_token\n",
    "\n",
    "access_token = GetToken(data)"
   ]
  },
  {
   "cell_type": "code",
   "execution_count": 52,
   "metadata": {},
   "outputs": [
    {
     "name": "stdout",
     "output_type": "stream",
     "text": [
      "Getting page number: 1\n",
      "Extraction of page 1 complete\n",
      "Getting page number: 2\n",
      "Extraction of page 2 complete\n",
      "Getting page number: 3\n",
      "Extraction of page 3 complete\n",
      "Getting page number: 4\n",
      "Extraction of page 4 complete\n",
      "Getting page number: 5\n",
      "Extraction of page 5 complete\n",
      "Getting page number: 6\n",
      "Extraction of page 6 complete\n",
      "Extraction done\n"
     ]
    }
   ],
   "source": [
    "def retrieve_activities(access_token):\n",
    "    url = \"https://www.strava.com/api/v3/activities\"\n",
    "    activities = pd.DataFrame()\n",
    "    page = 1\n",
    "    while True:\n",
    "        # get page of activities from Strava\n",
    "        print('Getting page number:', page)\n",
    "        r = requests.get(url + '?access_token=' + access_token + '&per_page=200' + '&page=' + str(page))\n",
    "        \n",
    "        # check for rate limit exceeded error\n",
    "        if r.status_code != 200:\n",
    "            print('Error:',r.status_code, 'stopping extraction')\n",
    "            break\n",
    "    \n",
    "        else:\n",
    "            r = r.json()\n",
    "            print(f'Extraction of page {page} complete')\n",
    "            # if no results then exit loop\n",
    "            if (not r):\n",
    "                print('Extraction done')\n",
    "                break\n",
    "            r = pd.json_normalize(r)\n",
    "            # adding the new table to the data frame that is storing all the data\n",
    "            activities = pd.concat([activities, r])\n",
    "            page += 1\n",
    "\n",
    "    try:\n",
    "        # clean up the dataframe\n",
    "        clean_activities = activities[['id',\n",
    "            'name',\n",
    "            'distance',\n",
    "            'elapsed_time',\n",
    "            'total_elevation_gain',\n",
    "            'sport_type',\n",
    "            'start_date',\n",
    "            'achievement_count',\n",
    "            'athlete_count',\n",
    "            'start_latlng',\n",
    "            'end_latlng',\n",
    "            'average_speed',\n",
    "            'max_speed',\n",
    "            'average_temp',\n",
    "            'average_heartrate',\n",
    "            'max_heartrate',\n",
    "            'average_cadence',\n",
    "            'elev_high',\n",
    "            'elev_low']]\n",
    "        return clean_activities\n",
    "    except:\n",
    "        ('Error occurred during extraction')\n",
    "\n",
    "# call the function to retrieve activities\n",
    "activities = retrieve_activities(access_token)\n",
    "clean_activities = activities"
   ]
  },
  {
   "cell_type": "code",
   "execution_count": 56,
   "metadata": {},
   "outputs": [],
   "source": [
    "id_list = clean_activities['id']\n",
    "id_list.to_csv(r'C:\\Users\\Manuel Elizaldi\\Desktop\\Learning-Testing\\PyStrava\\Outputs\\idlist.csv')"
   ]
  },
  {
   "cell_type": "code",
   "execution_count": 46,
   "metadata": {},
   "outputs": [],
   "source": [
    "f = open(r'C:\\Users\\Manuel Elizaldi\\Desktop\\Learning-Testing\\PyStrava\\Outputs\\all_workouts.json')\n",
    "workout_json = json.load(f)"
   ]
  },
  {
   "cell_type": "code",
   "execution_count": null,
   "metadata": {},
   "outputs": [],
   "source": []
  }
 ],
 "metadata": {
  "kernelspec": {
   "display_name": "base",
   "language": "python",
   "name": "python3"
  },
  "language_info": {
   "codemirror_mode": {
    "name": "ipython",
    "version": 3
   },
   "file_extension": ".py",
   "mimetype": "text/x-python",
   "name": "python",
   "nbconvert_exporter": "python",
   "pygments_lexer": "ipython3",
   "version": "3.8.5"
  },
  "orig_nbformat": 4
 },
 "nbformat": 4,
 "nbformat_minor": 2
}
