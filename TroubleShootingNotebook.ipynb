{
 "cells": [
  {
   "cell_type": "code",
   "execution_count": 1,
   "metadata": {},
   "outputs": [],
   "source": [
    "# Project idea -> add workout counter in look studio google\n",
    "# Packages required for this project:\n",
    "import requests\n",
    "import pandas as pd\n",
    "import numpy as np\n",
    "import pygsheets\n",
    "import datetime\n",
    "from datetime import date\n",
    "import json\n",
    "import webbrowser\n",
    "from time import sleep\n",
    "import time\n",
    "import gspread\n",
    "from oauth2client.service_account import ServiceAccountCredentials\n",
    "from Functions import *"
   ]
  },
  {
   "cell_type": "code",
   "execution_count": 2,
   "metadata": {},
   "outputs": [],
   "source": [
    "# Importing credentials for Strava's API\n",
    "from Credentials import StravaCredentials\n",
    "\n",
    "# Copy and paste this link in your browser and extract code -> #https://www.strava.com/oauth/authorize?client_id=99205&response_type=code&redirect_uri=http://localhost/&approval_prompt=force&scope=profile:read_all,activity:read_all\n",
    "data = StravaCredentials.data\n",
    "\n",
    "# In case you need to get the code again uncomment these:\n",
    "# webbrowser.open(f\"https://www.strava.com/oauth/authorize?client_id={data['client_id']}&response_type=code&redirect_uri=http://localhost/&approval_prompt=force&scope=profile:read_all,activity:read_all\")\n",
    "data['code'] = input(\"From the web broswer enter the code:\")"
   ]
  },
  {
   "cell_type": "code",
   "execution_count": 2,
   "metadata": {},
   "outputs": [],
   "source": [
    "# Setting up parameters for gspread - updating google sheet\n",
    "\n",
    "service_file_path = r'C:\\Users\\Manuel Elizaldi\\Desktop\\Learning-Testing\\PyStrava\\Credentials\\pacific-castle-303123-909a5ddcda92.json'\n",
    "spreadsheet_id = '1pomkAzlndHBl_czERrwKkoZFUkJRGFjyhRTeoWA6CS4'\n",
    "myscope = ['https://spreadsheets.google.com/feeds', \n",
    "            'https://www.googleapis.com/auth/drive']\n",
    "\n",
    "mycred = ServiceAccountCredentials.from_json_keyfile_name(service_file_path,myscope) # type: ignore\n",
    "client = gspread.authorize(mycred)\n",
    "mysheet = client.open('workout-data').sheet1\n",
    "list_of_row = mysheet.get_all_records()\n",
    "all_workouts_df = pd.DataFrame(list_of_row)"
   ]
  },
  {
   "cell_type": "code",
   "execution_count": 22,
   "metadata": {},
   "outputs": [
    {
     "name": "stdout",
     "output_type": "stream",
     "text": [
      "['Functional-Cardio Workout' 'Run' 'Ride' 'Hike' 'TrailRun' 'Yoga' 'Swim'\n",
      " 'Kayaking' 'MountainBikeRide' 'WeightTraining' 'Walk' 'Rowing'\n",
      " 'AlpineSki']\n"
     ]
    }
   ],
   "source": [
    "df = all_workouts_df.copy()\n",
    "df = df[['sport_type','pace']]\n",
    "df.head(5)\n",
    "\n",
    "\n",
    "print(all_workouts_df['sport_type'].unique())"
   ]
  },
  {
   "cell_type": "code",
   "execution_count": 18,
   "metadata": {},
   "outputs": [],
   "source": [
    "pace_conditions = [\n",
    "(df['sport_type'].isin(['Run'])) & (df['pace'] >= 5) & (df['pace'] < 6), #20\n",
    "(df['sport_type'].isin(['Run'])) & (df['pace'] >= 6) & (df['pace'] < 7), #15\n",
    "(df['sport_type'].isin(['Run'])) & (df['pace'] >= 7) & (df['pace'] < 10), #10\n",
    "(df['sport_type'].isin(['Run'])) & (df['pace'] > 10), #5\n",
    "(df['sport_type'].isin(['TrailRun'])) & (df['pace'] >= ) & (df['pace'] < ),\n",
    "(df['sport_type'].isin(['TrailRun'])) & (df['pace'] >= ) & (df['pace'] < ),\n",
    "(df['sport_type'].isin(['TrailRun'])) & (df['pace'] >= ) & (df['pace'] < ),\n",
    "(df['sport_type'].isin(['TrailRun'])) & (df['pace'] > ),\n",
    "(df['sport_type'].isin(['Hike'])) & (df['pace'] >= ) & (df['pace'] < ),\n",
    "(df['sport_type'].isin(['Hike'])) & (df['pace'] >= ) & (df['pace'] < ),\n",
    "(df['sport_type'].isin(['Hike'])) & (df['pace'] >= ) & (df['pace'] < ),\n",
    "(df['sport_type'].isin(['Hike'])) & (df['pace'] > ),\n",
    "(df['sport_type'].isin(['Swim'])) & (df['pace'] >= ) & (df['pace'] < ),\n",
    "(df['sport_type'].isin(['Swim'])) & (df['pace'] >= ) & (df['pace'] < ),\n",
    "(df['sport_type'].isin(['Swim'])) & (df['pace'] >= ) & (df['pace'] < ),\n",
    "(df['sport_type'].isin(['Swim'])) & (df['pace'] > ),\n",
    "(df['sport_type'].isin(['MountainBikeRide'])) & (df['pace'] >= ) & (df['pace'] < ),\n",
    "(df['sport_type'].isin(['MountainBikeRide'])) & (df['pace'] >= ) & (df['pace'] < ),\n",
    "(df['sport_type'].isin(['MountainBikeRide'])) & (df['pace'] >= ) & (df['pace'] < ),\n",
    "(df['sport_type'].isin(['MountainBikeRide'])) & (df['pace'] > ),\n",
    "(df['sport_type'].isin(['Ride'])) & (df['pace'] >= ) & (df['pace'] < ),\n",
    "(df['sport_type'].isin(['Ride'])) & (df['pace'] >= ) & (df['pace'] < ),\n",
    "(df['sport_type'].isin(['Ride'])) & (df['pace'] >= ) & (df['pace'] < ),\n",
    "(df['sport_type'].isin(['Ride'])) & (df['pace'] > ),\n",
    "(df['sport_type'].isin(['AlpineSki'])) & (df['pace'] >= ) & (df['pace'] < ),\n",
    "(df['sport_type'].isin(['AlpineSki'])) & (df['pace'] >= ) & (df['pace'] < ),\n",
    "(df['sport_type'].isin(['AlpineSki'])) & (df['pace'] >= ) & (df['pace'] < ),\n",
    "(df['sport_type'].isin(['AlpineSki'])) & (df['pace'] > )]\n",
    "\n",
    "pace_conditions_values = [20, 15, 10, 5]\n",
    "\n",
    "df['pace_score'] = np.select(pace_conditions, pace_conditions_values)"
   ]
  },
  {
   "cell_type": "code",
   "execution_count": 19,
   "metadata": {},
   "outputs": [
    {
     "data": {
      "text/html": [
       "<div>\n",
       "<style scoped>\n",
       "    .dataframe tbody tr th:only-of-type {\n",
       "        vertical-align: middle;\n",
       "    }\n",
       "\n",
       "    .dataframe tbody tr th {\n",
       "        vertical-align: top;\n",
       "    }\n",
       "\n",
       "    .dataframe thead th {\n",
       "        text-align: right;\n",
       "    }\n",
       "</style>\n",
       "<table border=\"1\" class=\"dataframe\">\n",
       "  <thead>\n",
       "    <tr style=\"text-align: right;\">\n",
       "      <th></th>\n",
       "      <th>sport_type</th>\n",
       "      <th>pace</th>\n",
       "      <th>pace_score</th>\n",
       "    </tr>\n",
       "  </thead>\n",
       "  <tbody>\n",
       "    <tr>\n",
       "      <th>2</th>\n",
       "      <td>Run</td>\n",
       "      <td>6.35</td>\n",
       "      <td>15</td>\n",
       "    </tr>\n",
       "    <tr>\n",
       "      <th>4</th>\n",
       "      <td>Run</td>\n",
       "      <td>5.52</td>\n",
       "      <td>20</td>\n",
       "    </tr>\n",
       "    <tr>\n",
       "      <th>10</th>\n",
       "      <td>Run</td>\n",
       "      <td>5.36</td>\n",
       "      <td>20</td>\n",
       "    </tr>\n",
       "    <tr>\n",
       "      <th>12</th>\n",
       "      <td>Run</td>\n",
       "      <td>5.52</td>\n",
       "      <td>20</td>\n",
       "    </tr>\n",
       "    <tr>\n",
       "      <th>21</th>\n",
       "      <td>Run</td>\n",
       "      <td>5.38</td>\n",
       "      <td>20</td>\n",
       "    </tr>\n",
       "  </tbody>\n",
       "</table>\n",
       "</div>"
      ],
      "text/plain": [
       "   sport_type  pace  pace_score\n",
       "2         Run  6.35          15\n",
       "4         Run  5.52          20\n",
       "10        Run  5.36          20\n",
       "12        Run  5.52          20\n",
       "21        Run  5.38          20"
      ]
     },
     "execution_count": 19,
     "metadata": {},
     "output_type": "execute_result"
    }
   ],
   "source": [
    "df.loc[df['sport_type'] == 'Run'].head(5)"
   ]
  },
  {
   "cell_type": "code",
   "execution_count": null,
   "metadata": {},
   "outputs": [],
   "source": [
    "    distance_conditions = [\n",
    "        (df['distance']==0), # 1\n",
    "        (df['sport_type'].isin(['Run', 'TrailRun'])) & (df['distance'] >= 0) & (df['distance'] < 5), # 5\n",
    "        (df['sport_type'].isin(['Run', 'TrailRun'])) & (df['distance'] >= 5) & (df['distance'] < 10), # 10 \n",
    "        (df['sport_type'].isin(['Run', 'TrailRun'])) & (df['distance'] >= 10) & (df['distance'] < 13), # 25 \n",
    "        (df['sport_type'].isin(['Run', 'TrailRun'])) & (df['distance'] >= 13), # 30\n",
    "        (df['sport_type'].isin(['Ride', 'MountainBikeRide'])) & (df['distance'] >= 1) & (df['distance'] < 5), # 5\n",
    "        (df['sport_type'].isin(['Ride', 'MountainBikeRide'])) & (df['distance'] >= 5) & (df['distance'] < 8.5), # 10\n",
    "        (df['sport_type'].isin(['Ride', 'MountainBikeRide'])) & (df['distance'] >= 8.5) & (df['distance'] < 12), # 15\n",
    "        (df['sport_type'].isin(['Ride', 'MountainBikeRide'])) & (df['distance'] >= 12) & (df['distance'] < 15), # 20\n",
    "        (df['sport_type'].isin(['Ride', 'MountainBikeRide'])) & (df['distance'] >= 15), # 25\n",
    "        (df['sport_type'].isin(['AlpineSki']) & (df['distance'] >= 10) & (df['distance'] < 15)), # 10\n",
    "        (df['sport_type'].isin(['AlpineSki']) & (df['distance'] >= 15) & (df['distance'] < 20)), # 15\n",
    "        (df['sport_type'].isin(['AlpineSki']) & (df['distance'] >= 20)), # 20\n",
    "        (df['sport_type'].isin(['Swim'])) & (df['distance'] >= 0.10) & (df['distance'] < 0.20), # 10\n",
    "        (df['sport_type'].isin(['Swim'])) & (df['distance'] >= 0.20) & (df['distance'] < 0.30), # 15\n",
    "        (df['sport_type'].isin(['Swim'])) & (df['distance'] >= 0.30) & (df['distance'] < 0.35), # 20\n",
    "        (df['sport_type'].isin(['Swim'])) & (df['distance'] >= 0.35) & (df['distance'] < 0.40), # 25\n",
    "        (df['sport_type'].isin(['Swim'])) & (df['distance'] >= 0.40), # 30\n",
    "        (df['distance']> 0.5) & (df['distance'] < 1), # 1\n",
    "        (df['distance']> 1) & (df['distance'] < 2), # 2\n",
    "        (df['distance']> 2) & (df['distance'] < 3), # 3\n",
    "        (df['distance']> 3) & (df['distance'] < 4), # 4\n",
    "        (df['distance']> 4) # 5\n",
    "        ]\n",
    "\n",
    "    distance_conditions_values = [1, 5, 10, 25, 30, # running\n",
    "                                5, 10, 15, 20, 25, # biking\n",
    "                                10, 15, 20, # skiing\n",
    "                                10, 15, 20, 25, 30, # swimming\n",
    "                                1, 2, 3, 4, 5 # special activitie \n",
    "                                ]\n",
    "\n",
    "    # applying conditions and values\n",
    "    df['distance_score'] = np.select(distance_conditions, distance_conditions_values)"
   ]
  }
 ],
 "metadata": {
  "kernelspec": {
   "display_name": "base",
   "language": "python",
   "name": "python3"
  },
  "language_info": {
   "codemirror_mode": {
    "name": "ipython",
    "version": 3
   },
   "file_extension": ".py",
   "mimetype": "text/x-python",
   "name": "python",
   "nbconvert_exporter": "python",
   "pygments_lexer": "ipython3",
   "version": "3.8.5"
  },
  "orig_nbformat": 4
 },
 "nbformat": 4,
 "nbformat_minor": 2
}
