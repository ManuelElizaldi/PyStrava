{
 "cells": [
  {
   "cell_type": "code",
   "execution_count": 2,
   "metadata": {},
   "outputs": [],
   "source": [
    "# Project idea -> add workout counter in look studio google\n",
    "# Packages required for this project:\n",
    "import requests\n",
    "import pandas as pd\n",
    "import gspread\n",
    "from df2gspread import df2gspread as d2g\n",
    "import gspread_dataframe as gd\n",
    "import pygsheets\n",
    "from datetime import date\n",
    "import json\n",
    "\n",
    "# Package to save datasets to be used in another script for next analysis\n",
    "from sklearn import datasets\n",
    "\n",
    "# enableing max columns for dataframes\n",
    "pd.set_option('display.max_columns', None)\n",
    "\n",
    "# Importing credentials for Strava's API\n",
    "from Credentials import StravaCredentials"
   ]
  },
  {
   "cell_type": "code",
   "execution_count": 2,
   "metadata": {},
   "outputs": [],
   "source": [
    "# Creating date variable\n",
    "today = date.today().strftime('%B/%m/%Y')\n",
    "\n",
    "# Input to store temporary code from -> #https://www.strava.com/oauth/authorize?client_id=99205&response_type=code&redirect_uri=http://localhost/&approval_prompt=force&scope=profile:read_all,activity:read_all\n",
    "data = StravaCredentials.data"
   ]
  },
  {
   "cell_type": "code",
   "execution_count": null,
   "metadata": {},
   "outputs": [],
   "source": [
    "# Getting refresh token\n",
    "token = requests.post(url= 'https://www.strava.com/api/v3/oauth/token',data=data).json()\n",
    "\n",
    "# Accessing the token json to get refresh token and access token\n",
    "refresh_token = token['refresh_token']\n",
    "access_token = token['access_token']\n",
    "access_token"
   ]
  },
  {
   "cell_type": "code",
   "execution_count": null,
   "metadata": {},
   "outputs": [],
   "source": [
    "# Getting athlete info\n",
    "athlete_url = 'https://www.strava.com/api/v3/athlete'\n",
    "athlete = requests.get(athlete_url+'?access_token='+access_token).json()\n",
    "\n",
    "# Covnerting json into dataframe and doing some data cleaning\n",
    "df_athlete = pd.json_normalize(athlete)\n",
    "df_athlete = df_athlete.T\n",
    "df_athlete = df_athlete.reset_index()\n",
    "df_athlete = df_athlete.rename(columns={0:'info'})\n",
    "df_athlete"
   ]
  },
  {
   "cell_type": "code",
   "execution_count": null,
   "metadata": {},
   "outputs": [],
   "source": [
    "# Setting up url and page\n",
    "# This API request gives us the list of activities. \n",
    "# The table lacks certain details that we will get from another API request\n",
    "page = 1\n",
    "url = \"https://www.strava.com/api/v3/activities\"\n",
    "access_token = token['access_token']\n",
    "# Create the dataframe ready for the API call to store your activity data\n",
    "activities = pd.DataFrame()\n",
    "while True:\n",
    "    # get page of activities from Strava\n",
    "    print('Getting page number:',page)\n",
    "    r = requests.get(url + '?access_token=' + access_token + '&per_page=200' + '&page=' + str(page))\n",
    "    r = r.json()\n",
    "    print(f'Extraction of page {page} Complete')\n",
    "    # if no results then exit loop\n",
    "    if (not r):\n",
    "        print('Extration Done')\n",
    "        break\n",
    "    r = pd.json_normalize(r)\n",
    "    activities = activities.append(r)\n",
    "    \n",
    "    page += 1\n",
    "\n",
    "clean_activities = activities[['id',\n",
    "'name',\n",
    "'distance',\n",
    "'elapsed_time',\n",
    "'total_elevation_gain',\n",
    "'sport_type',\n",
    "'start_date','achievement_count',\n",
    "'athlete_count',\n",
    "'start_latlng',\n",
    "'end_latlng',\n",
    "'average_speed',\n",
    "'max_speed',\n",
    "'average_temp',\n",
    "'average_heartrate',\n",
    "'max_heartrate',\n",
    "'average_cadence',\n",
    "'elev_high',\n",
    "'elev_low']]"
   ]
  },
  {
   "cell_type": "code",
   "execution_count": null,
   "metadata": {},
   "outputs": [],
   "source": [
    "# Checkpoint so I don't have to run API get request\n",
    "#activities_copy = pd.read_csv(r'C:\\Users\\Manuel Elizaldi\\Desktop\\Learning-Testing\\StravaAPI\\Outputs\\clean_activities.csv')\n",
    "\n",
    "# Creating copy of activitieas dataframe and renaming some columns\n",
    "general_activities_copy = clean_activities.copy()\n",
    "general_activities_copy = general_activities_copy.rename(columns={'elapsed_time':'workout_time_sec','sport_type':'workout_type'})\n",
    "general_activities_copy.head()"
   ]
  },
  {
   "cell_type": "code",
   "execution_count": null,
   "metadata": {},
   "outputs": [],
   "source": [
    "# Cleaning dataframe and converting units \n",
    "# Aprox calories burned during workout calculation\n",
    "# Formual -> CB = T * (0.6309*H + 0.1988*W + 0.2017*A - 55.0969) / 4.184\n",
    "# CB ->  is the number of calories burned\n",
    "# T ->  is the duration of exercise in minutes\n",
    "# H ->  is your average heart rate in beats per minute\n",
    "# W -> is your weight in kilograms = 80\n",
    "# A -> is your age in years\n",
    "general_activities_copy['aprox_calories_burned'] = round((general_activities_copy['workout_time_sec']/60) * ((0.6309*general_activities_copy['average_heartrate']) + (0.1988*80) + (0.2017*26 - 55.0969)) / 4.184,0)\n",
    "\n",
    "# from meters to kilometers\n",
    "general_activities_copy[['distance']] = round(general_activities_copy['distance']/1000,2)\n",
    "\n",
    "# from seconds to minutes\n",
    "general_activities_copy['workout_time_min'] = round(general_activities_copy['workout_time_sec']/60,2)\n",
    "\n",
    "# Fix start_date column into the correct format\n",
    "general_activities_copy[[\"start_date\"]] = pd.to_datetime(general_activities_copy['start_date']).dt.date\n",
    "\n",
    "# Changing name of workout type => Workout\n",
    "general_activities_copy['workout_type'] = general_activities_copy['workout_type'].replace({'Workout':'Functional-Cardio Workout'})\n",
    "\n",
    "# Preview\n",
    "print('Number of recorded workouts:',len(general_activities_copy))\n",
    "general_activities_copy.head()"
   ]
  },
  {
   "cell_type": "code",
   "execution_count": null,
   "metadata": {},
   "outputs": [],
   "source": [
    "# Creating additional dataframes for specific activities:\n",
    "# Running type workouts\n",
    "running_activities = general_activities_copy.loc[general_activities_copy['workout_type'].isin(['Run','TrailRun'])]\n",
    "\n",
    "# Biking type workouts\n",
    "biking_activities = general_activities_copy.loc[general_activities_copy['workout_type'].isin(['Ride','MountainBikeRide'])]\n",
    "\n",
    "# Functional type workouts\n",
    "functional_activities = general_activities_copy.loc[general_activities_copy['workout_type'].isin(['Functional-Cardio Workout'])]"
   ]
  },
  {
   "cell_type": "code",
   "execution_count": null,
   "metadata": {},
   "outputs": [],
   "source": [
    "# Variables for activities breakdown dataframe \n",
    "today_msg = f'Total workouts as of {today}'\n",
    "total_workouts = len(general_activities_copy)\n",
    "\n",
    "# Breakdown of workout types:\n",
    "new = [today_msg,total_workouts]\n",
    "activities_breakdown = general_activities_copy['workout_type'].value_counts().rename_axis('Sport').reset_index(name='Count')\n",
    "activities_breakdown = activities_breakdown.append(pd.Series(new, index=['Sport','Count']), ignore_index=True)\n",
    "activities_breakdown"
   ]
  },
  {
   "cell_type": "code",
   "execution_count": null,
   "metadata": {},
   "outputs": [],
   "source": [
    "\n",
    "# Creating list of ids of these activities to use in the detailed workout api request \n",
    "running_id_list = list(running_activities['id'])\n",
    "biking_id_list = list(biking_activities['id'])\n",
    "functional_id_list = list(functional_activities['id'])\n",
    "\n",
    "# General statistics\n",
    "first_recorded_workout = min(general_activities_copy['start_date'])\n",
    "most_recent_workout=max(general_activities_copy['start_date'])\n",
    "average_workout_duration=round(general_activities_copy['workout_time_min'].mean(),2)\n",
    "average_calories_burned_per_workout=round(general_activities_copy['aprox_calories_burned'].mean(),0)\n",
    "average_distance_ran=round(running_activities['distance'].mean(),0)\n",
    "average_biking_distance=round(biking_activities['distance'].mean(),0)\n",
    "\n",
    "# Storing average calories for later analysis comparing calories from garmin, strava and my calculated value\n",
    "%store average_calories_burned_per_workout\n",
    "\n",
    "# Creating dataframe from general statistics variables\n",
    "# Create the DataFrame\n",
    "general_stats_df = pd.DataFrame({\n",
    "    'First Workout':first_recorded_workout,\n",
    "    'Most Recent Workout': most_recent_workout,\n",
    "    'Average Workout Duration in Minutes':average_workout_duration,\n",
    "    'Average Calories Burned Per Workout':average_calories_burned_per_workout,\n",
    "    'Average Distance Ran in Kilometers':average_distance_ran,\n",
    "    'Average Biking Distance in Kilometers':average_biking_distance\n",
    "},index=['Info'])\n",
    "\n",
    "# Transposing dataframe, setting new index and column\n",
    "general_stats_df = general_stats_df.T\n",
    "general_stats_df = general_stats_df.reset_index()\n",
    "general_stats_df = general_stats_df.rename(columns={'index':'Info','Info':'Data'})\n",
    "general_stats_df"
   ]
  },
  {
   "cell_type": "code",
   "execution_count": null,
   "metadata": {},
   "outputs": [],
   "source": [
    "# General statistics - pending incorporate some of this numbers to the avobe graph\n",
    "# Pending Analysis\n",
    "activities_copy[['distance','workout_time_min','average_speed','max_speed','average_heartrate','average_temp','max_heartrate','average_cadence','aprox_calories_burned']].describe()"
   ]
  },
  {
   "cell_type": "code",
   "execution_count": null,
   "metadata": {},
   "outputs": [],
   "source": [
    "req = requests.get(url = f'https://www.strava.com/api/v3/activities/8633145882?access_token='+access_token)\n",
    "req.status_code == 200"
   ]
  },
  {
   "cell_type": "code",
   "execution_count": null,
   "metadata": {},
   "outputs": [],
   "source": [
    "# Get detailed view of workouts function:\n",
    "# This function will get the data for each workout, if it reaches the API request limit it will stop the process\n",
    "# The API rate limit allows us to do 100 requests for each 15 mintues. To prvent passing this limit we only grab -\n",
    "# - the most recent 100 workouts from each list.\n",
    "def GetWorkoutData(workout_list):\n",
    "    workout_info = []\n",
    "    workout_num = 1\n",
    "    if len(workout_list)>100:\n",
    "        print('This workout list is too large, reducing to the 100 most recent workouts.')\n",
    "        workout_list = workout_list[:100]\n",
    "        for i in workout_list:\n",
    "            print('Extracting workout:', workout_num)\n",
    "            req = requests.get(url = f'https://www.strava.com/api/v3/activities/{i}?access_token='+access_token)\n",
    "            if req.status_code == 200:\n",
    "                req = req.json()\n",
    "                workout_info.append(req)\n",
    "                workout_num += 1\n",
    "            else:\n",
    "                print('API Rate limit exceeded, stopping extraction')\n",
    "                break\n",
    "    else:\n",
    "        for i in workout_list:\n",
    "            print('Extracting workout:',workout_num)\n",
    "            req = requests.get(url = f'https://www.strava.com/api/v3/activities/{i}?access_token='+access_token)\n",
    "            if req.status_code == 200:\n",
    "                req = req.json()\n",
    "                workout_info.append(req)\n",
    "                workout_num += 1\n",
    "            else:\n",
    "                print('API Rate limit exceeded, stopping extraction')\n",
    "                break\n",
    "\n",
    "\n",
    "    return workout_info "
   ]
  },
  {
   "cell_type": "code",
   "execution_count": null,
   "metadata": {},
   "outputs": [],
   "source": [
    "pd.json_normalize(requests.get(url = f'https://www.strava.com/api/v3/activities/8611884034?access_token='+access_token).json())"
   ]
  },
  {
   "cell_type": "code",
   "execution_count": null,
   "metadata": {},
   "outputs": [],
   "source": [
    "386/60"
   ]
  },
  {
   "cell_type": "code",
   "execution_count": null,
   "metadata": {},
   "outputs": [],
   "source": [
    "# Using the function to get a json of the detailed data for functional, running and biking workouts\n",
    "# Make sure to run one at a time every 15 minutes to not reach API rate limit\n",
    "functional_workouts = GetWorkoutData(functional_id_list)\n",
    "running_workouts = GetWorkoutData(running_id_list)\n",
    "biking_workouts = GetWorkoutData(biking_id_list)\n",
    "\n",
    "# saving a copy for further analysis\n",
    "#functional_workouts_json = functional_workouts"
   ]
  },
  {
   "cell_type": "code",
   "execution_count": null,
   "metadata": {},
   "outputs": [],
   "source": [
    "# Getting laps from the functional workouts dataframe\n",
    "functional_workouts_laps = pd.json_normalize(functional_workouts,'laps')\n",
    "functional_workouts_laps = functional_workouts_laps.rename(columns={'activity.id':'activity_id'})\n",
    "functional_workouts_laps"
   ]
  },
  {
   "cell_type": "code",
   "execution_count": null,
   "metadata": {},
   "outputs": [],
   "source": [
    "functional_workouts_df = pd.json_normalize(functional_workouts)\n",
    "functional_workouts_df"
   ]
  },
  {
   "cell_type": "code",
   "execution_count": null,
   "metadata": {},
   "outputs": [],
   "source": [
    "functional_workouts_laps = functional_workouts_laps[functional_workouts_laps.activity_id != 8611884034]\n",
    "functional_workouts_laps['activity_id'].value_counts()"
   ]
  },
  {
   "cell_type": "code",
   "execution_count": null,
   "metadata": {},
   "outputs": [],
   "source": [
    "functional_workouts_df = pd.json_normalize(functional_workouts)\n",
    "functional_workouts_df.head()"
   ]
  },
  {
   "attachments": {},
   "cell_type": "markdown",
   "metadata": {},
   "source": [
    "# Checkpoint -> connect to google drive api -> then connect to google looker\n",
    "\n",
    "#### article in stackoverflow to set up function to upload data to googlesheet:\n",
    "#### https://stackoverflow.com/questions/62917910/how-can-i-export-pandas-dataframe-to-google-sheets-using-python"
   ]
  },
  {
   "cell_type": "code",
   "execution_count": null,
   "metadata": {},
   "outputs": [],
   "source": [
    "# This function uses gspread and pygsheets modules to upload data to google sheets\n",
    "def WriteToGsheet(service_file_path, spreadsheet_id, sheet_name, data_df):\n",
    "    \"\"\"\n",
    "    this function takes data_df and writes it under spreadsheet_id\n",
    "    and sheet_name using your credentials under service_file_path\n",
    "    \"\"\"\n",
    "    gc = pygsheets.authorize(service_file=service_file_path)\n",
    "    sh = gc.open_by_key(spreadsheet_id)\n",
    "    try:\n",
    "        sh.add_worksheet(sheet_name)\n",
    "    except:\n",
    "        pass\n",
    "    wks_write = sh.worksheet_by_title(sheet_name)\n",
    "    wks_write.clear('A1',None,'*')\n",
    "    wks_write.set_dataframe(data_df, (1,1), encoding='utf-8', fit=True)\n",
    "    wks_write.frozen_rows = 1\n",
    "    \n",
    "# Setting up parameters for write_to_gsheet function\n",
    "service_file_path = r'C:\\Users\\Manuel Elizaldi\\Desktop\\Learning-Testing\\StravaAPI\\Credentials\\pacific-castle-303123-909a5ddcda92.json'\n",
    "spreadsheet_id = '1pomkAzlndHBl_czERrwKkoZFUkJRGFjyhRTeoWA6CS4'\n",
    "   "
   ]
  },
  {
   "cell_type": "code",
   "execution_count": null,
   "metadata": {},
   "outputs": [],
   "source": [
    "general_activities_copy"
   ]
  },
  {
   "cell_type": "code",
   "execution_count": null,
   "metadata": {},
   "outputs": [],
   "source": [
    "# Uploading functional workouts to google sheets:\n",
    "functional_workouts_sheet = 'specific_data' \n",
    "WriteToGsheet(service_file_path,spreadsheet_id,functional_workouts_sheet,functional_workouts_df)"
   ]
  },
  {
   "cell_type": "code",
   "execution_count": null,
   "metadata": {},
   "outputs": [],
   "source": [
    "# Uploading general stats dataframe to google sheets:\n",
    "general_stats_sheet = 'General_Statistics' \n",
    "WriteToGsheet(service_file_path,spreadsheet_id,general_stats_sheet,general_stats_df)"
   ]
  },
  {
   "cell_type": "code",
   "execution_count": null,
   "metadata": {},
   "outputs": [],
   "source": [
    "# Uploading activities breakdown to google sheets:\n",
    "activities_breakdown_sheet = 'Activities_Breakdown'\n",
    "WriteToGsheet(service_file_path,spreadsheet_id,activities_breakdown_sheet,activities_breakdown)"
   ]
  },
  {
   "cell_type": "code",
   "execution_count": null,
   "metadata": {},
   "outputs": [],
   "source": [
    "#creating checkpoint !\n",
    "# In this example, the my_list variable represents the list that we want to save as a JSON file. We use the open() function to open a new file called \"my_list.json\" in write mode, and then use the json.dump() method to write the list to the file in JSON format.\n",
    "with open('functional_workouts_json.json','w') as f:\n",
    "    json.dump(functional_workouts_json,f)\n",
    "# The with statement is used here to automatically close the file when we're done writing to it. The \"w\" parameter in the open() function specifies that we're opening the file in write mode. If the file already exists, its contents will be overwritten. If it doesn't exist, a new file will be created.\n",
    "# f = open(r'C:\\Users\\Manuel Elizaldi\\Desktop\\Learning-Testing\\StravaAPI\\Outputs\\functional_workouts_json.json')\n",
    "# functional_workouts_json = json.load(f)"
   ]
  }
 ],
 "metadata": {
  "kernelspec": {
   "display_name": "base",
   "language": "python",
   "name": "python3"
  },
  "language_info": {
   "codemirror_mode": {
    "name": "ipython",
    "version": 3
   },
   "file_extension": ".py",
   "mimetype": "text/x-python",
   "name": "python",
   "nbconvert_exporter": "python",
   "pygments_lexer": "ipython3",
   "version": "3.8.5"
  },
  "orig_nbformat": 4,
  "vscode": {
   "interpreter": {
    "hash": "faa809c91e09e9be3088a32839afda431377966e67830b53d68c7eeedc66b396"
   }
  }
 },
 "nbformat": 4,
 "nbformat_minor": 2
}
