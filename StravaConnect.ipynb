{
 "cells": [
  {
   "cell_type": "code",
   "execution_count": null,
   "metadata": {},
   "outputs": [],
   "source": [
    "# Project idea -> add workout counter in look studio google\n",
    "# Packages required for this project:\n",
    "import requests\n",
    "import pandas as pd\n",
    "import pygsheets\n",
    "from datetime import date\n",
    "import json\n",
    "import webbrowser\n",
    "import time\n",
    "from time import sleep\n",
    "\n",
    "\n",
    "# Package to save datasets to be used in another script for next analysis\n",
    "from sklearn import datasets\n",
    "\n",
    "# enableing max columns for dataframes\n",
    "pd.set_option('display.max_columns', None)\n",
    "\n",
    "# Importing credentials for Strava's API\n",
    "from Credentials import StravaCredentials\n",
    "\n",
    "# Creating date variable\n",
    "today = date.today().strftime('%B/%d/%Y')"
   ]
  },
  {
   "cell_type": "code",
   "execution_count": null,
   "metadata": {},
   "outputs": [],
   "source": [
    "# Pending, this is not working, not extracting StravaCredentials variable:\n",
    "# Copy and paste this link in your browser and extract code -> #https://www.strava.com/oauth/authorize?client_id=99205&response_type=code&redirect_uri=http://localhost/&approval_prompt=force&scope=profile:read_all,activity:read_all\n",
    "data = StravaCredentials.data\n",
    "\n",
    "# In case you need to get the code again uncomment these:\n",
    "# webbrowser.open(f\"https://www.strava.com/oauth/authorize?client_id={data['client_id']}&response_type=code&redirect_uri=http://localhost/&approval_prompt=force&scope=profile:read_all,activity:read_all\")\n",
    "# data['code'] = input(\"From the web broswer enter the code:\")"
   ]
  },
  {
   "cell_type": "code",
   "execution_count": null,
   "metadata": {},
   "outputs": [],
   "source": [
    "# Creating function that returns the access token that is used in the other api calls\n",
    "def GetToken(data):\n",
    "    token = requests.post(url= 'https://www.strava.com/api/v3/oauth/token',data=data).json()\n",
    "    access_token = token['access_token']\n",
    "    \n",
    "    return access_token"
   ]
  },
  {
   "cell_type": "code",
   "execution_count": null,
   "metadata": {},
   "outputs": [],
   "source": [
    "# # Getting refresh and access token\n",
    "# token = requests.post(url= 'https://www.strava.com/api/v3/oauth/token',data=data).json()\n",
    "\n",
    "# # Accessing the token json to get refresh token and access token\n",
    "# refresh_token = token['refresh_token']\n",
    "# access_token = token['access_token']"
   ]
  },
  {
   "cell_type": "code",
   "execution_count": null,
   "metadata": {},
   "outputs": [],
   "source": [
    "access_token = GetToken(data)\n",
    "access_token"
   ]
  },
  {
   "cell_type": "code",
   "execution_count": null,
   "metadata": {},
   "outputs": [],
   "source": [
    "# Getting athlete info\n",
    "athlete_url = 'https://www.strava.com/api/v3/athlete'\n",
    "athlete = requests.get(athlete_url+'?access_token='+access_token).json()\n",
    "\n",
    "# Covnerting json into dataframe and doing some data cleaning\n",
    "df_athlete = pd.json_normalize(athlete)\n",
    "df_athlete = df_athlete.T\n",
    "df_athlete = df_athlete.reset_index()\n",
    "df_athlete = df_athlete.rename(columns={0:'info'})\n",
    "df_athlete"
   ]
  },
  {
   "cell_type": "code",
   "execution_count": null,
   "metadata": {},
   "outputs": [],
   "source": [
    "# This API request gives us the general list of activities. \n",
    "# The table lacks certain details that we will get from another API request \n",
    "page = 1\n",
    "url = \"https://www.strava.com/api/v3/activities\"\n",
    "#access_token = token['access_token']\n",
    "#access_token = token\n",
    "# Create the dataframe ready for the API call to store your activity data\n",
    "activities = pd.DataFrame()\n",
    "while True:\n",
    "    # get page of activities from Strava\n",
    "    print('Getting page number:',page)\n",
    "    r = requests.get(url + '?access_token=' + access_token + '&per_page=200' + '&page=' + str(page))\n",
    "    r = r.json()\n",
    "    print(f'Extraction of page {page} Complete')\n",
    "    # if no results then exit loop\n",
    "    if (not r):\n",
    "        print('Extration Done')\n",
    "        break\n",
    "    r = pd.json_normalize(r)\n",
    "    activities = activities.append(r) # type: ignore\n",
    "    \n",
    "    page += 1\n",
    "\n",
    "    clean_activities = activities[['id',\n",
    "    'name',\n",
    "    'distance',\n",
    "    'elapsed_time',\n",
    "    'total_elevation_gain',\n",
    "    'sport_type',\n",
    "    'start_date','achievement_count',\n",
    "    'athlete_count',\n",
    "    'start_latlng',\n",
    "    'end_latlng',\n",
    "    'average_speed',\n",
    "    'max_speed',\n",
    "    'average_temp',\n",
    "    'average_heartrate',\n",
    "    'max_heartrate',\n",
    "    'average_cadence',\n",
    "    'elev_high',\n",
    "    'elev_low']]"
   ]
  },
  {
   "cell_type": "code",
   "execution_count": null,
   "metadata": {},
   "outputs": [],
   "source": [
    "# Checkpoint so I don't have to run API get request\n",
    "#table = pd.read_csv(r'C:\\Users\\Manuel Elizaldi\\Desktop\\Learning-Testing\\StravaAPI\\Outputs\\clean_activities.csv')\n",
    "\n",
    "# Creating copy of activitieas dataframe and renaming some columns\n",
    "#clean_activities = GetWorkouts(access_token)\n",
    "general_table = clean_activities.copy()\n",
    "general_table = general_table.rename(columns={'elapsed_time':'workout_time_sec'})\n",
    "general_table.head()"
   ]
  },
  {
   "cell_type": "code",
   "execution_count": null,
   "metadata": {},
   "outputs": [],
   "source": [
    "# Cleaning dataframe and converting units \n",
    "# Aprox calories burned during workout calculation\n",
    "# Formual -> CB = T * (0.6309*H + 0.1988*W + 0.2017*A - 55.0969) / 4.184\n",
    "# CB ->  is the number of calories burned\n",
    "# T ->  is the duration of exercise in minutes\n",
    "# H ->  is your average heart rate in beats per minute\n",
    "# W -> is your weight in kilograms = 80\n",
    "# A -> is your age in years\n",
    "general_table['aprox_calories_burned'] = round((general_table['workout_time_sec']/60) * ((0.6309*general_table['average_heartrate']) + (0.1988*80) + (0.2017*26 - 55.0969)) / 4.184,0)\n",
    "\n",
    "# from meters to kilometers\n",
    "general_table[['distance']] = round(general_table['distance']/1000,2)\n",
    "\n",
    "# from seconds to minutes\n",
    "general_table['workout_time_min'] = round(general_table['workout_time_sec']/60,2)\n",
    "\n",
    "# Fix start_date column into the correct format\n",
    "general_table[[\"start_date\"]] = pd.to_datetime(general_table['start_date']).dt.date\n",
    "\n",
    "# Changing name of workout type => Workout\n",
    "general_table['sport_type'] = general_table['sport_type'].replace({'Workout':'Functional-Cardio Workout'})\n",
    "\n",
    "# Preview\n",
    "print('Number of recorded workouts:',len(general_table))\n",
    "general_table.head()"
   ]
  },
  {
   "cell_type": "code",
   "execution_count": null,
   "metadata": {},
   "outputs": [],
   "source": [
    "# Function that cleans the output from the function GetWorkouts():\n",
    "def CleanGeneral_Table(general_table):\n",
    "    general_table['aprox_calories_burned'] = round((general_table['workout_time_sec']/60) * ((0.6309*general_table['average_heartrate']) + (0.1988*80) + (0.2017*26 - 55.0969)) / 4.184,0)\n",
    "\n",
    "    # from meters to kilometers\n",
    "    general_table[['distance']] = round(general_table['distance']/1000,2)\n",
    "\n",
    "    # from seconds to minutes\n",
    "    general_table['workout_time_min'] = round(general_table['workout_time_sec']/60,2)\n",
    "\n",
    "    # Fix start_date column into the correct format\n",
    "    general_table[[\"start_date\"]] = pd.to_datetime(general_table['start_date']).dt.date\n",
    "\n",
    "    # Changing name of workout type => Workout\n",
    "    general_table['sport_type'] = general_table['workout_type'].replace({'Workout':'Functional-Cardio Workout'})\n",
    "    \n",
    "    return general_table"
   ]
  },
  {
   "cell_type": "code",
   "execution_count": null,
   "metadata": {},
   "outputs": [],
   "source": [
    "# Creating additional dataframes for specific activities:\n",
    "# Running type workouts\n",
    "running_activities = general_table.loc[general_table['sport_type'].isin(['Run','TrailRun'])]\n",
    "\n",
    "# Biking type workouts\n",
    "biking_activities = general_table.loc[general_table['sport_type'].isin(['Ride','MountainBikeRide'])]\n",
    "\n",
    "# Functional type workouts\n",
    "functional_activities = general_table.loc[general_table['sport_type'].isin(['Functional-Cardio Workout'])]"
   ]
  },
  {
   "cell_type": "code",
   "execution_count": null,
   "metadata": {},
   "outputs": [],
   "source": [
    "def CreateActivitiesBreakdown(general_table):\n",
    "    # Variables for activities breakdown dataframe \n",
    "    today_msg = f'Total workouts as of {today}'\n",
    "    total_workouts = len(general_table)\n",
    "\n",
    "    # Breakdown of workout types:\n",
    "    new = [today_msg,total_workouts]\n",
    "    activities_breakdown = general_table['sport_type'].value_counts().rename_axis('Sport').reset_index(name='Count')\n",
    "    activities_breakdown = activities_breakdown.append(pd.Series(new, index=['Sport','Count']), ignore_index=True)\n",
    "    return activities_breakdown"
   ]
  },
  {
   "cell_type": "code",
   "execution_count": null,
   "metadata": {},
   "outputs": [],
   "source": [
    "# Variables for activities breakdown dataframe \n",
    "today_msg = f'Total workouts as of {today}'\n",
    "total_workouts = len(general_table)\n",
    "\n",
    "# Breakdown of workout types:\n",
    "new = [today_msg,total_workouts]\n",
    "activities_breakdown = general_table['sport_type'].value_counts().rename_axis('Sport').reset_index(name='Count')\n",
    "activities_breakdown = activities_breakdown.append(pd.Series(new, index=['Sport','Count']), ignore_index=True)\n",
    "activities_breakdown"
   ]
  },
  {
   "cell_type": "code",
   "execution_count": null,
   "metadata": {},
   "outputs": [],
   "source": [
    "# General statistics\n",
    "first_recorded_workout = min(general_table['start_date'])\n",
    "most_recent_workout=max(general_table['start_date'])\n",
    "average_workout_duration=round(general_table['workout_time_min'].mean(),2)\n",
    "aprox_average_calories_burned_per_workout=round(general_table['aprox_calories_burned'].mean(),0)\n",
    "average_distance_ran=round(running_activities['distance'].mean(),0)\n",
    "average_biking_distance=round(biking_activities['distance'].mean(),0)\n",
    "\n",
    "# Storing average calories for later analysis comparing calories from garmin, strava and my calculated value\n",
    "# %store average_calories_burned_per_workout\n",
    "\n",
    "# Creating dataframe from general statistics variables\n",
    "# Create the DataFrame\n",
    "general_stats_df = pd.DataFrame({\n",
    "    'First Workout':first_recorded_workout,\n",
    "    'Most Recent Workout': most_recent_workout,\n",
    "    'Average Workout Duration in Minutes':average_workout_duration,\n",
    "    'Approximate Average Calories Burned Per Workout':aprox_average_calories_burned_per_workout,\n",
    "    'Average Distance Ran in Kilometers':average_distance_ran,\n",
    "    'Average Biking Distance in Kilometers':average_biking_distance\n",
    "},index=['Info'])\n",
    "\n",
    "# Transposing dataframe, setting new index and column\n",
    "general_stats_df = general_stats_df.T\n",
    "general_stats_df = general_stats_df.reset_index()\n",
    "general_stats_df = general_stats_df.rename(columns={'index':'Info','Info':'Data'})\n",
    "general_stats_df"
   ]
  },
  {
   "cell_type": "code",
   "execution_count": null,
   "metadata": {},
   "outputs": [],
   "source": [
    "# Creating list of ids of these activities to use in the detailed workout api request \n",
    "running_id_list = list(running_activities['id'])\n",
    "biking_id_list = list(biking_activities['id'])\n",
    "functional_id_list = list(functional_activities['id'])\n",
    "most_recent_id_lsit = list(general_table['id'][0:100])\n",
    "all_workouts_list = list(general_table['id'])"
   ]
  },
  {
   "cell_type": "code",
   "execution_count": null,
   "metadata": {},
   "outputs": [],
   "source": [
    "len(all_workouts_list)"
   ]
  },
  {
   "cell_type": "code",
   "execution_count": null,
   "metadata": {},
   "outputs": [],
   "source": [
    "# Get detailed view of workouts function:\n",
    "# This function will get the data for each workout, if it reaches the API request limit it will stop the process\n",
    "# The API rate limit allows us to do 100 requests for each 15 mintues. To prvent passing this limit we only grab -\n",
    "# - the most recent 100 workouts from each list.\n",
    "def GetWorkoutData(workout_list):\n",
    "    workout_info = []\n",
    "    workout_num = 1\n",
    "    if len(workout_list)>100:\n",
    "        print('This workout list is too large, reducing to the 100 most recent workouts.')\n",
    "        workout_list = workout_list[:100]\n",
    "        for i in workout_list:\n",
    "            print('Extracting workout:', workout_num)\n",
    "            req = requests.get(url = f'https://www.strava.com/api/v3/activities/{i}?access_token='+access_token)\n",
    "            if req.status_code == 200:\n",
    "                req = req.json()\n",
    "                workout_info.append(req)\n",
    "                workout_num += 1\n",
    "            else:\n",
    "                print('Error in authorization or API limit exceeded, stopping extraction')\n",
    "                break\n",
    "    else:\n",
    "        for i in workout_list:\n",
    "            print('Extracting workout:',workout_num)\n",
    "            req = requests.get(url = f'https://www.strava.com/api/v3/activities/{i}?access_token='+access_token)\n",
    "            if req.status_code == 200:\n",
    "                req = req.json()\n",
    "                workout_info.append(req)\n",
    "                workout_num += 1\n",
    "            else:\n",
    "                print('Error in authorization or API limit exceeded, stopping extraction')\n",
    "                break\n",
    "    return workout_info"
   ]
  },
  {
   "cell_type": "code",
   "execution_count": null,
   "metadata": {},
   "outputs": [],
   "source": [
    "def GetAllWorkouts(workout_list, access_token):\n",
    "    workout_info = []\n",
    "    workout_num = 1\n",
    "    rate_limit = 100\n",
    "    time_interval = 900  # 15 minutes = 900 seconds\n",
    "    wait_time = ((len(workout_list)/100) * 900)/60\n",
    "\n",
    "    # Perform iterations while respecting the rate limit\n",
    "    print(f'Extracting all workouts, due to the API rate limit, this will take {wait_time} minutes to run.')\n",
    "    for i in workout_list:\n",
    "        print('Extracting workout:', workout_num)\n",
    "        req = requests.get(url=f'https://www.strava.com/api/v3/activities/{i}?access_token='+access_token)\n",
    "        if req.status_code == 200:\n",
    "            req = req.json()\n",
    "            workout_info.append(req)\n",
    "            workout_num += 1\n",
    "        elif req.status_code == 429 and 'message' in req.json() and req.json()['message'] == 'Rate Limit Exceeded':\n",
    "            # If rate limit exceeded error is received, wait for 15 minutes before continuing\n",
    "            print('Rate limit exceeded. Waiting for 15 minutes...')\n",
    "            time.sleep(time_interval)\n",
    "        else:\n",
    "            print('Error occurred during API request:', req.status_code, req.json())\n",
    "            break\n",
    "\n",
    "        # Pause after every 100 iterations and wait for 15 minutes\n",
    "        if workout_num % rate_limit == 0:\n",
    "            print(f'Reached rate limit of {rate_limit} requests. Sleeping for {int(time_interval/60)} minutes.')\n",
    "            time.sleep(time_interval)\n",
    "\n",
    "    return workout_info"
   ]
  },
  {
   "cell_type": "code",
   "execution_count": null,
   "metadata": {},
   "outputs": [],
   "source": [
    "all_workouts_json = GetAllWorkouts(all_workouts_list,access_token)"
   ]
  },
  {
   "cell_type": "code",
   "execution_count": null,
   "metadata": {},
   "outputs": [],
   "source": [
    "running_workouts = GetWorkoutData(running_id_list)\n",
    "biking_workouts = GetWorkoutData(biking_id_list)\n",
    "functional_workouts = GetWorkoutData(functional_id_list)"
   ]
  },
  {
   "cell_type": "code",
   "execution_count": null,
   "metadata": {},
   "outputs": [],
   "source": [
    "# This function will parse the workout json, grab the relevant columns, clean the units and create a lap counter for the final dataframe\n",
    "def CleanWorkoutJson(workout_json):\n",
    "    df = pd.json_normalize(workout_json)\n",
    "    df[['distance']] = round(df['distance']/1000,2)\n",
    "    df['workout_time_min'] = round(df['elapsed_time']/60,2)\n",
    "    df[[\"start_date\"]] = pd.to_datetime(df['start_date']).dt.date\n",
    "    df[['average_speed']] = df['average_speed'] * 3.6\n",
    "    df[['max_speed']] = df['max_speed'] * 3.6\n",
    "    df = df.rename(columns={'id':'activity_id','average_speed':'average_speed_km/h','max_speed':'max_speed_km/h'})\n",
    "    df = df[['activity_id',\n",
    "               'name',\n",
    "               'start_date',\n",
    "               'sport_type',\n",
    "               'distance',\n",
    "               'workout_time_min',\n",
    "               'calories',\n",
    "               'total_elevation_gain',\n",
    "               'start_latlng',\n",
    "               'end_latlng',\n",
    "               'average_speed_km/h',\n",
    "               'max_speed_km/h',\n",
    "               'average_temp',\n",
    "               'average_heartrate',\n",
    "               'max_heartrate']]\n",
    "    \n",
    "    workout_laps = pd.json_normalize(workout_json,'laps')\n",
    "    workout_laps = workout_laps[['activity.id','name','elapsed_time','distance','average_heartrate','max_heartrate','average_speed','max_speed']]\n",
    "    workout_laps = workout_laps.rename(columns={'activity.id':'activity_id',\n",
    "                                                'name':'lap',\n",
    "                                                'elapsed_time':'lap_elapsed_time_min',\n",
    "                                                'distance':'lap_distance',\n",
    "                                                'average_heartrate':'lap_average_heartrate',\n",
    "                                                'max_heartrate':'lap_max_heartrate_km/h',\n",
    "                                                'average_speed':'lap_average_speed_km/h',\n",
    "                                                'max_speed':'lap_max_speed'})\n",
    "    workout_laps['lap_elapsed_time_min'] = round(workout_laps['lap_elapsed_time_min']/60,2)\n",
    "    workout_laps['lap_distance'] = round(workout_laps['lap_distance']/1000,2)\n",
    "\n",
    "    avg_time_per_lap = workout_laps.groupby('activity_id').mean()\n",
    "    avg_time_per_lap = avg_time_per_lap.reset_index()\n",
    "    avg_time_per_lap = avg_time_per_lap[['activity_id','lap_elapsed_time_min']]\n",
    "    avg_time_per_lap = avg_time_per_lap.rename(columns={'lap_elapsed_time_min':'avg_time_per_lap'})    \n",
    "    \n",
    "    lap_counter = workout_laps['activity_id'].value_counts().rename_axis('activity_id').reset_index(name='lap_count')\n",
    "    \n",
    "    lap_stats = avg_time_per_lap.merge(lap_counter,on='activity_id')\n",
    "    \n",
    "    merged = df.merge(lap_stats, on = 'activity_id')\n",
    "    merged['lap_count'] = pd.to_numeric(merged['lap_count'])\n",
    "    return merged"
   ]
  },
  {
   "cell_type": "code",
   "execution_count": null,
   "metadata": {},
   "outputs": [],
   "source": [
    "# Function that calculates stats from workout dataframe\n",
    "def DescribeWorkoutdf(workout_df):\n",
    "    first_workout = min(workout_df['start_date'], default=\"EMPTY\")\n",
    "    last_workout=max(workout_df['start_date'], default=\"EMPTY\")\n",
    "    avg_workout_duration=round(workout_df['workout_time_min'].mean(),2)\n",
    "    avg_calories_burned_per_workout=workout_df['calories'].mean()\n",
    "    avg_distance=round(workout_df['distance'].mean(),0)\n",
    "    avg_heart_rate=round(workout_df['average_heartrate'].mean(),0)\n",
    "    avg_max_heart_rate=round(workout_df['max_heartrate'].mean(),0)\n",
    "    avg_speed=round(workout_df['average_speed_km/h'].mean(),0) * 3.6\n",
    "    avg_max_speed=round(workout_df['max_speed_km/h'].mean(),0) * 3.6\n",
    "    workout_counter = len(workout_df)\n",
    "    avg_laps = round(workout_df['lap_count'].mean(),0)\n",
    "\n",
    "    # Creating dataframe from general statistics variables\n",
    "    # Create the DataFrame\n",
    "    grl_stats_df = pd.DataFrame({\n",
    "        'First Recorded Workout:':first_workout,\n",
    "        'Most Recent Workout': last_workout,\n",
    "        'Average Workout Duration in Minutes':avg_workout_duration,\n",
    "        'Average Calories Burned Per Workout':avg_calories_burned_per_workout,\n",
    "        'Average Distance in Kilometers':avg_distance,\n",
    "        'Average Heart Rate':avg_heart_rate,\n",
    "        'Average Max Hear Rate':avg_max_heart_rate,\n",
    "        'Average Speed km/h':avg_speed,\n",
    "        'Average Max Speed km/h':avg_max_speed,\n",
    "        'Number of Workouts:': workout_counter,\n",
    "        'Average Number of Laps':avg_laps\n",
    "    },index=['Info'])\n",
    "\n",
    "\n",
    "    # Transposing dataframe, setting new index and column\n",
    "    grl_stats_df = grl_stats_df.T\n",
    "    grl_stats_df = grl_stats_df.reset_index()\n",
    "    grl_stats_df = grl_stats_df.rename(columns={'index':'Info','Info':'Data'})\n",
    "    return grl_stats_df"
   ]
  },
  {
   "cell_type": "code",
   "execution_count": null,
   "metadata": {},
   "outputs": [],
   "source": [
    "all_workouts_df = CleanWorkoutJson(all_workouts_json)\n",
    "all_workouts_df.head(5)"
   ]
  },
  {
   "cell_type": "code",
   "execution_count": null,
   "metadata": {},
   "outputs": [],
   "source": [
    "all_workouts_desc = DescribeWorkoutdf(all_workouts_df)\n",
    "all_workouts_desc"
   ]
  },
  {
   "attachments": {},
   "cell_type": "markdown",
   "metadata": {},
   "source": [
    "### Uploading to google drive"
   ]
  },
  {
   "cell_type": "code",
   "execution_count": null,
   "metadata": {},
   "outputs": [],
   "source": [
    "# This function uses gspread and pygsheets modules to upload data to google sheets\n",
    "def WriteToGsheet(service_file_path, spreadsheet_id, sheet_name, data_df):\n",
    "    \"\"\"\n",
    "    this function takes data_df and writes it under spreadsheet_id\n",
    "    and sheet_name using your credentials under service_file_path\n",
    "    \"\"\"\n",
    "    gc = pygsheets.authorize(service_file=service_file_path)\n",
    "    sh = gc.open_by_key(spreadsheet_id)\n",
    "    try:\n",
    "        sh.add_worksheet(sheet_name)\n",
    "    except:\n",
    "        pass\n",
    "    wks_write = sh.worksheet_by_title(sheet_name)\n",
    "    wks_write.clear('A1',None,'*')\n",
    "    wks_write.set_dataframe(data_df, (1,1), encoding='utf-8', fit=True)\n",
    "    wks_write.frozen_rows = 1\n",
    "    \n",
    "# Setting up parameters for write_to_gsheet function\n",
    "service_file_path = r'C:\\Users\\Manuel Elizaldi\\Desktop\\Learning-Testing\\Workout-Analysis-API\\Credentials\\pacific-castle-303123-909a5ddcda92.json'\n",
    "spreadsheet_id = '1pomkAzlndHBl_czERrwKkoZFUkJRGFjyhRTeoWA6CS4'"
   ]
  },
  {
   "cell_type": "code",
   "execution_count": null,
   "metadata": {},
   "outputs": [],
   "source": [
    "sheet_name = 'General_Table'\n",
    "WriteToGsheet(service_file_path, spreadsheet_id,sheet_name,general_table)\n",
    "general_table.head(1)"
   ]
  },
  {
   "cell_type": "code",
   "execution_count": null,
   "metadata": {},
   "outputs": [],
   "source": [
    "sheet_name = 'Activities_Breakdown'\n",
    "WriteToGsheet(service_file_path, spreadsheet_id,sheet_name,activities_breakdown)\n",
    "activities_breakdown"
   ]
  },
  {
   "cell_type": "code",
   "execution_count": null,
   "metadata": {},
   "outputs": [],
   "source": [
    "sheet_name = 'General_Statistics'\n",
    "WriteToGsheet(service_file_path, spreadsheet_id,sheet_name,general_stats_df)\n",
    "general_stats_df"
   ]
  },
  {
   "cell_type": "code",
   "execution_count": null,
   "metadata": {},
   "outputs": [],
   "source": [
    "sheet_name = 'All_Workouts_Table'\n",
    "WriteToGsheet(service_file_path,spreadsheet_id,sheet_name,all_workouts_df)\n",
    "all_workouts_df.head(1)"
   ]
  },
  {
   "cell_type": "code",
   "execution_count": null,
   "metadata": {},
   "outputs": [],
   "source": [
    "sheet_name = 'All_Workouts_Desc'\n",
    "WriteToGsheet(service_file_path,spreadsheet_id,sheet_name,all_workouts_desc)\n",
    "all_workouts_desc"
   ]
  },
  {
   "attachments": {},
   "cell_type": "markdown",
   "metadata": {},
   "source": [
    "### Checkpoint\n",
    "#### uploading all workouts table from my files"
   ]
  },
  {
   "cell_type": "code",
   "execution_count": null,
   "metadata": {},
   "outputs": [],
   "source": [
    "# Importing excel file as checkpoint - this way we don't have to run the api again\n",
    "workout_data = pd.read_excel(r'C:\\Users\\Manuel Elizaldi\\Desktop\\Learning-Testing\\Workout-Analysis-API\\Outputs\\workout_data.xls', sheet_name='All_Workouts_Table')\n",
    "\n",
    "# Changing name of workout type => Workout\n",
    "workout_data['sport_type'] = workout_data['sport_type'].replace({'Workout':'Functional-Cardio Workout'})\n",
    "\n",
    "# Creating additional dataframes for specific activities:\n",
    "# Running type workouts\n",
    "running_activities = workout_data.loc[workout_data['sport_type'].isin(['Run','TrailRun'])]\n",
    "\n",
    "# Biking type workouts\n",
    "biking_activities = workout_data.loc[workout_data['sport_type'].isin(['Ride','MountainBikeRide'])]\n",
    "\n",
    "# Functional type workouts\n",
    "functional_activities = workout_data.loc[workout_data['sport_type'].isin(['Functional-Cardio Workout'])]"
   ]
  },
  {
   "cell_type": "code",
   "execution_count": null,
   "metadata": {},
   "outputs": [],
   "source": [
    "# Building tables to describe each workout\n",
    "running_activities_desc = DescribeWorkoutdf(running_activities)\n",
    "biking_activities_desc = DescribeWorkoutdf(biking_activities)\n",
    "functional_activities_desc = DescribeWorkoutdf(functional_activities)"
   ]
  },
  {
   "cell_type": "code",
   "execution_count": null,
   "metadata": {},
   "outputs": [],
   "source": [
    "sheet_name = 'running_activities_desc'\n",
    "WriteToGsheet(service_file_path, spreadsheet_id,sheet_name,running_activities_desc)\n",
    "\n",
    "running_activities_desc"
   ]
  },
  {
   "cell_type": "code",
   "execution_count": null,
   "metadata": {},
   "outputs": [],
   "source": [
    "sheet_name = 'biking_activities_desc'\n",
    "WriteToGsheet(service_file_path, spreadsheet_id,sheet_name,biking_activities_desc)\n",
    "biking_activities_desc"
   ]
  },
  {
   "cell_type": "code",
   "execution_count": null,
   "metadata": {},
   "outputs": [],
   "source": [
    "sheet_name = 'functional_activities_desc'\n",
    "WriteToGsheet(service_file_path, spreadsheet_id,sheet_name,functional_activities_desc)\n",
    "functional_activities_desc"
   ]
  },
  {
   "cell_type": "code",
   "execution_count": null,
   "metadata": {},
   "outputs": [],
   "source": []
  }
 ],
 "metadata": {
  "kernelspec": {
   "display_name": "base",
   "language": "python",
   "name": "python3"
  },
  "language_info": {
   "codemirror_mode": {
    "name": "ipython",
    "version": 3
   },
   "file_extension": ".py",
   "mimetype": "text/x-python",
   "name": "python",
   "nbconvert_exporter": "python",
   "pygments_lexer": "ipython3",
   "version": "3.8.5"
  },
  "orig_nbformat": 4,
  "vscode": {
   "interpreter": {
    "hash": "faa809c91e09e9be3088a32839afda431377966e67830b53d68c7eeedc66b396"
   }
  }
 },
 "nbformat": 4,
 "nbformat_minor": 2
}
